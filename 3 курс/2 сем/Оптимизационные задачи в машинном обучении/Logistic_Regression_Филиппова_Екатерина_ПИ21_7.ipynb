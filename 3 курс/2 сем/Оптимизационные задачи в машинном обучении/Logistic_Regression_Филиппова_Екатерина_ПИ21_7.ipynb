{
 "cells": [
  {
   "cell_type": "code",
   "execution_count": 1,
   "id": "73ec807c",
   "metadata": {},
   "outputs": [],
   "source": [
    "#Загрузим необходимые библиотеки\n",
    "import numpy as np\n",
    "import pandas as pd\n",
    "import matplotlib.pyplot as plt"
   ]
  },
  {
   "cell_type": "code",
   "execution_count": 2,
   "id": "d35debbb",
   "metadata": {},
   "outputs": [
    {
     "data": {
      "text/plain": [
       "array([[39],\n",
       "       [36],\n",
       "       [60],\n",
       "       [21],\n",
       "       [27],\n",
       "       [12],\n",
       "       [51],\n",
       "       [57],\n",
       "       [54],\n",
       "       [42],\n",
       "       [18],\n",
       "       [ 9],\n",
       "       [48],\n",
       "       [66],\n",
       "       [ 6],\n",
       "       [30],\n",
       "       [24],\n",
       "       [33],\n",
       "       [15],\n",
       "       [21]])"
      ]
     },
     "metadata": {},
     "output_type": "display_data"
    },
    {
     "data": {
      "text/plain": [
       "array([[1],\n",
       "       [0],\n",
       "       [1],\n",
       "       [1],\n",
       "       [1],\n",
       "       [0],\n",
       "       [1],\n",
       "       [1],\n",
       "       [1],\n",
       "       [0],\n",
       "       [0],\n",
       "       [0],\n",
       "       [1],\n",
       "       [1],\n",
       "       [0],\n",
       "       [0],\n",
       "       [0],\n",
       "       [1],\n",
       "       [0],\n",
       "       [0]])"
      ]
     },
     "metadata": {},
     "output_type": "display_data"
    }
   ],
   "source": [
    "#Исходные данные: x - расходы на рекламу, Y - объемы продаж\n",
    "x = np.array([39, 36, 60, 21, 27, 12, 51, 57, 54, 42, 18, 9, 48, 66, 6, 30, 24, 33, 15, 21]).reshape(20, 1)\n",
    "Y = np.array([1, 0, 1, 1, 1, 0, 1, 1, 1, 0, 0, 0, 1, 1, 0, 0, 0, 1, 0, 0]).reshape(20, 1)\n",
    "display(x, Y)\n"
   ]
  },
  {
   "cell_type": "markdown",
   "id": "5e4d302b",
   "metadata": {},
   "source": [
    "Реализовать класс модели логистической регрессии с использованием:\n",
    "а) максимизации логарифмического правдоподобия методом градиентного подъема\n",
    "б) минимизации функции потерь (кросс-энтропии) методом градиентного спуска\n",
    "\n",
    "Сравнить результаты (время исполнения и достигнутые значения accuracy и f1) в случаях а и б при одном и том же числе шагов и скорости обучения.\n",
    "\n"
   ]
  },
  {
   "cell_type": "code",
   "execution_count": 3,
   "id": "11276174",
   "metadata": {},
   "outputs": [],
   "source": [
    "#Реализуем цикл градиентного спуска\n",
    "class LogisticRegressionGD(object):\n",
    "    def __init__(self):\n",
    "        self.a = None\n",
    "    def sigmoid(self, z):\n",
    "        return 1/(1 + np.exp(-z))\n",
    "    def predict(self, x):\n",
    "        return self.sigmoid(np.matmul(x , self.a))\n",
    "    def coefs(self):\n",
    "        return self.a\n",
    "    def LogLikelihood(self, x, Y):\n",
    "        return (np.matmul(np.transpose(Y), np.log(self.predict(x) + 1e-8)) + np.matmul(np.ones((1, Y.shape[0])) - np.transpose(Y),\n",
    "                                                                                      np.log(np.ones((Y.shape[0], 1)) - self.predict(x) + 1e-8)))[0][0]\n",
    "    def CrossEntropy(self, x, Y):\n",
    "        return (np.matmul(np.transpose(Y), np.log(self.predict(x) + 1e-8)) - np.matmul(np.ones((1, Y.shape[0])) - np.transpose(Y),\n",
    "                                                                                      np.log(np.ones((Y.shape[0], 1)) - self.predict(x) + 1e-8)))[0][0]    \n",
    "    def accuracy(self, x, Y):\n",
    "        return (Y == self.predict(x)).mean()\n",
    "    \n",
    "    def fit(self, x, Y, alpha = 0.001, epsylon = 0.001, max_steps = 5000, Rtype = \"LL\"):\n",
    "        self.a = np.zeros(x.shape[1]).reshape(x.shape[1],1)\n",
    "        steps, errors = [], []\n",
    "        step = 0\n",
    "        for _ in range(max_steps):\n",
    "            if Rtype == \"LL\":\n",
    "                new_error = self.LogLikelihood(x, Y)\n",
    "                dT_a = np.matmul(np.transpose(x), Y - self.predict(x))\n",
    "                #display(\"old a = \",self.a, \"new_error = \", new_error, \"dT_a = \", dT_a)\n",
    "                self.a += alpha*dT_a\n",
    "                #display(\"new a = \",self.a)\n",
    "            elif Rtype == \"CE\":\n",
    "                new_error = self.CrossEntropy(x, Y)\n",
    "                dT_a = -np.matmul(np.transpose(x), Y - self.predict(x))\n",
    "                #display(\"old a = \", self.a, \"new_error = \", new_error, \"dT_a = \", dT_a)\n",
    "                self.a -= alpha*dT_a\n",
    "                #display(\"new a = \",self.a)\n",
    "            step += 1\n",
    "            steps.append(step)\n",
    "            errors.append(new_error)\n",
    "            #print(step, new_error)\n",
    "            if abs(new_error) < epsylon:\n",
    "                break\n",
    "        return steps, errors"
   ]
  },
  {
   "cell_type": "code",
   "execution_count": 4,
   "id": "c6cb8bf4",
   "metadata": {},
   "outputs": [],
   "source": [
    "x_ = x.copy()\n",
    "import time\n",
    "\n",
    "intercept = np.ones((x.shape[0], 1))\n",
    "x_ = np.concatenate((intercept, x), axis = 1)\n"
   ]
  },
  {
   "cell_type": "code",
   "execution_count": 5,
   "id": "b39931e1",
   "metadata": {},
   "outputs": [
    {
     "data": {
      "text/plain": [
       "'Время обучения: '"
      ]
     },
     "metadata": {},
     "output_type": "display_data"
    },
    {
     "data": {
      "text/plain": [
       "1.0028316974639893"
      ]
     },
     "metadata": {},
     "output_type": "display_data"
    },
    {
     "data": {
      "text/plain": [
       "'сек.'"
      ]
     },
     "metadata": {},
     "output_type": "display_data"
    }
   ],
   "source": [
    "start_time = time.time()\n",
    "regr = LogisticRegressionGD()\n",
    "steps, errors =  regr.fit(x_, Y, alpha = 0.0005, epsylon = 0.001, max_steps = 20000, Rtype = \"LL\") \n",
    "\n",
    "display('Время обучения: ', time.time() - start_time, 'сек.')"
   ]
  },
  {
   "cell_type": "code",
   "execution_count": 6,
   "id": "1cb46b41",
   "metadata": {
    "scrolled": true
   },
   "outputs": [
    {
     "data": {
      "text/plain": [
       "array([[-4.0015722 ],\n",
       "       [ 0.12327176]])"
      ]
     },
     "metadata": {},
     "output_type": "display_data"
    },
    {
     "data": {
      "text/plain": [
       "<matplotlib.collections.PathCollection at 0x1d1647309d0>"
      ]
     },
     "execution_count": 6,
     "metadata": {},
     "output_type": "execute_result"
    },
    {
     "data": {
      "image/png": "[encoded data removed]",
      "text/plain": [
       "<Figure size 640x480 with 1 Axes>"
      ]
     },
     "metadata": {},
     "output_type": "display_data"
    }
   ],
   "source": [
    "display(regr.coefs())\n",
    "\n",
    "Y_Pred = regr.predict(x_)\n",
    "\n",
    "\n",
    "\n",
    "plt.scatter(x, Y)\n",
    "plt.scatter(x, Y_Pred)\n",
    "\n",
    "\n"
   ]
  },
  {
   "cell_type": "code",
   "execution_count": 7,
   "id": "de3f3b73",
   "metadata": {
    "scrolled": true
   },
   "outputs": [
    {
     "data": {
      "text/plain": [
       "[<matplotlib.lines.Line2D at 0x1d1646fdf10>]"
      ]
     },
     "execution_count": 7,
     "metadata": {},
     "output_type": "execute_result"
    },
    {
     "data": {
      "image/png": "[encoded data removed]",
      "text/plain": [
       "<Figure size 640x480 with 1 Axes>"
      ]
     },
     "metadata": {},
     "output_type": "display_data"
    }
   ],
   "source": [
    "plt.plot(steps, errors)"
   ]
  },
  {
   "cell_type": "code",
   "execution_count": null,
   "id": "110d2ef9",
   "metadata": {},
   "outputs": [],
   "source": []
  },
  {
   "cell_type": "markdown",
   "id": "f0807362",
   "metadata": {},
   "source": [
    "Реализовать расчеты способами а и б для набора данных из файла insclass_train.csv/\n",
    "Для 151 406 договоров страхования транспортных средств известны значения ряда признаков, в том числе пол, возраст, стаж вождения и коэффициент бонус-малус водителя, тип, марка, модель, год выпуска, страна – производитель, мощность и объем двигателя, а также признак target, равный 1, если заключение договора с клиентом является рисковым, и 0 в противном случае (файл insclass_train.csv).\n",
    "\n",
    "Требуется построить модель, предсказывающую значение признака target для 22 624 договоров из тестового набора данных (файл insclass_test.csv).\n",
    "\n",
    "В обучающем наборе данных для каждого договора известны следующие поля:\n",
    "\n",
    "variable_1 - агрегированный коэффициент бонус-малус (повышающий или понижающий стоимость полиса в зависимости от аварийности в предыдущие периоды);\n",
    "variable_2 - индикатор расторжения договора по инициативе страхователя (клиента);\n",
    "variable_3 - индикатор расторжения договора по инициативе страховщика (страховой компании);\n",
    "variable_4 - идентификатор года выпуска транспортного средства;\n",
    "variable_5 - идентификатор страны - производителя транспортного средства;\n",
    "variable_6 - мощность двигателя в лошадиных силах;\n",
    "variable_7 - объем двигателя в куб. см;\n",
    "variable_8 - идентификатор стороны расположения руля (левый или правый);\n",
    "variable_9 - пробег транспортного средства, покрываемый гарантией производителя;\n",
    "variable_10 - индикатор действия гарантии на транспортное средство;\n",
    "variable_11 - \"мультидрайв\" - индикатор допуска к управлению транспортным средством более одного водителя;\n",
    "variable_12 - возраст транспортного средства (в мес.);\n",
    "variable_13 - возраст водителя с максимальным стажем;\n",
    "variable_14 - коэффициент возраст-стаж;\n",
    "variable_15 - коэффициент краткосрочности;\n",
    "variable_16 - коэффициент мощности;\n",
    "variable_17 - коэффициент \"мультидрайв\";\n",
    "variable_18 - территориальный коэффициент;\n",
    "variable_19 - коэффициент \"КНДР\";\n",
    "variable_20 - идентификатор канала продаж;\n",
    "variable_21 - марка транспортного средства;\n",
    "variable_22 - модель транспортного средства;\n",
    "variable_23 - индикатор отечественных транспортных средств;\n",
    "variable_24 - пол водителя с максимальным коэффициентом \"возраст-стаж\";\n",
    "variable_25 - индикатор пролонгации;\n",
    "variable_26 - индикатор совпадения собственника транспортного средства и водителя;\n",
    "variable_27 - стаж водителя с максимальным коэффициентом \"возраст-стаж\";\n",
    "variable_28 - тип транспортного средства;\n",
    "target - класс риска, равный 1, если заключение договора с клиентом является рисковым, и 0 в противном случае."
   ]
  }
 ],
 "metadata": {
  "kernelspec": {
   "display_name": "Python 3 (ipykernel)",
   "language": "python",
   "name": "python3"
  },
  "language_info": {
   "codemirror_mode": {
    "name": "ipython",
    "version": 3
   },
   "file_extension": ".py",
   "mimetype": "text/x-python",
   "name": "python",
   "nbconvert_exporter": "python",
   "pygments_lexer": "ipython3",
   "version": "3.11.4"
  }
 },
 "nbformat": 4,
 "nbformat_minor": 5
}
