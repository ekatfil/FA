{
  "cells": [
    {
      "cell_type": "markdown",
      "metadata": {
        "id": "TqVqlmoJtED2"
      },
      "source": [
        "## Полезные задачки для дальнейшей работы с искусственными нейронными сетями"
      ]
    },
    {
      "cell_type": "markdown",
      "metadata": {
        "id": "5QwJoOihtED3"
      },
      "source": [
        "## Работа с изображениями\n",
        "\n",
        "Все изображения представляют собой матрицы чисел (или многомерные векторы), которые кодируют цвета отдельных пикселей. Для изображений высоты $H$, ширины $W$ с $C$ цветовыми каналами получаем упорядоченный набор  $H \\times W \\times C$ чисел.\n",
        "\n",
        "<img src =\"https://edunet.kea.su/repo/EduNet-content/L01/out/img_to_array.png\" width=\"1000\" >\n",
        "\n",
        "Например, датасет CIFAR-10 содержит цветные (трехцветные) изображения размером $32 \\times 32$ пикселя. Таким образом, каждое изображение из датасета является точкой в $3072$-мерном ($32 \\times 32 \\times 3 = 3072$) вещественном пространстве.\n",
        "\n",
        "То есть все изображения по сути являются векторами, заполненными числами. В python есть несколько бибилиотек, которые отвечают за работу с векторами. Самыми часто используемыми для нейронных сетей -- библиотеки numpy и PyTorch."
      ]
    },
    {
      "cell_type": "markdown",
      "metadata": {
        "id": "FrdeAYcPtED4"
      },
      "source": [
        "Посмотрим на одну из цифр из набора данных MNIST, как её видим мы:"
      ]
    },
    {
      "cell_type": "code",
      "execution_count": null,
      "metadata": {
        "outputId": "80569ad2-bbc9-4dbd-acfd-59b336fc775b",
        "colab": {
          "base_uri": "https://localhost:8080/",
          "height": 430
        },
        "id": "eauRDkDNFvuM"
      },
      "outputs": [
        {
          "output_type": "display_data",
          "data": {
            "text/plain": [
              "<Figure size 640x480 with 1 Axes>"
            ],
            "image/png": "[encoded data removed]"
          },
          "metadata": {}
        }
      ],
      "source": [
        "import numpy as np\n",
        "from PIL import Image\n",
        "from torchvision import utils\n",
        "import matplotlib.pyplot as plt\n",
        "\n",
        "image = Image.open(r\"/content/digit.png\")\n",
        "img_np = np.array(image)\n",
        "plt.imshow(img_np, cmap=\"gray\")\n",
        "plt.show()"
      ]
    },
    {
      "cell_type": "markdown",
      "metadata": {
        "id": "840rqBartED5"
      },
      "source": [
        "И как она записана в компьютере -- в виде набора векторов (матрицы):"
      ]
    },
    {
      "cell_type": "code",
      "execution_count": null,
      "metadata": {
        "outputId": "c0c4bcf9-2d7f-4d97-953c-c6e4f81746a5",
        "colab": {
          "base_uri": "https://localhost:8080/"
        },
        "id": "uM8QcT37F3HL"
      },
      "outputs": [
        {
          "output_type": "stream",
          "name": "stdout",
          "text": [
            "[[  0   0   0   0   0   0   0   0   0   0   0   0   0   0   0   0]\n",
            " [  0   0   0   0   0   0   0   0   0   0   0   0   0   0   0   0]\n",
            " [  0   0   0   0   0   0   0   0  12  15  20  12   1   0   0   0]\n",
            " [  0   0   0   0   0   0   3 123 225 242 255 225 137   7   0   0]\n",
            " [  0   0   0   0   0  15 207 251 103 109 107 105 171 145   0   0]\n",
            " [  0   0   0   0   0 149 236  80   0   0   0   0   4  21   0   0]\n",
            " [  0   0   0   0  16 228 106   0  17  33  17   0   0   0   0   0]\n",
            " [  0   0   0   0  97 248  98 138 232 255 216  22   0   0   0   0]\n",
            " [  0   0   0   0  50 247 255 197 111 123 252 129   0   0   0   0]\n",
            " [  0   0   0   0   1  54  55   9   0  49 250 116   0   0   0   0]\n",
            " [  0   0   0   0   0   0   0   0   0 158 240  44   0   0   0   0]\n",
            " [  0   0   0   0   0   0   0   0  88 255 125   0   0   0   0   0]\n",
            " [  0   0   0   0   7  15  23 132 255 188  12   0   0   0   0   0]\n",
            " [  0   0   0   0  20 200 229 240 157  28   0   0   0   0   0   0]\n",
            " [  0   0   0   0   3  64  73  45   0   0   0   0   0   0   0   0]\n",
            " [  0   0   0   0   0   0   0   0   0   0   0   0   0   0   0   0]]\n"
          ]
        }
      ],
      "source": [
        "print(img_np)"
      ]
    },
    {
      "cell_type": "markdown",
      "metadata": {
        "id": "6JxckPObtED6"
      },
      "source": [
        "Подключить библиотеки numpy (для более короткой записи кода и простоты её полное название сокращают до np) и torch, чтобы обеспечить работу с векторами:"
      ]
    },
    {
      "cell_type": "code",
      "execution_count": 2,
      "metadata": {
        "id": "kaKZ7pARtED6"
      },
      "outputs": [],
      "source": [
        "import numpy as np\n",
        "import torch"
      ]
    },
    {
      "cell_type": "markdown",
      "metadata": {
        "id": "FfhPoIlgtED6"
      },
      "source": [
        "Рассмотрим основные операции для работы с тензорами.\n",
        "Создать экземпляр класса [Tensor](https://pytorch.org/docs/stable/tensors.html#torch.Tensor).\n",
        "Определение из документации: A torch.Tensor is a multi-dimensional matrix containing elements of a single data type."
      ]
    },
    {
      "cell_type": "code",
      "execution_count": 3,
      "metadata": {
        "id": "snT0wSDbtED6",
        "outputId": "31180216-85c9-4b39-bc30-b385151a3a50",
        "colab": {
          "base_uri": "https://localhost:8080/"
        }
      },
      "outputs": [
        {
          "output_type": "execute_result",
          "data": {
            "text/plain": [
              "tensor([])"
            ]
          },
          "metadata": {},
          "execution_count": 3
        }
      ],
      "source": [
        "e = torch.Tensor()\n",
        "e"
      ]
    },
    {
      "cell_type": "markdown",
      "metadata": {
        "id": "yhL6cTlXtED6"
      },
      "source": [
        "Записать вектор [1.1, 2.2, 3.2] в виде тензора и вывести его тип при помощи функции type."
      ]
    },
    {
      "cell_type": "code",
      "execution_count": 5,
      "metadata": {
        "id": "OXT6aRzctED6",
        "outputId": "786845c7-e4b2-49aa-fcd8-01a0346e95fe",
        "colab": {
          "base_uri": "https://localhost:8080/",
          "height": 35
        }
      },
      "outputs": [
        {
          "output_type": "execute_result",
          "data": {
            "text/plain": [
              "'torch.FloatTensor'"
            ],
            "application/vnd.google.colaboratory.intrinsic+json": {
              "type": "string"
            }
          },
          "metadata": {},
          "execution_count": 5
        }
      ],
      "source": [
        "a = torch.tensor([1.1, 2.2, 3.2])\n",
        "a.type()"
      ]
    },
    {
      "cell_type": "markdown",
      "metadata": {
        "id": "-2ipm7qltED7"
      },
      "source": [
        "Вопрос: чем принципиально отличаются записи a = torch.Tensor() и b = torch.tensor()? Что будет на выходе для a и для b?"
      ]
    },
    {
      "cell_type": "code",
      "execution_count": null,
      "metadata": {
        "id": "4TI4bSYntED7",
        "outputId": "0a55deba-2c3f-4f1f-be7b-124085124bc0",
        "colab": {
          "base_uri": "https://localhost:8080/",
          "height": 245
        }
      },
      "outputs": [
        {
          "output_type": "stream",
          "name": "stdout",
          "text": [
            "a:  tensor([])\n"
          ]
        },
        {
          "output_type": "error",
          "ename": "TypeError",
          "evalue": "ignored",
          "traceback": [
            "\u001b[0;31m---------------------------------------------------------------------------\u001b[0m",
            "\u001b[0;31mTypeError\u001b[0m                                 Traceback (most recent call last)",
            "\u001b[0;32m<ipython-input-10-9c08979f04f8>\u001b[0m in \u001b[0;36m<cell line: 3>\u001b[0;34m()\u001b[0m\n\u001b[1;32m      1\u001b[0m \u001b[0ma\u001b[0m \u001b[0;34m=\u001b[0m \u001b[0mtorch\u001b[0m\u001b[0;34m.\u001b[0m\u001b[0mTensor\u001b[0m\u001b[0;34m(\u001b[0m\u001b[0;34m)\u001b[0m\u001b[0;34m\u001b[0m\u001b[0;34m\u001b[0m\u001b[0m\n\u001b[1;32m      2\u001b[0m \u001b[0mprint\u001b[0m\u001b[0;34m(\u001b[0m\u001b[0;34m'a: '\u001b[0m\u001b[0;34m,\u001b[0m \u001b[0ma\u001b[0m\u001b[0;34m)\u001b[0m\u001b[0;34m\u001b[0m\u001b[0;34m\u001b[0m\u001b[0m\n\u001b[0;32m----> 3\u001b[0;31m \u001b[0mb\u001b[0m \u001b[0;34m=\u001b[0m \u001b[0mtorch\u001b[0m\u001b[0;34m.\u001b[0m\u001b[0mtensor\u001b[0m\u001b[0;34m(\u001b[0m\u001b[0;34m)\u001b[0m\u001b[0;34m\u001b[0m\u001b[0;34m\u001b[0m\u001b[0m\n\u001b[0m\u001b[1;32m      4\u001b[0m \u001b[0mprint\u001b[0m\u001b[0;34m(\u001b[0m\u001b[0;34m\"b: \"\u001b[0m\u001b[0;34m,\u001b[0m \u001b[0mb\u001b[0m\u001b[0;34m)\u001b[0m\u001b[0;34m\u001b[0m\u001b[0;34m\u001b[0m\u001b[0m\n",
            "\u001b[0;31mTypeError\u001b[0m: tensor() missing 1 required positional arguments: \"data\""
          ]
        }
      ],
      "source": [
        "a = torch.Tensor()\n",
        "print('a: ', a)\n",
        "b = torch.tensor()\n",
        "print(\"b: \", b)\n",
        "\n",
        "# во втором случае необходимо передавать данные"
      ]
    },
    {
      "cell_type": "markdown",
      "metadata": {
        "id": "xhUk6FbNtED7"
      },
      "source": [
        "Создать тензор [1.1, 2.2, 3.2] указанного типа float64. Использовать параметр dtype:"
      ]
    },
    {
      "cell_type": "code",
      "execution_count": 7,
      "metadata": {
        "id": "1Fy0EmdXtED7",
        "colab": {
          "base_uri": "https://localhost:8080/"
        },
        "outputId": "bf536ed8-e8a4-41b0-f1dc-a671c3d01fa3"
      },
      "outputs": [
        {
          "output_type": "execute_result",
          "data": {
            "text/plain": [
              "torch.float64"
            ]
          },
          "metadata": {},
          "execution_count": 7
        }
      ],
      "source": [
        "a = torch.tensor([1.1, 2.2, 3.2], dtype = torch.float64)\n",
        "a.dtype"
      ]
    },
    {
      "cell_type": "markdown",
      "metadata": {
        "id": "mWoSqgGwtED7"
      },
      "source": [
        "Записать вектор [1.1, 2.2, 3.2] в виде тензора и вывести тип данных, которые помещены в тензор. Для этого так же использовать dtype."
      ]
    },
    {
      "cell_type": "code",
      "execution_count": 6,
      "metadata": {
        "id": "VcD3HEZ_tED7",
        "outputId": "329be23d-b124-498b-acf6-22e22069366c",
        "colab": {
          "base_uri": "https://localhost:8080/"
        }
      },
      "outputs": [
        {
          "output_type": "execute_result",
          "data": {
            "text/plain": [
              "torch.float32"
            ]
          },
          "metadata": {},
          "execution_count": 6
        }
      ],
      "source": [
        "a = torch.tensor([1.1, 2.2, 3.2])\n",
        "a.dtype"
      ]
    },
    {
      "cell_type": "markdown",
      "metadata": {
        "id": "hxCedUDStED7"
      },
      "source": [
        "Создать вектор размерности $3 \\times 2$ и заполнить его указанным значением 2.5."
      ]
    },
    {
      "cell_type": "code",
      "execution_count": null,
      "metadata": {
        "id": "EaJYVVY2tED7",
        "outputId": "c2769bd6-bd42-43a1-c7d1-01d2946aedd1",
        "colab": {
          "base_uri": "https://localhost:8080/"
        }
      },
      "outputs": [
        {
          "output_type": "execute_result",
          "data": {
            "text/plain": [
              "tensor([[2.5000, 2.5000],\n",
              "        [2.5000, 2.5000],\n",
              "        [2.5000, 2.5000]])"
            ]
          },
          "metadata": {},
          "execution_count": 16
        }
      ],
      "source": [
        "a = torch.full((3, 2), 2.5)\n",
        "a\n"
      ]
    },
    {
      "cell_type": "markdown",
      "metadata": {
        "id": "9MufiIOhtED8"
      },
      "source": [
        "Создать тензор размерности $3 \\times 2$ и заполнить его единицами."
      ]
    },
    {
      "cell_type": "code",
      "execution_count": null,
      "metadata": {
        "id": "-YWf9EiCtED8",
        "outputId": "83dd361e-a9dd-4ecb-a3c9-a6b82f4d8904",
        "colab": {
          "base_uri": "https://localhost:8080/"
        }
      },
      "outputs": [
        {
          "output_type": "execute_result",
          "data": {
            "text/plain": [
              "tensor([[1., 1.],\n",
              "        [1., 1.],\n",
              "        [1., 1.]])"
            ]
          },
          "metadata": {},
          "execution_count": 19
        }
      ],
      "source": [
        "a = torch.ones(3, 2)\n",
        "a"
      ]
    },
    {
      "cell_type": "markdown",
      "metadata": {
        "id": "a8Su-PV9tED8"
      },
      "source": [
        "Создать тензор размерности $2 \\times 3 \\times 4$ и заполнить его нулями."
      ]
    },
    {
      "cell_type": "code",
      "execution_count": null,
      "metadata": {
        "id": "cLEaewoXtED8",
        "outputId": "9e4692c1-c9c5-4c2f-a03f-eccdfa9cf270",
        "colab": {
          "base_uri": "https://localhost:8080/"
        }
      },
      "outputs": [
        {
          "output_type": "execute_result",
          "data": {
            "text/plain": [
              "tensor([[[0., 0., 0., 0.],\n",
              "         [0., 0., 0., 0.],\n",
              "         [0., 0., 0., 0.]],\n",
              "\n",
              "        [[0., 0., 0., 0.],\n",
              "         [0., 0., 0., 0.],\n",
              "         [0., 0., 0., 0.]]])"
            ]
          },
          "metadata": {},
          "execution_count": 20
        }
      ],
      "source": [
        "b = torch.zeros(2, 3, 4)\n",
        "b"
      ]
    },
    {
      "cell_type": "markdown",
      "metadata": {
        "id": "XLo2AoEvtED8"
      },
      "source": [
        "Создать тензор размерности 3 строки и 4 стоблца, заполненный случайными числами."
      ]
    },
    {
      "cell_type": "code",
      "execution_count": 14,
      "metadata": {
        "id": "6MViShIftED8",
        "outputId": "dabd8a34-741c-4182-c327-803cf80da14a",
        "colab": {
          "base_uri": "https://localhost:8080/"
        }
      },
      "outputs": [
        {
          "output_type": "execute_result",
          "data": {
            "text/plain": [
              "tensor([[ 0.9708,  0.4275,  1.3555,  0.6072],\n",
              "        [-0.3951, -1.0256,  0.1620,  1.2682],\n",
              "        [ 1.0571, -0.3184, -1.1282,  0.4067]])"
            ]
          },
          "metadata": {},
          "execution_count": 14
        }
      ],
      "source": [
        "x = torch.randn(3, 4)\n",
        "x"
      ]
    },
    {
      "cell_type": "markdown",
      "metadata": {
        "id": "5MEuQoJCtED8"
      },
      "source": [
        "Создать тензор - вектор размерности $1 \\times 5$, заполненный целыми случайными числами от 0 до 100."
      ]
    },
    {
      "cell_type": "code",
      "execution_count": 12,
      "metadata": {
        "id": "2CeU7fOFtED9",
        "outputId": "0958198a-214d-4a61-9cf9-c5e363318eb2",
        "colab": {
          "base_uri": "https://localhost:8080/"
        }
      },
      "outputs": [
        {
          "output_type": "stream",
          "name": "stdout",
          "text": [
            "tensor([[ 9, 33, 52, 67, 35]])\n"
          ]
        }
      ],
      "source": [
        "y = torch.randint(0, 101, (1, 5))\n",
        "print(y)"
      ]
    },
    {
      "cell_type": "markdown",
      "metadata": {
        "id": "PDmB50rqtED9"
      },
      "source": [
        "Создать вектор размерности $2 \\times 3$ и заполнить его целыми числами от -10 до 10."
      ]
    },
    {
      "cell_type": "code",
      "execution_count": 13,
      "metadata": {
        "id": "ablHvNoAtED9",
        "outputId": "911e918a-0bca-462b-bc9b-020b91fed0b2",
        "colab": {
          "base_uri": "https://localhost:8080/"
        }
      },
      "outputs": [
        {
          "output_type": "execute_result",
          "data": {
            "text/plain": [
              "tensor([[-4, -4,  5],\n",
              "        [-5,  6, -3]])"
            ]
          },
          "metadata": {},
          "execution_count": 13
        }
      ],
      "source": [
        "a = torch.randint(-10, 11, (2, 3))\n",
        "a"
      ]
    },
    {
      "cell_type": "markdown",
      "metadata": {
        "id": "uG6BVAMbtED9"
      },
      "source": [
        "Для того, чтобы все величины, которые мы создаём при помощи датчика случайных чисел, создались один раз и не изменяли своего значения, надо зафиксировать базовое число --- это делается при помощи функции torch.manual_seed().\n",
        "Функция torch.randn_like(x) возвращает тензор того же размера, что и x, который заполнен случайными числами из нормального распределения со средним 0 и дисперсией 1."
      ]
    },
    {
      "cell_type": "code",
      "execution_count": null,
      "metadata": {
        "id": "RTtr5xe-tED9",
        "outputId": "16ff9884-c1a4-4152-b69c-da2972dff998",
        "colab": {
          "base_uri": "https://localhost:8080/"
        }
      },
      "outputs": [
        {
          "output_type": "stream",
          "name": "stdout",
          "text": [
            "a = tensor([[-0.1468,  0.7861,  0.9468, -1.1143,  1.6908]]),\n",
            "b = tensor([[-0.8948, -0.3556,  1.2324,  0.1382, -1.6822]])\n"
          ]
        }
      ],
      "source": [
        "torch.manual_seed(7)\n",
        "a = torch.randn(1, 5)\n",
        "b = torch.randn_like(a)\n",
        "print(f'a = {a},\\nb = {b}'.format(a, b))"
      ]
    },
    {
      "cell_type": "markdown",
      "metadata": {
        "id": "i-k8Qk-KtED9"
      },
      "source": [
        "Создать вектор размерности $3 \\times 2$ и заполнить его указанным значением 2.5."
      ]
    },
    {
      "cell_type": "code",
      "execution_count": 15,
      "metadata": {
        "id": "Yh-Zf0TjtED9",
        "outputId": "e24d992e-8e8c-4ad6-e0d3-afb18bc2c655",
        "colab": {
          "base_uri": "https://localhost:8080/"
        }
      },
      "outputs": [
        {
          "output_type": "execute_result",
          "data": {
            "text/plain": [
              "tensor([[2.5000, 2.5000],\n",
              "        [2.5000, 2.5000],\n",
              "        [2.5000, 2.5000]])"
            ]
          },
          "metadata": {},
          "execution_count": 15
        }
      ],
      "source": [
        "a = torch.full((3, 2), 2.5)\n",
        "a"
      ]
    },
    {
      "cell_type": "markdown",
      "metadata": {
        "id": "fMMdbn9CtED9"
      },
      "source": [
        "Для выполнения операций умножения на веса или на матрицы свёрток (для свёрточных нейронных сетей), необходимо вытянуть матрицу, которой представлено изображение:"
      ]
    },
    {
      "cell_type": "code",
      "execution_count": null,
      "metadata": {
        "id": "848F5F8etED-",
        "outputId": "f25cf648-97b7-4669-e698-78a2a1fd6df4"
      },
      "outputs": [
        {
          "name": "stdout",
          "output_type": "stream",
          "text": [
            "[0, 0, 0, 0, 0, 0, 0, 0, 0, 0, 0, 0, 0, 0, 0, 0, 0, 0, 0, 0, 0, 0, 0, 0, 0, 0, 0, 0, 0, 0, 0, 0, 0, 0, 0, 0, 0, 0, 0, 0, 12, 15, 20, 12, 1, 0, 0, 0, 0, 0, 0, 0, 0, 0, 3, 123, 225, 242, 255, 225, 137, 7, 0, 0, 0, 0, 0, 0, 0, 15, 207, 251, 103, 109, 107, 105, 171, 145, 0, 0, 0, 0, 0, 0, 0, 149, 236, 80, 0, 0, 0, 0, 4, 21, 0, 0, 0, 0, 0, 0, 16, 228, 106, 0, 17, 33, 17, 0, 0, 0, 0, 0, 0, 0, 0, 0, 97, 248, 98, 138, 232, 255, 216, 22, 0, 0, 0, 0, 0, 0, 0, 0, 50, 247, 255, 197, 111, 123, 252, 129, 0, 0, 0, 0, 0, 0, 0, 0, 1, 54, 55, 9, 0, 49, 250, 116, 0, 0, 0, 0, 0, 0, 0, 0, 0, 0, 0, 0, 0, 158, 240, 44, 0, 0, 0, 0, 0, 0, 0, 0, 0, 0, 0, 0, 88, 255, 125, 0, 0, 0, 0, 0, 0, 0, 0, 0, 7, 15, 23, 132, 255, 188, 12, 0, 0, 0, 0, 0, 0, 0, 0, 0, 20, 200, 229, 240, 157, 28, 0, 0, 0, 0, 0, 0, 0, 0, 0, 0, 3, 64, 73, 45, 0, 0, 0, 0, 0, 0, 0, 0, 0, 0, 0, 0, 0, 0, 0, 0, 0, 0, 0, 0, 0, 0, 0, 0]\n"
          ]
        },
        {
          "data": {
            "image/png": "[encoded data removed]",
            "text/plain": [
              "<Figure size 1000x400 with 2 Axes>"
            ]
          },
          "metadata": {},
          "output_type": "display_data"
        }
      ],
      "source": [
        "fig, ax = plt.subplots(ncols=2, figsize=(10, 4))\n",
        "ax[0].imshow(img_np, cmap=\"gray\")\n",
        "ax[1].imshow(img_np.reshape(1, -1), aspect=20, cmap=\"gray\")\n",
        "ax[0].set_title(\"Original image\")\n",
        "ax[1].set_title(\"Flattened image\")\n",
        "\n",
        "vector = np.array(image).flatten()\n",
        "print(list(vector))"
      ]
    },
    {
      "cell_type": "markdown",
      "metadata": {
        "id": "4eOOyyFXtED-"
      },
      "source": [
        "Вытянуть тензор в одну линию можно при помощи функции flatten:"
      ]
    },
    {
      "cell_type": "code",
      "execution_count": 20,
      "metadata": {
        "id": "NrZm3S_RtED-",
        "outputId": "2ddaa4f1-fd9c-40e1-d962-984f827d026b",
        "colab": {
          "base_uri": "https://localhost:8080/"
        }
      },
      "outputs": [
        {
          "output_type": "stream",
          "name": "stdout",
          "text": [
            "torch.Size([2, 2, 2])\n",
            "tensor([1, 2, 3, 4, 5, 6, 7, 8])\n"
          ]
        }
      ],
      "source": [
        "t = torch.tensor([ [[1, 2], [3, 4]], [[5, 6], [7, 8]] ])\n",
        "print(t.shape)\n",
        "print(torch.flatten(t))"
      ]
    },
    {
      "cell_type": "markdown",
      "metadata": {
        "id": "cYENMdqAtED-"
      },
      "source": [
        "Можно добавить в функцию flatten параметры, показывающие, с какого измерение по какое спрямлять тензор:"
      ]
    },
    {
      "cell_type": "code",
      "execution_count": 21,
      "metadata": {
        "id": "vGnMbUfbtED_",
        "outputId": "9926f8b2-57a5-4eb2-8ca8-3c2aca981eb9",
        "colab": {
          "base_uri": "https://localhost:8080/"
        }
      },
      "outputs": [
        {
          "output_type": "stream",
          "name": "stdout",
          "text": [
            "tensor([[1, 2],\n",
            "        [3, 4],\n",
            "        [5, 6],\n",
            "        [7, 8]]) torch.Size([4, 2])\n"
          ]
        }
      ],
      "source": [
        "t_new = torch.flatten(t, start_dim=0, end_dim=1)\n",
        "print(t_new, t_new.shape)"
      ]
    },
    {
      "cell_type": "markdown",
      "metadata": {
        "id": "vr_aFtGctED_"
      },
      "source": [
        "Ещё есть возможность, позволяющая представить вектор x в виде одномерного вектора (вытянуть в линию и в столбик все значения x) при помощи функции view:"
      ]
    },
    {
      "cell_type": "code",
      "execution_count": 24,
      "metadata": {
        "id": "k-wrp9nwtED_",
        "outputId": "f170220c-c550-4b64-cf6b-65403cc6c2ad",
        "colab": {
          "base_uri": "https://localhost:8080/"
        }
      },
      "outputs": [
        {
          "output_type": "stream",
          "name": "stdout",
          "text": [
            "tensor([[ 0.9708,  0.4275,  1.3555,  0.6072, -0.3951, -1.0256,  0.1620,  1.2682,\n",
            "          1.0571, -0.3184, -1.1282,  0.4067]]) \n",
            " tensor([[ 0.9708],\n",
            "        [ 0.4275],\n",
            "        [ 1.3555],\n",
            "        [ 0.6072],\n",
            "        [-0.3951],\n",
            "        [-1.0256],\n",
            "        [ 0.1620],\n",
            "        [ 1.2682],\n",
            "        [ 1.0571],\n",
            "        [-0.3184],\n",
            "        [-1.1282],\n",
            "        [ 0.4067]])\n"
          ]
        }
      ],
      "source": [
        "x_row = x.view(-1, 12)\n",
        "x_column = x.view(12, -1)\n",
        "print(x_row,'\\n',x_column)"
      ]
    },
    {
      "cell_type": "markdown",
      "metadata": {
        "id": "nc14hw0ktED_"
      },
      "source": [
        "В целом функция view может поменять форму тензора на любую допустимую. Изменить форму вектора x на $2 \\times 6$.\n"
      ]
    },
    {
      "cell_type": "code",
      "execution_count": 25,
      "metadata": {
        "colab": {
          "base_uri": "https://localhost:8080/"
        },
        "id": "eacqcF9dtED_",
        "outputId": "defd6fb0-e914-4632-fa4a-52c9fb24b173"
      },
      "outputs": [
        {
          "output_type": "execute_result",
          "data": {
            "text/plain": [
              "tensor([[-0.4630,  0.2978,  1.9890,  1.1713, -0.2907, -0.8469],\n",
              "        [ 1.3474,  0.2039, -0.9274,  0.9313,  1.1990,  0.1712]])"
            ]
          },
          "metadata": {},
          "execution_count": 25
        }
      ],
      "source": [
        "x = torch.randn(2,6)\n",
        "x"
      ]
    },
    {
      "cell_type": "markdown",
      "metadata": {
        "id": "UwzCWOk3tED_"
      },
      "source": [
        "## Операции умножения внутри нейрона\n",
        "\n",
        "Модель нейрона взята из биологии и структура повторяет процесс передачи информации через нейрон. Входной сигнал обрабатывается и дальше принимается решение, насколько он важен и передавать ли его дальше.\n",
        "\n",
        "<img src =\"https://upload.wikimedia.org/wikipedia/commons/b/b5/Neuron.svg\" width=\"1000\" >\n"
      ]
    },
    {
      "cell_type": "markdown",
      "metadata": {
        "id": "kyZ_fJhAtEEA"
      },
      "source": [
        "Та же логика ипользовалась при создании модели искусственного нейрона: входные данные умножаются на веса, передаются функции активации, которая их преобразует и передаёт дальше:\n",
        "\n",
        "https://www.cs.toronto.edu/~lczhang/aps360_20191/lec/w02/terms.html"
      ]
    },
    {
      "cell_type": "markdown",
      "metadata": {
        "id": "5dgugNqCtEEA"
      },
      "source": [
        "При перемножении заданных значений на веса необходимо использовать векторное произведение.\n",
        "Создать два тензора размера $2 \\times 3$ и $3 \\times 5$ и векторно перемножить их. Вывести на экран результирующий тензор и его размерность."
      ]
    },
    {
      "cell_type": "code",
      "execution_count": 27,
      "metadata": {
        "id": "wKooqx_ttEEA",
        "outputId": "a9c14d26-1863-40df-a00b-7b0db061b445",
        "colab": {
          "base_uri": "https://localhost:8080/"
        }
      },
      "outputs": [
        {
          "output_type": "stream",
          "name": "stdout",
          "text": [
            "tensor([[-0.0863, -1.1872,  0.0931,  0.9670,  0.5927],\n",
            "        [-0.2470, -1.8195,  0.3130, -0.8410, -0.2757]]) \n",
            " torch.Size([2, 5])\n"
          ]
        }
      ],
      "source": [
        "a = torch.randn(2, 3)\n",
        "b = torch.randn(3, 5)\n",
        "res = torch.mm(a, b)\n",
        "print(res,'\\n',res.shape)"
      ]
    },
    {
      "cell_type": "markdown",
      "metadata": {
        "id": "Qxo19KSvtEEA"
      },
      "source": [
        "При умножении на веса бывает необходимо транспонировать данные (поменять порядок расположения осей).\n",
        "Изменить порядок расположения осей тензора x (транспонировать) можно двумя способами: при помощи  метода T и функции transpose()."
      ]
    },
    {
      "cell_type": "code",
      "execution_count": 28,
      "metadata": {
        "colab": {
          "base_uri": "https://localhost:8080/"
        },
        "id": "X42tNx0XtEEA",
        "outputId": "02f2ff6b-84d1-4c61-a182-671c25e37242"
      },
      "outputs": [
        {
          "output_type": "stream",
          "name": "stdout",
          "text": [
            "tensor([[ 0.6339,  0.6590,  2.0403, -1.0917, -0.7609,  2.0059],\n",
            "        [ 0.2134, -0.7572,  0.7338, -1.0153, -1.0628, -0.3431]])\n",
            "tensor([[ 0.6339,  0.2134],\n",
            "        [ 0.6590, -0.7572],\n",
            "        [ 2.0403,  0.7338],\n",
            "        [-1.0917, -1.0153],\n",
            "        [-0.7609, -1.0628],\n",
            "        [ 2.0059, -0.3431]])\n",
            "tensor([[ 0.6339,  0.2134],\n",
            "        [ 0.6590, -0.7572],\n",
            "        [ 2.0403,  0.7338],\n",
            "        [-1.0917, -1.0153],\n",
            "        [-0.7609, -1.0628],\n",
            "        [ 2.0059, -0.3431]])\n"
          ]
        }
      ],
      "source": [
        "x = torch.randn(2, 6)\n",
        "a = x.T\n",
        "print(x)\n",
        "print(a)\n",
        "b = torch.transpose(x, 0, 1)  # номера осей, которые будем менять местами\n",
        "print(b)"
      ]
    },
    {
      "cell_type": "markdown",
      "metadata": {
        "id": "Gg_0J7fEtEEA"
      },
      "source": [
        "Найти сумму всех элементов тензора a."
      ]
    },
    {
      "cell_type": "code",
      "execution_count": 29,
      "metadata": {
        "colab": {
          "base_uri": "https://localhost:8080/"
        },
        "id": "UXolynmYtEEB",
        "outputId": "986823a1-fecf-4978-888f-d0f91b672128"
      },
      "outputs": [
        {
          "output_type": "execute_result",
          "data": {
            "text/plain": [
              "tensor(1.2553)"
            ]
          },
          "metadata": {},
          "execution_count": 29
        }
      ],
      "source": [
        "a.sum()"
      ]
    },
    {
      "cell_type": "markdown",
      "metadata": {
        "id": "E-wyHGdHtEEB"
      },
      "source": [
        "Найти сумму всех элементов тензора a по строкам."
      ]
    },
    {
      "cell_type": "code",
      "execution_count": 30,
      "metadata": {
        "colab": {
          "base_uri": "https://localhost:8080/"
        },
        "id": "5WibH27NtEEB",
        "outputId": "8f498a53-1ff0-4b26-db24-baa9e543f9ba"
      },
      "outputs": [
        {
          "output_type": "execute_result",
          "data": {
            "text/plain": [
              "tensor([ 3.4865, -2.2312])"
            ]
          },
          "metadata": {},
          "execution_count": 30
        }
      ],
      "source": [
        "a.sum(0)"
      ]
    },
    {
      "cell_type": "markdown",
      "metadata": {
        "id": "OkpnYqNZtEEB"
      },
      "source": [
        "Найти сумму всех элементов тензора a по столбцам."
      ]
    },
    {
      "cell_type": "code",
      "execution_count": 31,
      "metadata": {
        "colab": {
          "base_uri": "https://localhost:8080/"
        },
        "id": "43WnS_FqtEEB",
        "outputId": "f3179e55-de43-40df-a3ee-6a12427aeec2"
      },
      "outputs": [
        {
          "output_type": "execute_result",
          "data": {
            "text/plain": [
              "tensor([ 0.8473, -0.0981,  2.7741, -2.1070, -1.8237,  1.6628])"
            ]
          },
          "metadata": {},
          "execution_count": 31
        }
      ],
      "source": [
        "a.sum(1)"
      ]
    },
    {
      "cell_type": "markdown",
      "metadata": {
        "id": "UnaVER2RtEEB"
      },
      "source": [
        "Найти максимальные значения вектора x по столбцам и строкам при помощи функции max."
      ]
    },
    {
      "cell_type": "code",
      "execution_count": 32,
      "metadata": {
        "colab": {
          "base_uri": "https://localhost:8080/"
        },
        "id": "PDFZRuOFtEEB",
        "outputId": "b4718e8f-b263-420a-efa8-04dbcde047b5"
      },
      "outputs": [
        {
          "output_type": "stream",
          "name": "stdout",
          "text": [
            "rows:\n",
            " tensor([2.0403, 0.7338]), \n",
            "columns: \n",
            " tensor([ 0.6339,  0.6590,  2.0403, -1.0153, -0.7609,  2.0059])\n"
          ]
        }
      ],
      "source": [
        "rows =  torch.max(a, 0).values\n",
        "columns =  torch.max(a, 1).values\n",
        "print(f\"rows:\\n {rows}, \\ncolumns: \\n {columns}\".format(rows, columns))"
      ]
    },
    {
      "cell_type": "markdown",
      "metadata": {
        "id": "EcV86aDZtEEC"
      },
      "source": [
        "Создать два тензора [[5, 0, 1], [6, 0, 2]] и [[2, 3, 0], [3, 4, 5]]. Найти максимум из двух тензоров на каждом месте при помощи функции maximum:"
      ]
    },
    {
      "cell_type": "code",
      "execution_count": 33,
      "metadata": {
        "colab": {
          "base_uri": "https://localhost:8080/"
        },
        "id": "PqVD_30ttEEC",
        "outputId": "2e8cd121-5c24-4213-b88e-7d3424b35032"
      },
      "outputs": [
        {
          "output_type": "execute_result",
          "data": {
            "text/plain": [
              "tensor([[5, 3, 1],\n",
              "        [6, 4, 5]])"
            ]
          },
          "metadata": {},
          "execution_count": 33
        }
      ],
      "source": [
        "a = torch.tensor([[5, 0, 1], [6, 0, 2]])\n",
        "b = torch.tensor([[2, 3, 0], [3, 4, 5]])\n",
        "torch.maximum(a, b)"
      ]
    },
    {
      "cell_type": "markdown",
      "metadata": {
        "id": "H_43JFt8tEEC"
      },
      "source": [
        "В разных библиотеках наборы данных изображений обрабатываются в разных форматах:\n",
        "\n",
        "OpenCV, TensorFlow, Pillow, etc. : `Batch x Height x Width x Channels`\n",
        "\n",
        "PyTorch : `Batch x Channels x Height x Width`\n",
        "\n",
        "Поэтому периодически возникает необходимость менять местами измерения или убирать какие-то измерения."
      ]
    },
    {
      "cell_type": "markdown",
      "metadata": {
        "id": "k6sJZRJttEEC"
      },
      "source": [
        "Создать тензор a размерности $(2, 5, 1, 8)$, заполнить его нулями и поменять местами его измерения $(0, 1, 2, 3) \\to (2, 0, 3, 1)$ при помощи функции permute:"
      ]
    },
    {
      "cell_type": "code",
      "execution_count": 45,
      "metadata": {
        "colab": {
          "base_uri": "https://localhost:8080/"
        },
        "id": "XwrasZpCtEEC",
        "outputId": "6b3f5da6-503a-4761-df79-779b806910e0"
      },
      "outputs": [
        {
          "output_type": "stream",
          "name": "stdout",
          "text": [
            "Original tensor size:\n",
            " torch.Size([2, 5, 1, 8])\n",
            "After permute tensor size:\n",
            " torch.Size([1, 2, 8, 5])\n"
          ]
        }
      ],
      "source": [
        "a = torch.zeros(2, 5, 1, 8)\n",
        "print(\"Original tensor size:\\n\", a.size())\n",
        "\n",
        "a =  torch.permute(a, (2, 0, 3, 1))\n",
        "print(\"After permute tensor size:\\n\", a.size())"
      ]
    },
    {
      "cell_type": "markdown",
      "metadata": {
        "id": "wIqkjd52tEEC"
      },
      "source": [
        "\n",
        "Создать тензор b размерности $(2, 5, 1, 8)$, заполнить его единицами и поменять местами его измерения $(0, 1, 2, 3) \\to (1, 2, 0, 3)$ при помощи функции transpose из библиотеки numpy. Вывести результат на экран:"
      ]
    },
    {
      "cell_type": "code",
      "execution_count": 36,
      "metadata": {
        "colab": {
          "base_uri": "https://localhost:8080/"
        },
        "id": "FnyffyiEtEEC",
        "outputId": "c674a274-1c45-4d9b-8881-f693f97e3eb5"
      },
      "outputs": [
        {
          "output_type": "execute_result",
          "data": {
            "text/plain": [
              "tensor([[[[1., 1., 1., 1., 1., 1., 1., 1.],\n",
              "          [1., 1., 1., 1., 1., 1., 1., 1.]]],\n",
              "\n",
              "\n",
              "        [[[1., 1., 1., 1., 1., 1., 1., 1.],\n",
              "          [1., 1., 1., 1., 1., 1., 1., 1.]]],\n",
              "\n",
              "\n",
              "        [[[1., 1., 1., 1., 1., 1., 1., 1.],\n",
              "          [1., 1., 1., 1., 1., 1., 1., 1.]]],\n",
              "\n",
              "\n",
              "        [[[1., 1., 1., 1., 1., 1., 1., 1.],\n",
              "          [1., 1., 1., 1., 1., 1., 1., 1.]]],\n",
              "\n",
              "\n",
              "        [[[1., 1., 1., 1., 1., 1., 1., 1.],\n",
              "          [1., 1., 1., 1., 1., 1., 1., 1.]]]])"
            ]
          },
          "metadata": {},
          "execution_count": 36
        }
      ],
      "source": [
        "b = torch.ones(2, 5, 1, 8)\n",
        "b = np.transpose(b, (1, 2, 0, 3))\n",
        "b"
      ]
    },
    {
      "cell_type": "markdown",
      "metadata": {
        "id": "8IcDfDLCtEED"
      },
      "source": [
        "Удалить измерение, равное 1, у вектора a при помощи функции squeeze:"
      ]
    },
    {
      "cell_type": "code",
      "execution_count": 46,
      "metadata": {
        "colab": {
          "base_uri": "https://localhost:8080/"
        },
        "id": "-DqorBVMtEED",
        "outputId": "fc687edc-526c-4d13-be99-354e62a957bf"
      },
      "outputs": [
        {
          "output_type": "stream",
          "name": "stdout",
          "text": [
            "After squeeze tensor size:\n",
            " torch.Size([2, 8, 5])\n"
          ]
        }
      ],
      "source": [
        "a = torch.squeeze(a, 0)\n",
        "print(\"After squeeze tensor size:\\n\", a.size())"
      ]
    },
    {
      "cell_type": "markdown",
      "metadata": {
        "id": "YhJhkPDItEED"
      },
      "source": [
        "Добавить ещё одно измерение для тензора a и поставить его на место 1 при помощи функции unsqueeze:"
      ]
    },
    {
      "cell_type": "code",
      "execution_count": 47,
      "metadata": {
        "colab": {
          "base_uri": "https://localhost:8080/"
        },
        "id": "-0sQ93uEtEED",
        "outputId": "d3939faf-f37b-42c9-fc51-144a7915fd6a"
      },
      "outputs": [
        {
          "output_type": "execute_result",
          "data": {
            "text/plain": [
              "torch.Size([2, 1, 8, 5])"
            ]
          },
          "metadata": {},
          "execution_count": 47
        }
      ],
      "source": [
        "a = torch.unsqueeze(a, 1)\n",
        "a.size()"
      ]
    },
    {
      "cell_type": "markdown",
      "metadata": {
        "id": "iQ20rgxItEED"
      },
      "source": [
        "Функция transpose может поменять местами два указанных измерения. Создать вектор размерности $2 \\times 2 \\times 3$ и поменять местами измерения 1 и 2:"
      ]
    },
    {
      "cell_type": "code",
      "execution_count": 49,
      "metadata": {
        "colab": {
          "base_uri": "https://localhost:8080/"
        },
        "id": "f9LHsOtAtEED",
        "outputId": "f9727856-ec38-4749-aa9c-27874181287d"
      },
      "outputs": [
        {
          "output_type": "stream",
          "name": "stdout",
          "text": [
            "t:  tensor([[[-0.4577,  1.6173,  0.0869],\n",
            "         [-0.8936,  1.5655,  0.3066]],\n",
            "\n",
            "        [[ 0.4272,  0.5189,  1.1338],\n",
            "         [-0.7439, -0.6214, -1.1727]]])\n",
            "t transpose:  tensor([[[-0.4577, -0.8936],\n",
            "         [ 1.6173,  1.5655],\n",
            "         [ 0.0869,  0.3066]],\n",
            "\n",
            "        [[ 0.4272, -0.7439],\n",
            "         [ 0.5189, -0.6214],\n",
            "         [ 1.1338, -1.1727]]])\n"
          ]
        }
      ],
      "source": [
        "t =  torch.randn(2, 2, 3)\n",
        "print('t: ', t)\n",
        "print('t transpose: ',  torch.transpose(t, 1, 2))"
      ]
    },
    {
      "cell_type": "markdown",
      "metadata": {
        "id": "rRR81pxptEEE"
      },
      "source": [
        "Для подсчёта точности модели бывает необходимо сравнить совпадение вектора с метками данных с выходными (предсказанными значениями).\n",
        "Посчитать количество совпадений (на одинаковых местах одинаковые числа) для двух векторов [9, 4, 3, 9, 6] и [5, 4, 5, 9, 4]."
      ]
    },
    {
      "cell_type": "code",
      "execution_count": 50,
      "metadata": {
        "colab": {
          "base_uri": "https://localhost:8080/"
        },
        "id": "YdQzVMVGtEEE",
        "outputId": "69ec6b82-34dc-49f6-9f0c-ba1907603aad"
      },
      "outputs": [
        {
          "output_type": "execute_result",
          "data": {
            "text/plain": [
              "tensor(2)"
            ]
          },
          "metadata": {},
          "execution_count": 50
        }
      ],
      "source": [
        "a = torch.tensor([9, 4, 3, 9, 6])\n",
        "b = torch.tensor( [5, 4, 5, 9, 4])\n",
        "torch.eq(a, b).sum()"
      ]
    },
    {
      "cell_type": "markdown",
      "metadata": {
        "id": "IxkWYz2etEEE"
      },
      "source": [
        "Чтобы обратиться к элементу тензора, надо указать в скобках его индекс, но в таком случае получим tensor(int). Чтобы получить значение элемента, надо использовать метод item.\n",
        "Создать тензор $[6, 6, 7, 2, 7, 9, 1, 5]$ и найти его 2й элемент, и значение 2го элемента:"
      ]
    },
    {
      "cell_type": "code",
      "execution_count": 51,
      "metadata": {
        "colab": {
          "base_uri": "https://localhost:8080/"
        },
        "id": "H-mtwNnrtEEE",
        "outputId": "be7085db-ea91-4d8a-e102-c1246f5f4754"
      },
      "outputs": [
        {
          "output_type": "stream",
          "name": "stdout",
          "text": [
            "tensor(7)\n",
            "7\n"
          ]
        }
      ],
      "source": [
        "l = torch.tensor([6, 6, 7, 2, 7, 9, 1, 5])\n",
        "print(l[2])\n",
        "print(l[2].item())"
      ]
    },
    {
      "cell_type": "code",
      "execution_count": null,
      "metadata": {
        "id": "kYqH72P5tEEE"
      },
      "outputs": [],
      "source": []
    }
  ],
  "metadata": {
    "colab": {
      "provenance": []
    },
    "kernelspec": {
      "display_name": "Python 3 (ipykernel)",
      "language": "python",
      "name": "python3"
    },
    "language_info": {
      "codemirror_mode": {
        "name": "ipython",
        "version": 3
      },
      "file_extension": ".py",
      "mimetype": "text/x-python",
      "name": "python",
      "nbconvert_exporter": "python",
      "pygments_lexer": "ipython3",
      "version": "3.11.4"
    }
  },
  "nbformat": 4,
  "nbformat_minor": 0
}