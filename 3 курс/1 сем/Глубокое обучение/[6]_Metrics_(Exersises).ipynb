{
  "cells": [
    {
      "cell_type": "markdown",
      "id": "a9c61414",
      "metadata": {
        "id": "a9c61414"
      },
      "source": [
        "## Метрики оценки качества работы искусственной нейронной сети"
      ]
    },
    {
      "cell_type": "markdown",
      "id": "a7c8267e",
      "metadata": {
        "id": "a7c8267e"
      },
      "source": [
        "## Accuracy"
      ]
    },
    {
      "cell_type": "markdown",
      "id": "a917c794",
      "metadata": {
        "id": "a917c794"
      },
      "source": [
        "Интуитивно понятной, очевидной и почти неиспользуемой метрикой является accuracy — доля правильных ответов алгоритма.\n",
        "\n",
        "$$ \\large Accuracy = \\frac{P}{N}, $$\n",
        "\n",
        "где $P$ — количество верно предсказанных классов,\n",
        "\n",
        "$\\quad\\  N$ — общее количество тестовых примеров."
      ]
    },
    {
      "cell_type": "code",
      "execution_count": 1,
      "id": "2c388359",
      "metadata": {
        "colab": {
          "base_uri": "https://localhost:8080/"
        },
        "id": "2c388359",
        "outputId": "38a901ff-1314-42ef-8f81-fb543009a66b"
      },
      "outputs": [
        {
          "output_type": "execute_result",
          "data": {
            "text/plain": [
              "0.5555555555555556"
            ]
          },
          "metadata": {},
          "execution_count": 1
        }
      ],
      "source": [
        "from sklearn.metrics import accuracy_score\n",
        "\n",
        "\n",
        "y_targ = [0, 0, 0, 1, 1, 1, 2, 2, 2]\n",
        "y_pred = [1, 0, 0, 0, 1, 2, 0, 2, 2]\n",
        "\n",
        "accuracy_score(y_targ, y_pred)"
      ]
    },
    {
      "cell_type": "markdown",
      "id": "95f4210d",
      "metadata": {
        "id": "95f4210d"
      },
      "source": [
        "**Какие есть недостатки у такого способа подсчёта?**"
      ]
    },
    {
      "cell_type": "markdown",
      "id": "94f8fedc",
      "metadata": {
        "id": "94f8fedc"
      },
      "source": [
        "<img src =\"https://edunet.kea.su/repo/EduNet-content/L01/out/problem_of_simple_way_to_compute_accuracy.png\" width=\"600\" >"
      ]
    },
    {
      "cell_type": "markdown",
      "id": "8000915d",
      "metadata": {
        "id": "8000915d"
      },
      "source": [
        "Accuracy нельзя использовать, если **данные не сбалансированы**. То есть в одном из классов больше представителей, чем в другом.\n",
        "\n",
        "На рисунке выше мы видим, что при явном количественном преобладании объектов класса airplane модель может классифицировать все объекты как airplane и при этом получить такую же точность, как модель, которая учит все 3 класса, так как количество ошибок будет равно числу объектов классов, в которых меньше представителей (в данном случае в классах automobile и bird по 10 представителей, соответсвенно, 20 ошибок).\n",
        "\n",
        "Также она не подойдет для задач сегментации и детектирования: если требуется не только определить наличие объекта на изображении, но и найти место, где он находится, то весьма желательно учитывать разницу в координатах.\n",
        "\n",
        "Для решения этой проблемы вводятся метрики \"точность\" и \"полнота\""
      ]
    },
    {
      "cell_type": "markdown",
      "id": "f71d1554",
      "metadata": {
        "id": "f71d1554"
      },
      "source": [
        "## Precision, Recall"
      ]
    },
    {
      "cell_type": "markdown",
      "id": "ce6092e2",
      "metadata": {
        "id": "ce6092e2"
      },
      "source": [
        "Для оценки качества работы алгоритма на каждом из классов по отдельности введем метрики **precision (точность)** и **recall (полнота)**.\n",
        "\n",
        "\n",
        "$\\large precision = \\frac{TP}{TP + FP}$\n",
        "\n",
        "\n",
        "$\\large recall = \\frac{TP}{TP + FN}$\n",
        "\n",
        "Precision можно интерпретировать как долю объектов, названных классификатором положительными и при этом действительно являющимися положительными, а recall показывает, какую долю объектов положительного класса из всех объектов положительного класса нашел алгоритм.\n",
        "\n",
        "Именно введение precision не позволяет нам записывать все объекты в один класс, так как в этом случае мы получаем рост уровня False Positive. Recall демонстрирует способность алгоритма обнаруживать данный класс вообще, а precision — способность отличать этот класс от других классов."
      ]
    },
    {
      "cell_type": "markdown",
      "id": "ce1e7307",
      "metadata": {
        "id": "ce1e7307"
      },
      "source": [
        "<img src =\"https://upload.wikimedia.org/wikipedia/commons/2/26/Precisionrecall.svg\" width=\"600\">\n",
        "\n",
        "Для численного описания этих метрик необходимо ввести важную концепцию для описания в терминах ошибок классификации — **confusion matrix** (матрица ошибок).\n",
        "Допустим, что у нас есть два класса и алгоритм, предсказывающий принадлежность каждого объекта одному из классов, тогда матрица ошибок классификации будет выглядеть следующим образом:\n"
      ]
    },
    {
      "cell_type": "markdown",
      "id": "1dc3eded",
      "metadata": {
        "id": "1dc3eded"
      },
      "source": [
        "|      |$\\large y=1$  |$\\large y=0$   |\n",
        "| ---  |---  |---   |\n",
        "| $\\large \\widehat{y}=1$    |$\\large True Positive (TP) $   | $\\large False Positive (FP)   $  |\n",
        "| $\\large \\widehat{y}=0$    |$\\large False Negative (FN)$   | $\\large True Negative (TN)     $ |"
      ]
    },
    {
      "cell_type": "markdown",
      "id": "e1c7dacf",
      "metadata": {
        "id": "e1c7dacf"
      },
      "source": [
        "Пример классификатора, способного проводить различие между всего лишь двумя классами, \"пятерка\" и \"не пятерка\" из набора рукописных цифр MNIST. Ниэе приведён код для матрицы ошибок:"
      ]
    },
    {
      "cell_type": "code",
      "execution_count": 2,
      "id": "a165415d",
      "metadata": {
        "colab": {
          "base_uri": "https://localhost:8080/"
        },
        "id": "a165415d",
        "outputId": "4d8b9337-fc75-4b46-8653-2b87f36f1043"
      },
      "outputs": [
        {
          "output_type": "stream",
          "name": "stderr",
          "text": [
            "/usr/local/lib/python3.10/dist-packages/sklearn/datasets/_openml.py:968: FutureWarning: The default value of `parser` will change from `'liac-arff'` to `'auto'` in 1.4. You can set `parser='auto'` to silence this warning. Therefore, an `ImportError` will be raised from 1.4 if the dataset is dense and pandas is not installed. Note that the pandas parser may return different data types. See the Notes Section in fetch_openml's API doc for details.\n",
            "  warn(\n"
          ]
        },
        {
          "output_type": "stream",
          "name": "stdout",
          "text": [
            "[[53892   687]\n",
            " [ 1891  3530]]\n"
          ]
        }
      ],
      "source": [
        "import numpy as np\n",
        "from sklearn.datasets import fetch_openml\n",
        "from sklearn.model_selection import cross_val_predict\n",
        "from sklearn.metrics import confusion_matrix\n",
        "from sklearn.linear_model import SGDClassifier\n",
        "\n",
        "mnist = fetch_openml('mnist_784', version=1)\n",
        "X, y = mnist[\"data\"], mnist[\"target\"]\n",
        "y = y.astype(np.uint8)\n",
        "\n",
        "X_train, X_test, y_train, y_test = X[:60000], X[60000:], y[:60000], y[60000:]\n",
        "\n",
        "y_train_5 = (y_train == 5) # True для всех пятерок, False для в сех остальных цифр. Задача опознать пятерки\n",
        "y_test_5 = (y_test == 5)\n",
        "\n",
        "sgd_clf = SGDClassifier(random_state=42) # классификатор на основе метода стохастического градиентного спуска (англ. Stochastic Gradient Descent SGD)\n",
        "\n",
        "sgd_clf.fit(X_train, y_train_5) # обучаем классификатор распозновать пятерки на целом обучающем наборе\n",
        "# Для расчета матрицы ошибок сначала понадобится иметь набор прогнозов, чтобы их можно было сравнивать с фактическими целями\n",
        "\n",
        "y_train_pred = cross_val_predict(sgd_clf, X_train, y_train_5, cv=3)\n",
        "\n",
        "print(confusion_matrix(y_train_5, y_train_pred))\n",
        "# array([[53892, 687],\n",
        "#        [ 1891, 3530]])"
      ]
    },
    {
      "cell_type": "markdown",
      "id": "fd73914e",
      "metadata": {
        "id": "fd73914e"
      },
      "source": [
        "**Именно** введение **precision** не позволяет нам записывать все объекты в один класс, так как в этом случае мы получаем рост уровня False Positive. **Recall демонстрирует способность алгоритма обнаруживать данный класс вообще, а precision — способность отличать этот класс от других классов.**\n",
        "\n",
        "<img src =\"https://edunet.kea.su/repo/EduNet-content/L01/out/precision-recall.png\" width=\"800\" >"
      ]
    },
    {
      "cell_type": "markdown",
      "id": "9b7e6c88",
      "metadata": {
        "id": "9b7e6c88"
      },
      "source": [
        "**Accuracy**\n",
        "\n",
        "Accuracy также можно посчитать через матрицу ошибок.\n",
        "\n",
        "$\\large accuracy = \\frac{TP + TN}{TP + TN + FP + FN}$\n"
      ]
    },
    {
      "cell_type": "markdown",
      "id": "a9578b95",
      "metadata": {
        "id": "a9578b95"
      },
      "source": [
        "**Balanced accuracy**\n",
        "\n",
        "В случае дисбаланса классов есть специальный аналог точности – сбалансированная точность.\n",
        "\n",
        "$\\ BA = \\frac{R_1 + R_0}{2} = \\frac{1}{2} (\\frac{TP}{TP + FN} + \\frac{TN}{TN + FP})$\n",
        "\n",
        "Для сбалансированного и несбалансированного случаев она будет равна $0. 96$ и $0.33$ соответственно."
      ]
    },
    {
      "cell_type": "markdown",
      "id": "f395bae5",
      "metadata": {
        "id": "f395bae5"
      },
      "source": [
        "Для простоты запоминания – это среднее полноты всех классов."
      ]
    },
    {
      "cell_type": "markdown",
      "id": "8dcc133c",
      "metadata": {
        "id": "8dcc133c"
      },
      "source": [
        "### Задание: посчитать вручную метрики для полученной матрицы  array([[53892, 687], [ 1891, 3530]])"
      ]
    },
    {
      "cell_type": "code",
      "execution_count": 3,
      "id": "5cf33373",
      "metadata": {
        "colab": {
          "base_uri": "https://localhost:8080/"
        },
        "id": "5cf33373",
        "outputId": "9b6b7fb4-3e64-4fed-e569-5bb105c1f9d2"
      },
      "outputs": [
        {
          "output_type": "stream",
          "name": "stdout",
          "text": [
            "[[53892, 687], [1891, 3530]]\n"
          ]
        }
      ],
      "source": [
        "matrix = [[53892, 687], [ 1891, 3530]]\n",
        "print(matrix)\n",
        "TP = matrix[0][0]\n",
        "TN = matrix[1][1]\n",
        "FP = matrix[0][1]\n",
        "FN = matrix[1][0]"
      ]
    },
    {
      "cell_type": "code",
      "source": [
        "accuracy = (TP+TN)/(TP+TN+FP+FN)\n",
        "accuracy"
      ],
      "metadata": {
        "colab": {
          "base_uri": "https://localhost:8080/"
        },
        "id": "yg1DqYa-6h5R",
        "outputId": "a28bc3ee-9f40-4918-f6bc-4aa6a0195422"
      },
      "id": "yg1DqYa-6h5R",
      "execution_count": 4,
      "outputs": [
        {
          "output_type": "execute_result",
          "data": {
            "text/plain": [
              "0.9570333333333333"
            ]
          },
          "metadata": {},
          "execution_count": 4
        }
      ]
    },
    {
      "cell_type": "code",
      "source": [
        "BA = 1/2*(TP/(TP+FN)+TN/(TN+FP))\n",
        "BA"
      ],
      "metadata": {
        "colab": {
          "base_uri": "https://localhost:8080/"
        },
        "id": "5rBXEtI267Ms",
        "outputId": "13fcc02a-958a-46aa-d0b9-54c307f5405b"
      },
      "id": "5rBXEtI267Ms",
      "execution_count": 5,
      "outputs": [
        {
          "output_type": "execute_result",
          "data": {
            "text/plain": [
              "0.9015943803138955"
            ]
          },
          "metadata": {},
          "execution_count": 5
        }
      ]
    },
    {
      "cell_type": "markdown",
      "id": "2a985dc2",
      "metadata": {
        "id": "2a985dc2"
      },
      "source": [
        "## F-мера"
      ]
    },
    {
      "cell_type": "markdown",
      "id": "8a5fe65c",
      "metadata": {
        "id": "8a5fe65c"
      },
      "source": [
        "Ошибки классификации бывают двух видов: **False Positive** и **False Negative**. Первый вид ошибок называют **ошибкой I-го рода**, второй — **ошибкой II-го рода**. Пусть студент приходит на экзамен. Если он учил и знает, то принадлежит классу с меткой 1, иначе — имеет метку 0 (знающего студента называем «положительным»). Пусть экзаменатор выполняет роль классификатора: ставит зачёт (т.е. метку 1) или отправляет на пересдачу (метку 0). Самое желаемое для студента «не учил, но сдал» соответствует ошибке 1 рода, вторая возможная ошибка «учил, но не сдал» – 2 рода.\n",
        "\n",
        "\n"
      ]
    },
    {
      "cell_type": "markdown",
      "id": "d6d9d59b",
      "metadata": {
        "id": "d6d9d59b"
      },
      "source": [
        "<img src =\"https://edunet.kea.su/repo/EduNet-content/L01/out/1_2_errors.png\" width=\"600\" >"
      ]
    },
    {
      "cell_type": "markdown",
      "id": "2644fb6e",
      "metadata": {
        "id": "2644fb6e"
      },
      "source": [
        "Часто в реальной практике стоит задача найти **оптимальный** **баланс** между **Presicion и Recall**. Классическим примером является задача определения оттока клиентов.\n",
        "\n",
        "**F-мера** (в общем случае $\\ F_\\beta$) — среднее гармоническое precision и recall :\n",
        "\n",
        "$\\large \\ F_\\beta = (1 + \\beta^2) \\cdot \\frac{precision \\cdot recall}{(\\beta^2 \\cdot precision) + recall}$\n",
        "\n",
        "\n",
        "$\\beta$ в данном случае определяет вес точности в метрике, и при $\\beta = 1$ это среднее гармоническое (с множителем 2, чтобы в случае precision = 1 и recall = 1 иметь $\\ F_1 = 1$).\n",
        "F-мера достигает максимума при полноте и точности, равными единице, и близка к нулю, если один из аргументов близок к нулю.\n",
        "\n"
      ]
    },
    {
      "cell_type": "markdown",
      "id": "66c9d0c9",
      "metadata": {
        "id": "66c9d0c9"
      },
      "source": [
        "Сбалансированная F-мера, $β=1$:\n",
        "\n",
        "<img src =\"https://edunet.kea.su/repo/EduNet-content/L01/out/f1_balanced.png\" width=\"500\" >"
      ]
    },
    {
      "cell_type": "markdown",
      "id": "4776a928",
      "metadata": {
        "id": "4776a928"
      },
      "source": [
        "При перекосе в точность ($β=1/4$):\n",
        "\n",
        "<img src =\"https://edunet.kea.su/repo/EduNet-content/L01/out/f1_unbalanced.png\" width=\"500\" >"
      ]
    },
    {
      "cell_type": "markdown",
      "id": "7741c0f9",
      "metadata": {
        "id": "7741c0f9"
      },
      "source": [
        "Более наглядно: низкие значения точности не позволяют метрике F вырасти."
      ]
    },
    {
      "cell_type": "markdown",
      "id": "048c4732",
      "metadata": {
        "id": "048c4732"
      },
      "source": [
        "<img src =\"https://edunet.kea.su/repo/EduNet-content/L01/out/f1_lines.png\" width=\"600\" >\n",
        "\n",
        "<center><em>Зависимость F1-меры от полноты при фиксированной точности. При точности 10% F1-мера не может быть больше 20%.</em></center>\n"
      ]
    },
    {
      "cell_type": "markdown",
      "id": "7bc899a2",
      "metadata": {
        "id": "7bc899a2"
      },
      "source": [
        "В sklearn есть удобная функция **sklearn.metrics.classification_report**, возвращающая recall, precision и F-меру для каждого из классов, а также количество экземпляров каждого класса."
      ]
    },
    {
      "cell_type": "code",
      "execution_count": 6,
      "id": "cc6bf8bc",
      "metadata": {
        "id": "cc6bf8bc",
        "outputId": "d75c26de-2765-47c6-f27c-4078de3d0e34",
        "colab": {
          "base_uri": "https://localhost:8080/"
        }
      },
      "outputs": [
        {
          "output_type": "stream",
          "name": "stdout",
          "text": [
            "              precision    recall  f1-score   support\n",
            "\n",
            "     class 0       0.50      1.00      0.67         1\n",
            "     class 1       0.00      0.00      0.00         1\n",
            "     class 2       1.00      0.67      0.80         3\n",
            "\n",
            "    accuracy                           0.60         5\n",
            "   macro avg       0.50      0.56      0.49         5\n",
            "weighted avg       0.70      0.60      0.61         5\n",
            "\n"
          ]
        }
      ],
      "source": [
        "from sklearn.metrics import classification_report\n",
        "\n",
        "y_true = [0, 1, 2, 2, 2]\n",
        "y_pred = [0, 0, 2, 2, 1]\n",
        "target_names = [\"class 0\", \"class 1\", \"class 2\"]\n",
        "print(classification_report(y_true, y_pred, target_names=target_names))"
      ]
    },
    {
      "cell_type": "markdown",
      "id": "81ff1e79",
      "metadata": {
        "id": "81ff1e79"
      },
      "source": [
        "## Задание. Посчитать отдельно метрики precision, recall, f1-score для нейронной сети из прошлого задания для набора данных MNIST"
      ]
    },
    {
      "cell_type": "code",
      "execution_count": 25,
      "id": "08aee7f2",
      "metadata": {
        "id": "08aee7f2",
        "outputId": "81ae05ea-6b31-40b0-9b3d-ebe1563411e3",
        "colab": {
          "base_uri": "https://localhost:8080/"
        }
      },
      "outputs": [
        {
          "output_type": "execute_result",
          "data": {
            "text/plain": [
              "<All keys matched successfully>"
            ]
          },
          "metadata": {},
          "execution_count": 25
        }
      ],
      "source": [
        "import torch\n",
        "from torch import nn\n",
        "\n",
        "class NeuralNetwork(nn.Module):\n",
        "    def __init__(self):\n",
        "        super().__init__()\n",
        "        self.flatten = nn.Flatten()\n",
        "        self.layers_stack = nn.Sequential(\n",
        "            nn.Linear(28 * 28, 512),\n",
        "            nn.ReLU(),\n",
        "            nn.Linear(512, 128),\n",
        "            nn.ReLU(),\n",
        "            nn.Linear(128, 10),\n",
        "        )\n",
        "\n",
        "    def forward(self, x):\n",
        "        x = self.flatten(x)\n",
        "        logits = self.layers_stack(x)\n",
        "        return logits\n",
        "\n",
        "model = NeuralNetwork()\n",
        "model.load_state_dict(torch.load(\"model_weights.pth\"))\n",
        "#print(list(model.parameters()))"
      ]
    },
    {
      "cell_type": "code",
      "execution_count": 26,
      "id": "b2ffba33",
      "metadata": {
        "id": "b2ffba33",
        "outputId": "baacade2-d0ad-4894-d2ac-c4ae4eb6de5a",
        "colab": {
          "base_uri": "https://localhost:8080/"
        }
      },
      "outputs": [
        {
          "output_type": "stream",
          "name": "stdout",
          "text": [
            "Using cpu device\n"
          ]
        }
      ],
      "source": [
        "import torch\n",
        "from torchvision import datasets\n",
        "from torchvision.transforms import ToTensor\n",
        "from IPython.display import clear_output\n",
        "from torch.utils.data import DataLoader\n",
        "\n",
        "train_data = datasets.MNIST(\n",
        "    root=\"./MNIST\", train=True, download=True, transform=ToTensor()\n",
        ")\n",
        "\n",
        "test_data = datasets.MNIST(\n",
        "    root=\"./MNIST\", train=False, download=True, transform=ToTensor()\n",
        ")\n",
        "\n",
        "\n",
        "train_dataloader = DataLoader(train_data, batch_size=64, shuffle=True)\n",
        "test_dataloader = DataLoader(test_data, batch_size=64, shuffle=False)\n",
        "\n",
        "device = \"cuda\" if torch.cuda.is_available() else \"cpu\"\n",
        "print(f\"Using {device} device\")\n",
        "\n",
        "imgs, labels = next(iter(test_dataloader))\n",
        "pred = model(torch.reshape(imgs, (64, 28, 28)).to(device))\n",
        "\n",
        "pred = pred.detach()\n",
        "digits = np.argmax(pred.cpu().numpy(), axis=1)\n",
        "\n",
        "y_true = digits\n",
        "y_pred = [labels[i].item() for i in range(len(labels))]\n",
        "target_names = [\"0\", \"1\", \"2\", \"3\", \"4\", \"5\", \"6\", \"7\", \"8\", \"9\"]"
      ]
    },
    {
      "cell_type": "code",
      "source": [
        "from sklearn.metrics import precision_score, recall_score, f1_score, classification_report"
      ],
      "metadata": {
        "id": "dvIJ-2mK4gKh"
      },
      "id": "dvIJ-2mK4gKh",
      "execution_count": 27,
      "outputs": []
    },
    {
      "cell_type": "markdown",
      "id": "659c3f5b",
      "metadata": {
        "id": "659c3f5b"
      },
      "source": [
        "### Accuracy:"
      ]
    },
    {
      "cell_type": "code",
      "execution_count": 28,
      "id": "60f55204",
      "metadata": {
        "id": "60f55204",
        "outputId": "74f340b6-4a19-4918-9509-3f521cff84f5",
        "colab": {
          "base_uri": "https://localhost:8080/"
        }
      },
      "outputs": [
        {
          "output_type": "execute_result",
          "data": {
            "text/plain": [
              "0.0625"
            ]
          },
          "metadata": {},
          "execution_count": 28
        }
      ],
      "source": [
        "accuracy = accuracy_score(y_true, y_pred)\n",
        "accuracy"
      ]
    },
    {
      "cell_type": "markdown",
      "id": "59249d53",
      "metadata": {
        "id": "59249d53"
      },
      "source": [
        "### Precision:"
      ]
    },
    {
      "cell_type": "code",
      "execution_count": 29,
      "id": "5b4027fc",
      "metadata": {
        "id": "5b4027fc",
        "outputId": "7df4f93e-faa8-4d52-8a1e-1d0488b9a65d",
        "colab": {
          "base_uri": "https://localhost:8080/"
        }
      },
      "outputs": [
        {
          "output_type": "execute_result",
          "data": {
            "text/plain": [
              "array([0.        , 0.3       , 0.        , 0.        , 0.        ,\n",
              "       0.14285714, 0.        , 0.        , 0.        , 0.        ])"
            ]
          },
          "metadata": {},
          "execution_count": 29
        }
      ],
      "source": [
        "precision = precision_score(y_true, y_pred, average=None)\n",
        "precision"
      ]
    },
    {
      "cell_type": "markdown",
      "id": "84f71ec6",
      "metadata": {
        "id": "84f71ec6"
      },
      "source": [
        "### Recall:"
      ]
    },
    {
      "cell_type": "code",
      "execution_count": 30,
      "id": "2e234623",
      "metadata": {
        "id": "2e234623",
        "outputId": "3bc0f20c-7d11-4ae8-b5c1-428eaec50116",
        "colab": {
          "base_uri": "https://localhost:8080/"
        }
      },
      "outputs": [
        {
          "output_type": "stream",
          "name": "stderr",
          "text": [
            "/usr/local/lib/python3.10/dist-packages/sklearn/metrics/_classification.py:1344: UndefinedMetricWarning: Recall is ill-defined and being set to 0.0 in labels with no true samples. Use `zero_division` parameter to control this behavior.\n",
            "  _warn_prf(average, modifier, msg_start, len(result))\n"
          ]
        },
        {
          "output_type": "execute_result",
          "data": {
            "text/plain": [
              "array([0.        , 0.1       , 0.        , 0.        , 0.        ,\n",
              "       0.02941176, 0.        , 0.        , 0.        , 0.        ])"
            ]
          },
          "metadata": {},
          "execution_count": 30
        }
      ],
      "source": [
        "recall = recall_score(y_true, y_pred, average=None)\n",
        "recall"
      ]
    },
    {
      "cell_type": "markdown",
      "source": [
        "### f1-score:"
      ],
      "metadata": {
        "id": "RgirXaLh5jlV"
      },
      "id": "RgirXaLh5jlV"
    },
    {
      "cell_type": "code",
      "source": [
        "f1 = f1_score(y_true, y_pred, average=None)\n",
        "f1"
      ],
      "metadata": {
        "colab": {
          "base_uri": "https://localhost:8080/"
        },
        "id": "KwCgjsF25t8h",
        "outputId": "a3abe39b-9012-4e36-bd2c-81e4a6a528b0"
      },
      "id": "KwCgjsF25t8h",
      "execution_count": 31,
      "outputs": [
        {
          "output_type": "execute_result",
          "data": {
            "text/plain": [
              "array([0.        , 0.15      , 0.        , 0.        , 0.        ,\n",
              "       0.04878049, 0.        , 0.        , 0.        , 0.        ])"
            ]
          },
          "metadata": {},
          "execution_count": 31
        }
      ]
    },
    {
      "cell_type": "markdown",
      "id": "e99eb7a9",
      "metadata": {
        "id": "e99eb7a9"
      },
      "source": [
        "### Classification report:"
      ]
    },
    {
      "cell_type": "code",
      "execution_count": 32,
      "id": "7f65c089",
      "metadata": {
        "id": "7f65c089",
        "outputId": "38f98ead-9fb5-46a2-c8c9-d0d354059473",
        "colab": {
          "base_uri": "https://localhost:8080/"
        }
      },
      "outputs": [
        {
          "output_type": "stream",
          "name": "stdout",
          "text": [
            "              precision    recall  f1-score   support\n",
            "\n",
            "           0       0.00      0.00      0.00         0\n",
            "           1       0.30      0.10      0.15        30\n",
            "           2       0.00      0.00      0.00         0\n",
            "           3       0.00      0.00      0.00         0\n",
            "           4       0.00      0.00      0.00         0\n",
            "           5       0.14      0.03      0.05        34\n",
            "           6       0.00      0.00      0.00         0\n",
            "           7       0.00      0.00      0.00         0\n",
            "           8       0.00      0.00      0.00         0\n",
            "           9       0.00      0.00      0.00         0\n",
            "\n",
            "    accuracy                           0.06        64\n",
            "   macro avg       0.04      0.01      0.02        64\n",
            "weighted avg       0.22      0.06      0.10        64\n",
            "\n"
          ]
        },
        {
          "output_type": "stream",
          "name": "stderr",
          "text": [
            "/usr/local/lib/python3.10/dist-packages/sklearn/metrics/_classification.py:1344: UndefinedMetricWarning: Recall and F-score are ill-defined and being set to 0.0 in labels with no true samples. Use `zero_division` parameter to control this behavior.\n",
            "  _warn_prf(average, modifier, msg_start, len(result))\n",
            "/usr/local/lib/python3.10/dist-packages/sklearn/metrics/_classification.py:1344: UndefinedMetricWarning: Recall and F-score are ill-defined and being set to 0.0 in labels with no true samples. Use `zero_division` parameter to control this behavior.\n",
            "  _warn_prf(average, modifier, msg_start, len(result))\n",
            "/usr/local/lib/python3.10/dist-packages/sklearn/metrics/_classification.py:1344: UndefinedMetricWarning: Recall and F-score are ill-defined and being set to 0.0 in labels with no true samples. Use `zero_division` parameter to control this behavior.\n",
            "  _warn_prf(average, modifier, msg_start, len(result))\n"
          ]
        }
      ],
      "source": [
        "print(classification_report(y_true, y_pred))"
      ]
    },
    {
      "cell_type": "markdown",
      "id": "2b8608d9",
      "metadata": {
        "id": "2b8608d9"
      },
      "source": [
        "### Многоклассовый случай"
      ]
    },
    {
      "cell_type": "code",
      "execution_count": 34,
      "id": "3d7d7dab",
      "metadata": {
        "id": "3d7d7dab",
        "outputId": "e0c750e0-212b-48d4-edff-c7a614659d5d",
        "colab": {
          "base_uri": "https://localhost:8080/",
          "height": 437
        }
      },
      "outputs": [
        {
          "output_type": "display_data",
          "data": {
            "text/plain": [
              "<Figure size 1000x400 with 4 Axes>"
            ],
            "image/png": "[encoded data removed]"
          },
          "metadata": {}
        },
        {
          "output_type": "stream",
          "name": "stdout",
          "text": [
            "Accuracy Balanced   Data: 0.96\n",
            "Accuracy Unbalanced Data: 0.96\n"
          ]
        }
      ],
      "source": [
        "import matplotlib.pyplot as plt\n",
        "import numpy as np\n",
        "from sklearn import metrics\n",
        "\n",
        "fig, ax = plt.subplots(1, 2, figsize=(10, 4))\n",
        "fig.tight_layout(pad=3.0)\n",
        "plt.rcParams.update({\"font.size\": 16})\n",
        "# font = {'size':'21'}\n",
        "ax[0].set_title(\"Balanced data\")\n",
        "ax[1].set_title(\"Unbalanced data\")\n",
        "\n",
        "labels = [\"Airplane\", \"Auto\", \"Bird\"]\n",
        "\n",
        "# Balanced data\n",
        "air, auto, bird = 150, 150, 150\n",
        "actual_b = np.array([0] * air + [1] * auto + [2] * bird)\n",
        "predicted_b = np.array([0] * (air - 10) + [1] * (auto + 20) + [2] * (bird - 10))\n",
        "\n",
        "# Unbalanced data\n",
        "air, auto, bird = 430, 10, 10\n",
        "actual_ub = np.array([0] * air + [1] * auto + [2] * bird)\n",
        "predicted_ub = np.array([0] * (air + 20) + [1] * (auto - 10) + [2] * (bird - 10))\n",
        "\n",
        "# Balanced data\n",
        "metrics.ConfusionMatrixDisplay(\n",
        "    confusion_matrix=metrics.confusion_matrix(actual_b, predicted_b),\n",
        "    display_labels=labels,\n",
        ").plot(ax=ax[0])\n",
        "\n",
        "# Unbalanced data\n",
        "metrics.ConfusionMatrixDisplay(\n",
        "    confusion_matrix=metrics.confusion_matrix(actual_ub, predicted_ub),\n",
        "    display_labels=labels,\n",
        ").plot(ax=ax[1])\n",
        "\n",
        "label_font = {\"size\": \"15\"}  # Adjust to fit\n",
        "ax[0].set_xlabel(\"Predicted labels\", fontdict=label_font)\n",
        "ax[0].set_ylabel(\"True labels\", fontdict=label_font)\n",
        "ax[1].set_xlabel(\"Predicted labels\", fontdict=label_font)\n",
        "ax[1].set_ylabel(\"True labels\", fontdict=label_font)\n",
        "\n",
        "plt.show()\n",
        "\n",
        "print(\n",
        "    \"Accuracy Balanced   Data:\", round(metrics.accuracy_score(actual_b, predicted_b), 2)\n",
        ")\n",
        "print(\n",
        "    \"Accuracy Unbalanced Data:\",\n",
        "    round(metrics.accuracy_score(actual_ub, predicted_ub), 2),\n",
        ")"
      ]
    },
    {
      "cell_type": "code",
      "execution_count": 36,
      "id": "4aebd92b",
      "metadata": {
        "id": "4aebd92b",
        "outputId": "d5feab42-0cfa-41a6-d4bc-1bcac8c09067",
        "colab": {
          "base_uri": "https://localhost:8080/"
        }
      },
      "outputs": [
        {
          "output_type": "stream",
          "name": "stdout",
          "text": [
            "Balanced accuracy for Balanced data  : 0.96\n",
            "Balanced accuracy for Unbalanced data : 0.33\n"
          ]
        }
      ],
      "source": [
        "print(\n",
        "    \"Balanced accuracy for Balanced data  :\",\n",
        "    round(metrics.balanced_accuracy_score(actual_b, predicted_b), 2),\n",
        ")\n",
        "print(\n",
        "    \"Balanced accuracy for Unbalanced data :\",\n",
        "    round(metrics.balanced_accuracy_score(actual_ub, predicted_ub), 2),\n",
        ")"
      ]
    },
    {
      "cell_type": "markdown",
      "id": "3d1a0d39",
      "metadata": {
        "id": "3d1a0d39"
      },
      "source": [
        "**Multiclass Accuracy**\n",
        "\n",
        "\n",
        "В случае многоклассовой классификации термины TP, FP, TN, FN считаются для каждого класса:"
      ]
    },
    {
      "cell_type": "markdown",
      "id": "ab8433af",
      "metadata": {
        "id": "ab8433af"
      },
      "source": [
        "<img src =\"https://edunet.kea.su/repo/EduNet-content/L01/out/confmatrix.png\" width=\"600\" >\\"
      ]
    },
    {
      "cell_type": "markdown",
      "id": "00a30525",
      "metadata": {
        "id": "00a30525"
      },
      "source": [
        "$\\displaystyle \\large Multiclass Accuracy = \\frac{1}{n}\\sum_{i=1}^{n} [actual_{i}==predicted_{i}]  =   \\frac{\\sum_{k=1}^{N} TP_{Ck} }{\\sum_{k=1}^{N} (TP_{Ck} + TN_{Ck} + FP_{Ck} + FN_{Ck})}$"
      ]
    },
    {
      "cell_type": "markdown",
      "id": "4eac70b2",
      "metadata": {
        "id": "4eac70b2"
      },
      "source": [
        "## AUC-ROC\n",
        "\n",
        "ROC = receiver operating characteristic, AUC = area under the curve"
      ]
    },
    {
      "cell_type": "markdown",
      "id": "42caac50",
      "metadata": {
        "id": "42caac50"
      },
      "source": [
        "Пусть решается задача бинарной классификации, и необходимо оценить важность признака $j$ для решения именно этой задачи. В этом случае можно попробовать построить классификатор, который использует лишь этот один признак $j$, и оценить его качество. Например, можно рассмотреть очень простой классификатор, который берёт значение признака $j$ на объекте, сравнивает его с порогом $t$, и если значение больше этого порога, то он относит объект к первому классу, если же меньше порога — то к другому, нулевому или минус первому, в зависимости от того, как мы его обозначили. Далее, поскольку этот классификатор зависит от порога $t$, то его качество можно измерить с помощью таких метрик, как площадь под ROC-кривой или Precision-Recall кривой, а затем по данной площади отсортировать все признаки и выбрать лучшие.\n",
        "\n",
        "Но вначале разберёмся, что такое **AUC-ROC**."
      ]
    },
    {
      "cell_type": "markdown",
      "id": "2dcec26d",
      "metadata": {
        "id": "2dcec26d"
      },
      "source": [
        "### Построение"
      ]
    },
    {
      "cell_type": "markdown",
      "id": "8ff7f91f",
      "metadata": {
        "id": "8ff7f91f"
      },
      "source": [
        "ROC-кривой (ROC, receiver operating characteristic, кривой ошибок) традиционно называют график кривой, которая характеризует качество предсказаний бинарного классификатора на некоторой фиксированной выборке при всех значениях порога классификации. Площадь под графиком ROC-кривой AUC (area under the curve) является численной характеристикой качества классификатора. Определим, как именно строится ROC-кривая, через рассмотрение примера.\n",
        "\n",
        "Вывод некоторого бинарного классификатора представлен в табл. 1. Упорядочим строки данной таблицы по убыванию значения вывода нашего бинарного классификатора и запишем результат в табл. 2. Если наш алгоритм справился с задачей классификации, то мы увидим в последней колонке также упорядоченные по убыванию значения (или случайное распределение меток 0 и 1 в противном случае)."
      ]
    },
    {
      "cell_type": "markdown",
      "id": "8565e57e",
      "metadata": {
        "id": "8565e57e"
      },
      "source": [
        "<center><img src=\"https://edunet.kea.su/repo/EduNet-content/L01/out/roc_auc_data_example.png\" alt=\"alttext\" width=600/></center>"
      ]
    },
    {
      "cell_type": "markdown",
      "id": "65d51070",
      "metadata": {
        "id": "65d51070"
      },
      "source": [
        "Приступим непосредственно к изображению графика ROC-кривой. Начнём с квадрата единичной площади и изобразим на нём прямоугольную координатную сетку, равномерно нанеся $m$ горизонтальных линий и $n$ вертикальных. Число горизонтальных линий $m$ соответствует количеству объектов класса $1$ из рассматриваемой выборки, а число $n$ — количеству объектов класса $0$. В нашем примере $m=3$ и $n=4$. Таким образом, квадрат единичной площади разбился на $m \\times n$ прямоугольных блоков (на $12$ штук согласно нашему примеру)."
      ]
    },
    {
      "cell_type": "markdown",
      "id": "107ceb96",
      "metadata": {
        "id": "107ceb96"
      },
      "source": [
        "Начиная из точки $(0, 0)$, построим ломаную линию в точку $(1, 1)$ по узлам получившейся решетки по следующему алгоритму:\n",
        "- рассмотрим последовательно все строки табл. 2\n",
        "- оценка алгоритма для объекта из текущей строки не равна оценке для объекта из следующей:\n",
        "- - если в строке содержится объект с меткой класса $1$, рисуем линию до следующего узла вертикально вверх\n",
        "- - если в строке содержится объект с меткой класса $0$, рисуем линию до следующего узла горизонтально направо\n",
        "- оценки для объектов в нескольких последующих строках совпадают:\n",
        "- - нарисовать линию из текущего узла в узел, располагающийся на $k$ углов вертикально выше и на $l$ узлов левее. $k$ и $l$ соответственно равны количеству объектов класса $1$ и $0$ среди группы повторяющихся значений оценок классификатора\n",
        "\n",
        "(всего потребуется не более $n + m$ шагов — столько же, сколько строк в нашей таблице)"
      ]
    },
    {
      "cell_type": "markdown",
      "id": "22cc0342",
      "metadata": {
        "id": "22cc0342"
      },
      "source": [
        "<center><img src=\"https://edunet.kea.su/repo/EduNet-content/L01/out/make_roc_curve.png\" alt=\"alttext\" width=500/></center>\n",
        "\n",
        "<center><em>Рис.1. Построение ROC-кривой.</em></center>"
      ]
    },
    {
      "cell_type": "markdown",
      "id": "8f9447dc",
      "metadata": {
        "id": "8f9447dc"
      },
      "source": [
        "Справа на рис. 1 показана полученная для нашего примера кривая – эта изображенная на единичном квадрате ломанная линия и называется ROC-кривой.\n",
        "\n",
        "Вычислим площадь под получившийся кривой — **AUC-ROC**. В нашем примере AUC-ROC $= 9.5 / 12 ~ 0.79$, и именно это значение является искомой метрикой качества работы нашего бинарного классификатора.\n",
        "(Так как мы начали свое построение с квадрата единичной площади, то AUC-ROC может принимать значения в $[0,1]$)\n",
        "\n",
        "\n",
        "1. ROC-кривая абсолютно точного бинарного классификатора имеет вид $(0,0) \\rightarrow (1,0) \\rightarrow (1,1)$. ROC-AUC для такого идеального классификатора равен площади всего единичного квадрата.\n",
        "2. ROC-кривая для всегда ошибающегося бинарного классификатора имеет вид $(0,0) \\rightarrow (0,1) \\rightarrow (1,1)$. ROC-AUC в этом случае равен нулю.\n",
        "3. Если наш бинарный классификатор для всех объектов предскажет одно и то же значение, то его ROC-кривая будет иметь вид $(0,0) \\rightarrow (1,1)$\n"
      ]
    },
    {
      "cell_type": "markdown",
      "id": "38f18df5",
      "metadata": {
        "id": "38f18df5"
      },
      "source": [
        "<center><img src=\"https://edunet.kea.su/repo/EduNet-content/L01/out/various_roc_curves.png\" alt=\"alttext\" width=500/></center>\n",
        "\n",
        "<center><em>Рис. 2. ROC-кривые для наилучшего (AUC=1), константного (AUC=0.5) и наихудшего (AUC=0) алгоритма.</em></center>\n"
      ]
    },
    {
      "cell_type": "markdown",
      "id": "5d2eaba2",
      "metadata": {
        "id": "5d2eaba2"
      },
      "source": [
        "### Смысл метрики"
      ]
    },
    {
      "cell_type": "markdown",
      "id": "6c62cee4",
      "metadata": {
        "id": "6c62cee4"
      },
      "source": [
        "Как можно заметить на рис. 3, координатная сетка, описанная в нашем алгоритме построения ROC кривой, разбила единичный квадрат на столько прямоугольников, сколько существовало пар объектов класс-$0$ — класс-$1$ в исследуемой выборке данных. Если теперь посчитать количество оказавшихся под ROC-кривой прямоугольников, то можно заметить, что оно в точности равно числу верно классифицированных алгоритмом пар объектов, то есть таких пар объектов противоположных классов, для которых алгоритм поставил большую по величине оценку для объекта класса $1$."
      ]
    },
    {
      "cell_type": "markdown",
      "id": "d2f75417",
      "metadata": {
        "id": "d2f75417"
      },
      "source": [
        "<center><img src=\"https://edunet.kea.su/repo/EduNet-content/L01/out/roc_auc_pairs_descripton.png\" alt=\"alttext\" width=200/></center>\n",
        "\n",
        "<center><em>Рис. 3. Каждый блок соответствует паре объектов.</em></center>"
      ]
    },
    {
      "cell_type": "markdown",
      "id": "86df56a1",
      "metadata": {
        "id": "86df56a1"
      },
      "source": [
        "Таким образом, **ROC-AUC равен части верно упорядоченных оценкой классификатора пар объектов противоположных классов (в которой объект класса $0$ получил оценку исследуемым классификатором ниже, чем объект класса $1$)**. Это явно записывается формулой:"
      ]
    },
    {
      "cell_type": "markdown",
      "id": "2eee084a",
      "metadata": {
        "id": "2eee084a"
      },
      "source": [
        "\n",
        "$$\\text{ROC-AUC} = \\frac{\\sum_{i=1}^{N} \\sum_{j=1}^{N} I[y_{i} < y_{j}]I'[a_{i} < a_{j}] } {\\sum_{i=1}^{N} \\sum_{j=1}^{N} I[y_{i} < y_{j}]} $$\n",
        "\n",
        "\n",
        "\\begin{equation*}\n",
        "I'[a_{i}< a_{j}] =\n",
        " \\begin{cases}\n",
        "   0, & \\quad a_{i} > a_{j},\n",
        "   \\\\\n",
        "   0.5, & \\quad a_{i} = a_{j},\n",
        "   \\\\\n",
        "   1, & \\quad a_{i} < a_{j}.\n",
        " \\end{cases}\n",
        "\\end{equation*}\n",
        "\n",
        "\\begin{equation*}\n",
        "I[y_{i}< y_{j}] =\n",
        " \\begin{cases}\n",
        "   0, & \\quad y_{i} \\geq y_{j},\n",
        "   \\\\\n",
        "   1, & \\quad y_{i} < y_{j}.\n",
        " \\end{cases}\n",
        "\\end{equation*}\n",
        "\n",
        "$ a_{i} $ — выходное значение классификатора на $i$-м  объекте, $ y_{i} $ — априорно верная метка класса для того же объекта, $N$ — полное число объектов."
      ]
    },
    {
      "cell_type": "markdown",
      "id": "b0b3673c",
      "metadata": {
        "id": "b0b3673c"
      },
      "source": [
        "Данное определение можно обобщить на задачу классификации непрерывного множества объектов. Пусть мы взяли два случайных объекта разных классов: $x_i$ класса $0$ и $x_j$, принадлежащий классу $1$. Тогда метрика ROC-AUC равна вероятности того, что в такой паре объектов объект класса $1$ получил оценку выше, нежели объект класса $0$:\n",
        "\n",
        "$$\\text{ROC-AUC}(a) = P(a(x_i) < a(x_j) | y_i=0, y_j=1)$$"
      ]
    },
    {
      "cell_type": "markdown",
      "id": "74bf61dd",
      "metadata": {
        "id": "74bf61dd"
      },
      "source": [
        "## Построение ROC-кривой для бинарного классификатора."
      ]
    },
    {
      "cell_type": "markdown",
      "id": "a9edbdc7-55c0-4f2a-91cd-c17fa91e492a",
      "metadata": {
        "tags": [],
        "id": "a9edbdc7-55c0-4f2a-91cd-c17fa91e492a"
      },
      "source": [
        "Подключим необходимые библиотеки."
      ]
    },
    {
      "cell_type": "code",
      "execution_count": 37,
      "id": "b7198e65-f6ab-4224-9774-e5aeac4bc06d",
      "metadata": {
        "id": "b7198e65-f6ab-4224-9774-e5aeac4bc06d"
      },
      "outputs": [],
      "source": [
        "import numpy as np\n",
        "import pandas as pd\n",
        "import matplotlib.pyplot as plt\n",
        "import seaborn as sns\n",
        "\n",
        "from sklearn.model_selection import train_test_split"
      ]
    },
    {
      "cell_type": "markdown",
      "id": "3a2492e8-5388-4f44-8bdb-c4ea4f81a97a",
      "metadata": {
        "id": "3a2492e8-5388-4f44-8bdb-c4ea4f81a97a"
      },
      "source": [
        "Создадим синтетический набор данных. Сгененируем 1й класс из нормального распределения."
      ]
    },
    {
      "cell_type": "code",
      "execution_count": 38,
      "id": "e82395b4-a0d8-49fd-bbfe-f203a7194d19",
      "metadata": {
        "id": "e82395b4-a0d8-49fd-bbfe-f203a7194d19"
      },
      "outputs": [],
      "source": [
        "class1_x = np.random.normal(loc = 10, scale = 5, size = 500)\n",
        "class1_y = np.random.normal(loc = 1, scale = 5, size = 500)"
      ]
    },
    {
      "cell_type": "markdown",
      "id": "daeca2bb",
      "metadata": {
        "id": "daeca2bb"
      },
      "source": [
        "Создадим 2й класс с дисперсией 5, размерности 500 и математическим ожиданием 1 и 5 соответственно:"
      ]
    },
    {
      "cell_type": "code",
      "execution_count": 39,
      "id": "c22c580c",
      "metadata": {
        "id": "c22c580c"
      },
      "outputs": [],
      "source": [
        "class2_x = np.random.normal(loc=1, scale=np.sqrt(5), size=500)\n",
        "class2_y = np.random.normal(loc=5, scale=np.sqrt(5), size=500)"
      ]
    },
    {
      "cell_type": "markdown",
      "id": "d327332b",
      "metadata": {
        "id": "d327332b"
      },
      "source": [
        "Нарисуем полученные значения на плоскости."
      ]
    },
    {
      "cell_type": "code",
      "execution_count": 40,
      "id": "839eea31-bc8f-4aa7-a37f-b646f6654995",
      "metadata": {
        "id": "839eea31-bc8f-4aa7-a37f-b646f6654995",
        "outputId": "9a6fffc1-ce9a-47e3-e5a4-3b493e27bd74",
        "colab": {
          "base_uri": "https://localhost:8080/",
          "height": 468
        }
      },
      "outputs": [
        {
          "output_type": "execute_result",
          "data": {
            "text/plain": [
              "<Axes: >"
            ]
          },
          "metadata": {},
          "execution_count": 40
        },
        {
          "output_type": "display_data",
          "data": {
            "text/plain": [
              "<Figure size 500x500 with 1 Axes>"
            ],
            "image/png": "[encoded data removed]"
          },
          "metadata": {}
        }
      ],
      "source": [
        "plt.figure(figsize=(5, 5))\n",
        "sns.scatterplot(x = class1_x, y = class1_y)\n",
        "sns.scatterplot(x = class2_x, y = class2_y)"
      ]
    },
    {
      "cell_type": "markdown",
      "id": "8a2b7b0a-e14f-4fb6-822b-4dc399f0ba8f",
      "metadata": {
        "id": "8a2b7b0a-e14f-4fb6-822b-4dc399f0ba8f"
      },
      "source": [
        "Переведём оба класса в многомерные массивы (dataframe)."
      ]
    },
    {
      "cell_type": "code",
      "execution_count": 41,
      "id": "77ccad7d-2644-4818-a220-dab73cca3dee",
      "metadata": {
        "id": "77ccad7d-2644-4818-a220-dab73cca3dee"
      },
      "outputs": [],
      "source": [
        "df_class1 = pd.DataFrame()\n",
        "df_class1['x'] = class1_x\n",
        "df_class1['y'] = class1_y\n",
        "df_class1['class'] = 0"
      ]
    },
    {
      "cell_type": "code",
      "execution_count": 42,
      "id": "c38731a6-e1fd-40c0-9aee-142974c2b00b",
      "metadata": {
        "id": "c38731a6-e1fd-40c0-9aee-142974c2b00b"
      },
      "outputs": [],
      "source": [
        "df_class2 = pd.DataFrame()\n",
        "df_class2['x'] = class2_x\n",
        "df_class2['y'] = class2_y\n",
        "df_class2['class'] = 1"
      ]
    },
    {
      "cell_type": "markdown",
      "id": "a2813b64",
      "metadata": {
        "id": "a2813b64"
      },
      "source": [
        "И соединим их в один большой массив данных."
      ]
    },
    {
      "cell_type": "code",
      "execution_count": 44,
      "id": "43d7f5f3-e571-4559-ac13-00ae222d6613",
      "metadata": {
        "id": "43d7f5f3-e571-4559-ac13-00ae222d6613"
      },
      "outputs": [],
      "source": [
        "df = pd.concat([df_class1, df_class2], ignore_index=True)"
      ]
    },
    {
      "cell_type": "markdown",
      "id": "52045bf5",
      "metadata": {
        "id": "52045bf5"
      },
      "source": [
        "Разделим переменные на независимые и зависимые."
      ]
    },
    {
      "cell_type": "code",
      "execution_count": 45,
      "id": "e2c0d5eb-c9a2-4fc5-84a3-720dd7a3d53a",
      "metadata": {
        "id": "e2c0d5eb-c9a2-4fc5-84a3-720dd7a3d53a"
      },
      "outputs": [],
      "source": [
        "X = df.drop(columns = ['class'])\n",
        "y = df['class']"
      ]
    },
    {
      "cell_type": "markdown",
      "id": "57b6f706",
      "metadata": {
        "id": "57b6f706"
      },
      "source": [
        "Разделим данные на тренировочные и тестовые в соотношении 1 к 3."
      ]
    },
    {
      "cell_type": "code",
      "execution_count": 46,
      "id": "231c70c7",
      "metadata": {
        "id": "231c70c7"
      },
      "outputs": [],
      "source": [
        "X_train, X_test, y_train, y_test = train_test_split(X, y, test_size=0.25, random_state=42)"
      ]
    },
    {
      "cell_type": "markdown",
      "id": "fce30bb6-9858-43f2-8d21-dfc000b9c877",
      "metadata": {
        "id": "fce30bb6-9858-43f2-8d21-dfc000b9c877"
      },
      "source": [
        "Выберем простой наивный байесовский классификатор ([статья в Википедии](https://ru.wikipedia.org/wiki/Наивный_байесовский_классификатор), [код реализации применения алгоритма для отслеживания спама](https://github.com/makispl/SMS-Spam-Filter-Naive-Bayes/blob/master/SMS_Spam_Filtering_Naive_Bayes.ipynb))."
      ]
    },
    {
      "cell_type": "code",
      "execution_count": 47,
      "id": "90a8f69e-35e1-49ee-a555-7b83f8a1a045",
      "metadata": {
        "id": "90a8f69e-35e1-49ee-a555-7b83f8a1a045"
      },
      "outputs": [],
      "source": [
        "from sklearn.naive_bayes import GaussianNB"
      ]
    },
    {
      "cell_type": "markdown",
      "id": "4d7bc752",
      "metadata": {
        "id": "4d7bc752"
      },
      "source": [
        "Создадим объект модели."
      ]
    },
    {
      "cell_type": "code",
      "execution_count": 48,
      "id": "2ea42abb-4be5-4029-b892-c5cb19d805fc",
      "metadata": {
        "id": "2ea42abb-4be5-4029-b892-c5cb19d805fc"
      },
      "outputs": [],
      "source": [
        "model = GaussianNB()"
      ]
    },
    {
      "cell_type": "markdown",
      "id": "431ef506",
      "metadata": {
        "id": "431ef506"
      },
      "source": [
        "Подадим модели на вход тренировочные данные."
      ]
    },
    {
      "cell_type": "code",
      "execution_count": 49,
      "id": "108c4210-fd65-4c30-a59c-c3288fd3b89b",
      "metadata": {
        "id": "108c4210-fd65-4c30-a59c-c3288fd3b89b",
        "colab": {
          "base_uri": "https://localhost:8080/",
          "height": 75
        },
        "outputId": "87d75a9f-8b10-45dd-ac01-f4a8212cbe0b"
      },
      "outputs": [
        {
          "output_type": "execute_result",
          "data": {
            "text/plain": [
              "GaussianNB()"
            ],
            "text/html": [
              "<style>#sk-container-id-1 {color: black;background-color: white;}#sk-container-id-1 pre{padding: 0;}#sk-container-id-1 div.sk-toggleable {background-color: white;}#sk-container-id-1 label.sk-toggleable__label {cursor: pointer;display: block;width: 100%;margin-bottom: 0;padding: 0.3em;box-sizing: border-box;text-align: center;}#sk-container-id-1 label.sk-toggleable__label-arrow:before {content: \"▸\";float: left;margin-right: 0.25em;color: #696969;}#sk-container-id-1 label.sk-toggleable__label-arrow:hover:before {color: black;}#sk-container-id-1 div.sk-estimator:hover label.sk-toggleable__label-arrow:before {color: black;}#sk-container-id-1 div.sk-toggleable__content {max-height: 0;max-width: 0;overflow: hidden;text-align: left;background-color: #f0f8ff;}#sk-container-id-1 div.sk-toggleable__content pre {margin: 0.2em;color: black;border-radius: 0.25em;background-color: #f0f8ff;}#sk-container-id-1 input.sk-toggleable__control:checked~div.sk-toggleable__content {max-height: 200px;max-width: 100%;overflow: auto;}#sk-container-id-1 input.sk-toggleable__control:checked~label.sk-toggleable__label-arrow:before {content: \"▾\";}#sk-container-id-1 div.sk-estimator input.sk-toggleable__control:checked~label.sk-toggleable__label {background-color: #d4ebff;}#sk-container-id-1 div.sk-label input.sk-toggleable__control:checked~label.sk-toggleable__label {background-color: #d4ebff;}#sk-container-id-1 input.sk-hidden--visually {border: 0;clip: rect(1px 1px 1px 1px);clip: rect(1px, 1px, 1px, 1px);height: 1px;margin: -1px;overflow: hidden;padding: 0;position: absolute;width: 1px;}#sk-container-id-1 div.sk-estimator {font-family: monospace;background-color: #f0f8ff;border: 1px dotted black;border-radius: 0.25em;box-sizing: border-box;margin-bottom: 0.5em;}#sk-container-id-1 div.sk-estimator:hover {background-color: #d4ebff;}#sk-container-id-1 div.sk-parallel-item::after {content: \"\";width: 100%;border-bottom: 1px solid gray;flex-grow: 1;}#sk-container-id-1 div.sk-label:hover label.sk-toggleable__label {background-color: #d4ebff;}#sk-container-id-1 div.sk-serial::before {content: \"\";position: absolute;border-left: 1px solid gray;box-sizing: border-box;top: 0;bottom: 0;left: 50%;z-index: 0;}#sk-container-id-1 div.sk-serial {display: flex;flex-direction: column;align-items: center;background-color: white;padding-right: 0.2em;padding-left: 0.2em;position: relative;}#sk-container-id-1 div.sk-item {position: relative;z-index: 1;}#sk-container-id-1 div.sk-parallel {display: flex;align-items: stretch;justify-content: center;background-color: white;position: relative;}#sk-container-id-1 div.sk-item::before, #sk-container-id-1 div.sk-parallel-item::before {content: \"\";position: absolute;border-left: 1px solid gray;box-sizing: border-box;top: 0;bottom: 0;left: 50%;z-index: -1;}#sk-container-id-1 div.sk-parallel-item {display: flex;flex-direction: column;z-index: 1;position: relative;background-color: white;}#sk-container-id-1 div.sk-parallel-item:first-child::after {align-self: flex-end;width: 50%;}#sk-container-id-1 div.sk-parallel-item:last-child::after {align-self: flex-start;width: 50%;}#sk-container-id-1 div.sk-parallel-item:only-child::after {width: 0;}#sk-container-id-1 div.sk-dashed-wrapped {border: 1px dashed gray;margin: 0 0.4em 0.5em 0.4em;box-sizing: border-box;padding-bottom: 0.4em;background-color: white;}#sk-container-id-1 div.sk-label label {font-family: monospace;font-weight: bold;display: inline-block;line-height: 1.2em;}#sk-container-id-1 div.sk-label-container {text-align: center;}#sk-container-id-1 div.sk-container {/* jupyter's `normalize.less` sets `[hidden] { display: none; }` but bootstrap.min.css set `[hidden] { display: none !important; }` so we also need the `!important` here to be able to override the default hidden behavior on the sphinx rendered scikit-learn.org. See: https://github.com/scikit-learn/scikit-learn/issues/21755 */display: inline-block !important;position: relative;}#sk-container-id-1 div.sk-text-repr-fallback {display: none;}</style><div id=\"sk-container-id-1\" class=\"sk-top-container\"><div class=\"sk-text-repr-fallback\"><pre>GaussianNB()</pre><b>In a Jupyter environment, please rerun this cell to show the HTML representation or trust the notebook. <br />On GitHub, the HTML representation is unable to render, please try loading this page with nbviewer.org.</b></div><div class=\"sk-container\" hidden><div class=\"sk-item\"><div class=\"sk-estimator sk-toggleable\"><input class=\"sk-toggleable__control sk-hidden--visually\" id=\"sk-estimator-id-1\" type=\"checkbox\" checked><label for=\"sk-estimator-id-1\" class=\"sk-toggleable__label sk-toggleable__label-arrow\">GaussianNB</label><div class=\"sk-toggleable__content\"><pre>GaussianNB()</pre></div></div></div></div></div>"
            ]
          },
          "metadata": {},
          "execution_count": 49
        }
      ],
      "source": [
        "model.fit(X_train, y_train)"
      ]
    },
    {
      "cell_type": "markdown",
      "id": "6d43c4bc",
      "metadata": {
        "id": "6d43c4bc"
      },
      "source": [
        "Выведем предсказания на тестовых данных."
      ]
    },
    {
      "cell_type": "code",
      "execution_count": 50,
      "id": "ce540af6-758c-4c38-9dc5-296c34d22557",
      "metadata": {
        "id": "ce540af6-758c-4c38-9dc5-296c34d22557"
      },
      "outputs": [],
      "source": [
        "y_pred = model.predict(X_test)"
      ]
    },
    {
      "cell_type": "markdown",
      "id": "db09e0e0",
      "metadata": {
        "id": "db09e0e0"
      },
      "source": [
        "Выведем первые 10 выходов."
      ]
    },
    {
      "cell_type": "code",
      "execution_count": 52,
      "id": "e07898ee-4cd0-4b6d-bfff-1d98189cfb80",
      "metadata": {
        "id": "e07898ee-4cd0-4b6d-bfff-1d98189cfb80",
        "outputId": "f6f29d1e-6950-479a-9a9a-4756b961ce43",
        "colab": {
          "base_uri": "https://localhost:8080/"
        }
      },
      "outputs": [
        {
          "output_type": "execute_result",
          "data": {
            "text/plain": [
              "array([1, 1, 1, 1, 0, 1, 1, 1, 1, 0])"
            ]
          },
          "metadata": {},
          "execution_count": 52
        }
      ],
      "source": [
        "y_pred[:10]"
      ]
    },
    {
      "cell_type": "markdown",
      "id": "3b8b58aa",
      "metadata": {
        "id": "3b8b58aa"
      },
      "source": [
        "Предскажем классы для тестовых данных и вернём вероятности для каждого класса:"
      ]
    },
    {
      "cell_type": "code",
      "execution_count": 53,
      "id": "b8911e59-f8f9-485b-85d3-7ac807a6352e",
      "metadata": {
        "id": "b8911e59-f8f9-485b-85d3-7ac807a6352e"
      },
      "outputs": [],
      "source": [
        "y_proba = model.predict_proba(X_test)"
      ]
    },
    {
      "cell_type": "markdown",
      "id": "fb483e8c",
      "metadata": {
        "id": "fb483e8c"
      },
      "source": [
        "Посмотрим на первые 10 выходных значений."
      ]
    },
    {
      "cell_type": "code",
      "execution_count": 54,
      "id": "1c2a3ce7-6c28-4e81-8040-357f90bae3f0",
      "metadata": {
        "id": "1c2a3ce7-6c28-4e81-8040-357f90bae3f0",
        "outputId": "b55059ef-fd33-427b-dd35-dfc3840f2f02",
        "colab": {
          "base_uri": "https://localhost:8080/"
        }
      },
      "outputs": [
        {
          "output_type": "execute_result",
          "data": {
            "text/plain": [
              "array([[4.68951932e-01, 5.31048068e-01],\n",
              "       [2.43993104e-02, 9.75600690e-01],\n",
              "       [8.86931235e-02, 9.11306876e-01],\n",
              "       [5.26051135e-02, 9.47394887e-01],\n",
              "       [9.91136818e-01, 8.86318249e-03],\n",
              "       [6.67683287e-02, 9.33231671e-01],\n",
              "       [5.28578557e-02, 9.47142144e-01],\n",
              "       [1.12254012e-01, 8.87745988e-01],\n",
              "       [2.75444842e-02, 9.72455516e-01],\n",
              "       [9.99948128e-01, 5.18719464e-05]])"
            ]
          },
          "metadata": {},
          "execution_count": 54
        }
      ],
      "source": [
        "y_proba[:10]"
      ]
    },
    {
      "cell_type": "markdown",
      "id": "3f78f2ec",
      "metadata": {
        "id": "3f78f2ec"
      },
      "source": [
        "Выведем полученные значения в виде графика на экран."
      ]
    },
    {
      "cell_type": "code",
      "execution_count": 55,
      "id": "67cf2801-97f7-4cbc-aa3b-5175b9fa4b2a",
      "metadata": {
        "id": "67cf2801-97f7-4cbc-aa3b-5175b9fa4b2a",
        "outputId": "8309e7dd-8a56-414e-bb42-17c0a2cd46f6",
        "colab": {
          "base_uri": "https://localhost:8080/",
          "height": 478
        }
      },
      "outputs": [
        {
          "output_type": "execute_result",
          "data": {
            "text/plain": [
              "<Axes: xlabel='x', ylabel='y'>"
            ]
          },
          "metadata": {},
          "execution_count": 55
        },
        {
          "output_type": "display_data",
          "data": {
            "text/plain": [
              "<Figure size 640x480 with 1 Axes>"
            ],
            "image/png": "[encoded data removed]"
          },
          "metadata": {}
        }
      ],
      "source": [
        "sns.scatterplot(x = X_test['x'], y = X_test['y'], hue = y_pred)"
      ]
    },
    {
      "cell_type": "markdown",
      "id": "9d2731c3-f871-47c6-ac38-8df5f99364c0",
      "metadata": {
        "id": "9d2731c3-f871-47c6-ac38-8df5f99364c0"
      },
      "source": [
        "Построим ROC-кривую. Для этого сначала импортируем confusion_matrix, введём функци для посчёта её значений и явного выделения TN, FP, FN, TP. Результатом функции будут true positive rate и false positive rate."
      ]
    },
    {
      "cell_type": "code",
      "execution_count": null,
      "id": "69c71572-5413-428a-895e-ac82c1b8d423",
      "metadata": {
        "id": "69c71572-5413-428a-895e-ac82c1b8d423"
      },
      "outputs": [],
      "source": [
        "from sklearn.metrics import confusion_matrix"
      ]
    },
    {
      "cell_type": "code",
      "execution_count": 56,
      "id": "c51aee7f-fb37-4dea-b616-b3364ac81637",
      "metadata": {
        "id": "c51aee7f-fb37-4dea-b616-b3364ac81637"
      },
      "outputs": [],
      "source": [
        "def calculate_tpr_fpr(y_real, y_pred):\n",
        "    '''\n",
        "    Calculates the True Positive Rate (tpr) and the True Negative Rate (fpr) based on real and predicted observations\n",
        "\n",
        "    Args:\n",
        "        y_real: The list or series with the real classes\n",
        "        y_pred: The list or series with the predicted classes\n",
        "\n",
        "    Returns:\n",
        "        tpr: The True Positive Rate of the classifier\n",
        "        fpr: The False Positive Rate of the classifier\n",
        "    '''\n",
        "\n",
        "    # Посчитать confusion matrix и явно выделить значения\n",
        "    cm = confusion_matrix(y_real, y_pred)\n",
        "    TN = cm[0][0]\n",
        "    FP = cm[0][1]\n",
        "    FN = cm[1][0]\n",
        "    TP = cm[1][1]\n",
        "\n",
        "    # Посчитать tpr (sensitivity - true positive rate) и fpr (1-specificity - false positive rate)\n",
        "    tpr = TP / (TP + FN)\n",
        "    fpr = FP / (FP + TN)\n",
        "\n",
        "    return tpr, fpr"
      ]
    },
    {
      "cell_type": "markdown",
      "id": "4c863b1e",
      "metadata": {
        "id": "4c863b1e"
      },
      "source": [
        "Построим функцию для выделения координат точек ROC-кривой."
      ]
    },
    {
      "cell_type": "code",
      "execution_count": 57,
      "id": "89c7c604-3bb2-4220-99fd-86c7cdc8c192",
      "metadata": {
        "id": "89c7c604-3bb2-4220-99fd-86c7cdc8c192"
      },
      "outputs": [],
      "source": [
        "def get_n_roc_coordinates(y_real, y_proba, resolution = 50):\n",
        "    '''\n",
        "    Calculates \"n\" ROC Curve coordinates (tpr and fpr) by manipulating the threshold used to predict the class.\n",
        "\n",
        "    Args:\n",
        "        y_real: The list or series with the real classes.\n",
        "        y_proba: The array with the probabilities for each class, obtained by using the `.predict_proba()` method.\n",
        "        resolution: Defines how many divisions the threshold will have, and how many coordinates will be calculated (default = 50).\n",
        "\n",
        "    Returns:\n",
        "        tpr_list: The list of TPRs representing each threshold.\n",
        "        fpr_list: The list of FPRs representing each threshold.\n",
        "    '''\n",
        "    tpr_list = [0]\n",
        "    fpr_list = [0]\n",
        "    for i in range(resolution):\n",
        "        threshold = i/resolution\n",
        "        y_pred = y_proba[:, 1] > threshold\n",
        "        tpr, fpr = calculate_tpr_fpr(y_real, y_pred)\n",
        "        tpr_list.append(tpr)\n",
        "        fpr_list.append(fpr)\n",
        "    return tpr_list, fpr_list"
      ]
    },
    {
      "cell_type": "markdown",
      "id": "fb0cc21d",
      "metadata": {
        "id": "fb0cc21d"
      },
      "source": [
        "Создадим отдельно функцию для непосредственного вывода графика на экран."
      ]
    },
    {
      "cell_type": "code",
      "execution_count": 58,
      "id": "3ce494a0-f4a6-4482-9d64-de2c68950f94",
      "metadata": {
        "id": "3ce494a0-f4a6-4482-9d64-de2c68950f94"
      },
      "outputs": [],
      "source": [
        "def plot_roc_curve(tpr, fpr, scatter = True):\n",
        "    '''\n",
        "    Plots the ROC Curve by using the list of coordinates (tpr and fpr).\n",
        "\n",
        "    Args:\n",
        "        tpr: The list of TPRs representing each coordinate.\n",
        "        fpr: The list of FPRs representing each coordinate.\n",
        "        scatter: When True, the points used on the calculation will be plotted with the line (default = True).\n",
        "    '''\n",
        "    plt.figure(figsize = (5, 5))\n",
        "    if scatter:\n",
        "        sns.scatterplot(x = fpr, y = tpr)\n",
        "    sns.lineplot(x = fpr, y = tpr)\n",
        "    sns.lineplot(x = [0, 1], y = [0, 1], color = 'green')\n",
        "    plt.xlim(-0.05, 1.05)\n",
        "    plt.ylim(-0.05, 1.05)\n",
        "    plt.xlabel(\"False Positive Rate\")\n",
        "    plt.ylabel(\"True Positive Rate\")"
      ]
    },
    {
      "cell_type": "markdown",
      "id": "87092d02",
      "metadata": {
        "id": "87092d02"
      },
      "source": [
        "Теперь получите ROC-кривую для 10 точек."
      ]
    },
    {
      "cell_type": "code",
      "execution_count": 59,
      "id": "e6d3c277-c51d-45d9-a222-b1b450d8ad67",
      "metadata": {
        "id": "e6d3c277-c51d-45d9-a222-b1b450d8ad67",
        "outputId": "4d19668a-823c-446c-ee28-4110575609b2",
        "colab": {
          "base_uri": "https://localhost:8080/",
          "height": 477
        }
      },
      "outputs": [
        {
          "output_type": "display_data",
          "data": {
            "text/plain": [
              "<Figure size 500x500 with 1 Axes>"
            ],
            "image/png": "[encoded data removed]"
          },
          "metadata": {}
        }
      ],
      "source": [
        "tpr, fpr = get_n_roc_coordinates(y_test, y_proba, resolution=10)\n",
        "\n",
        "plot_roc_curve(tpr, fpr)"
      ]
    },
    {
      "cell_type": "markdown",
      "id": "ff704985-3ff6-43d4-9065-eb82e11e7fd6",
      "metadata": {
        "id": "ff704985-3ff6-43d4-9065-eb82e11e7fd6"
      },
      "source": [
        "Построение ROC-кривой с использованием библиотеки Sklearn"
      ]
    },
    {
      "cell_type": "code",
      "execution_count": 60,
      "id": "3fa065c0-1b4b-4c63-91d8-814b5188adcd",
      "metadata": {
        "id": "3fa065c0-1b4b-4c63-91d8-814b5188adcd"
      },
      "outputs": [],
      "source": [
        "from sklearn.metrics import roc_curve\n",
        "from sklearn.metrics import RocCurveDisplay"
      ]
    },
    {
      "cell_type": "code",
      "execution_count": 61,
      "id": "1a935fcc-7575-44bd-bf1a-b73c7b8a5236",
      "metadata": {
        "id": "1a935fcc-7575-44bd-bf1a-b73c7b8a5236"
      },
      "outputs": [],
      "source": [
        "def plot_sklearn_roc_curve(y_real, y_pred):\n",
        "    '''\n",
        "    Plots the ROC Curve with the sklearn methods by using the real observations and their predictions.\n",
        "\n",
        "    Args:\n",
        "        y_real: The list or series with the real classes\n",
        "        y_pred: The list or series with the predicted classes\n",
        "    '''\n",
        "    fpr, tpr, _ = roc_curve(y_real, y_pred)\n",
        "    roc_display = RocCurveDisplay(fpr=fpr, tpr=tpr).plot()\n",
        "    roc_display.figure_.set_size_inches(5,5)"
      ]
    },
    {
      "cell_type": "code",
      "execution_count": 62,
      "id": "66093c09-56b5-41e8-babb-db1047cfe301",
      "metadata": {
        "id": "66093c09-56b5-41e8-babb-db1047cfe301",
        "outputId": "ab1617b0-e6b8-4443-e157-f466ae3e5bce",
        "colab": {
          "base_uri": "https://localhost:8080/",
          "height": 477
        }
      },
      "outputs": [
        {
          "output_type": "display_data",
          "data": {
            "text/plain": [
              "<Figure size 500x500 with 1 Axes>"
            ],
            "image/png": "[encoded data removed]"
          },
          "metadata": {}
        }
      ],
      "source": [
        "# Plots the ROC curve using the sklearn methods\n",
        "plot_sklearn_roc_curve(y_test, y_proba[:, 1])"
      ]
    },
    {
      "cell_type": "markdown",
      "id": "f2cfe957-c8eb-4553-ab41-8846c889a2c4",
      "metadata": {
        "id": "f2cfe957-c8eb-4553-ab41-8846c889a2c4"
      },
      "source": [
        "Выведем все метрики для данной модели."
      ]
    },
    {
      "cell_type": "code",
      "execution_count": 63,
      "id": "7021a007-44b7-4981-9440-6c25c52caca7",
      "metadata": {
        "id": "7021a007-44b7-4981-9440-6c25c52caca7"
      },
      "outputs": [],
      "source": [
        "from sklearn.metrics import accuracy_score\n",
        "from sklearn.metrics import roc_auc_score\n",
        "from sklearn.metrics import precision_score\n",
        "from sklearn.metrics import recall_score"
      ]
    },
    {
      "cell_type": "code",
      "execution_count": 65,
      "id": "a82760b5-a24d-45b2-a9be-8e4c2346c39d",
      "metadata": {
        "id": "a82760b5-a24d-45b2-a9be-8e4c2346c39d"
      },
      "outputs": [],
      "source": [
        "def evaluate_classifier(y_real, y_pred):\n",
        "    '''\n",
        "    Prints the accuracy, precision, recall and roc auc scores for the classifier.\n",
        "\n",
        "    Args:\n",
        "        y_real: The list or series with the real classes\n",
        "        y_pred: The list or series with the predicted classes\n",
        "    '''\n",
        "    print(f\"Accuracy: {accuracy_score(y_real, y_pred):.4f}\")\n",
        "    print(f\"Precision: {precision_score(y_real, y_pred):.4f}\")\n",
        "    print(f\"Recall: {recall_score(y_real, y_pred):.4f}\")\n",
        "    print(f\"ROC AUC: {roc_auc_score(y_real, y_pred):.4f}\")"
      ]
    },
    {
      "cell_type": "code",
      "execution_count": 66,
      "id": "42c1ae80-dba1-4246-9c25-25fce767fa82",
      "metadata": {
        "id": "42c1ae80-dba1-4246-9c25-25fce767fa82",
        "outputId": "1afbba91-646b-435e-8d32-6afee8986810",
        "colab": {
          "base_uri": "https://localhost:8080/"
        }
      },
      "outputs": [
        {
          "output_type": "stream",
          "name": "stdout",
          "text": [
            "Accuracy: 0.9440\n",
            "Precision: 0.9130\n",
            "Recall: 0.9844\n",
            "ROC AUC: 0.9430\n"
          ]
        }
      ],
      "source": [
        "evaluate_classifier(y_test, y_pred)"
      ]
    },
    {
      "cell_type": "markdown",
      "id": "e313a1a3",
      "metadata": {
        "id": "e313a1a3"
      },
      "source": [
        "## Построение ROC-кривой для многоклассового случая."
      ]
    },
    {
      "cell_type": "markdown",
      "id": "f2a4b048",
      "metadata": {
        "id": "f2a4b048"
      },
      "source": [
        "Загружаем необходимые библиотеки."
      ]
    },
    {
      "cell_type": "code",
      "execution_count": 67,
      "id": "d2dedd4e",
      "metadata": {
        "id": "d2dedd4e"
      },
      "outputs": [],
      "source": [
        "import matplotlib.pyplot as plt\n",
        "from sklearn import svm, datasets\n",
        "from sklearn.model_selection import train_test_split\n",
        "from sklearn.preprocessing import label_binarize\n",
        "from sklearn.metrics import roc_curve, auc\n",
        "from sklearn.multiclass import OneVsRestClassifier\n",
        "from itertools import cycle"
      ]
    },
    {
      "cell_type": "markdown",
      "id": "65ab1824",
      "metadata": {
        "id": "65ab1824"
      },
      "source": [
        "Загрузить набо данных The Iris Dataset, выделить непосредственно данные и целевые метки."
      ]
    },
    {
      "cell_type": "code",
      "execution_count": 68,
      "id": "91388265",
      "metadata": {
        "id": "91388265"
      },
      "outputs": [],
      "source": [
        "iris = datasets.load_iris()\n",
        "X = iris.data\n",
        "y = iris.target"
      ]
    },
    {
      "cell_type": "markdown",
      "id": "5c42eb6c",
      "metadata": {
        "id": "5c42eb6c"
      },
      "source": [
        "Перевести метки классов в трехмерный вектор принадлежности каждого класса при помощи функции label_binarize."
      ]
    },
    {
      "cell_type": "code",
      "execution_count": 69,
      "id": "2d2d6949",
      "metadata": {
        "id": "2d2d6949"
      },
      "outputs": [],
      "source": [
        "y = label_binarize(y, classes=[0, 1, 2])\n",
        "n_classes = y.shape[1]"
      ]
    },
    {
      "cell_type": "markdown",
      "id": "ff0b6664",
      "metadata": {
        "id": "ff0b6664"
      },
      "source": [
        "Разделить данные на тренировочную и тестовую части в равных долях."
      ]
    },
    {
      "cell_type": "code",
      "execution_count": 70,
      "id": "67487afc",
      "metadata": {
        "id": "67487afc"
      },
      "outputs": [],
      "source": [
        "X_train, X_test, y_train, y_test = train_test_split(X, y, test_size=0.5, random_state=42)"
      ]
    },
    {
      "cell_type": "markdown",
      "id": "ea612480",
      "metadata": {
        "id": "ea612480"
      },
      "source": [
        "Применим алгоритм One-vs-the-rest (OvR) multiclass strategy."
      ]
    },
    {
      "cell_type": "code",
      "execution_count": 71,
      "id": "7557754a",
      "metadata": {
        "id": "7557754a"
      },
      "outputs": [],
      "source": [
        "classifier = OneVsRestClassifier(svm.SVC(kernel='linear', probability=True,\n",
        "                                 random_state=0))\n",
        "y_score = classifier.fit(X_train, y_train).decision_function(X_test)"
      ]
    },
    {
      "cell_type": "markdown",
      "id": "cb0735b1",
      "metadata": {
        "id": "cb0735b1"
      },
      "source": [
        "Построим ROC-кривые для каждого класса и выведем значение площади под каждой кривой."
      ]
    },
    {
      "cell_type": "code",
      "execution_count": 72,
      "id": "e981385d",
      "metadata": {
        "id": "e981385d",
        "outputId": "f200c16d-d4ca-492a-ac3f-44111f3ecc23",
        "colab": {
          "base_uri": "https://localhost:8080/",
          "height": 490
        }
      },
      "outputs": [
        {
          "output_type": "display_data",
          "data": {
            "text/plain": [
              "<Figure size 640x480 with 1 Axes>"
            ],
            "image/png": "[encoded data removed]"
          },
          "metadata": {}
        }
      ],
      "source": [
        "fpr = dict()\n",
        "tpr = dict()\n",
        "roc_auc = dict()\n",
        "lw=2\n",
        "\n",
        "for i in range(n_classes):\n",
        "    fpr[i], tpr[i], _ = roc_curve(y_test[:, i], y_score[:, i])\n",
        "    roc_auc[i] = auc(fpr[i], tpr[i])\n",
        "colors = cycle(['blue', 'red', 'green'])\n",
        "\n",
        "for i, color in zip(range(n_classes), colors):\n",
        "    plt.plot(fpr[i], tpr[i], color=color, lw=2,\n",
        "             label='ROC curve of class {0} (area = {1:0.2f})'\n",
        "             ''.format(i, roc_auc[i]))\n",
        "\n",
        "    plt.plot([0, 1], [0, 1], 'k--', lw=lw)\n",
        "plt.xlim([-0.05, 1.0])\n",
        "plt.ylim([0.0, 1.05])\n",
        "plt.xlabel('False Positive Rate')\n",
        "plt.ylabel('True Positive Rate')\n",
        "plt.title('Receiver operating characteristic for multi-class data')\n",
        "plt.legend(loc=\"lower right\")\n",
        "plt.show()"
      ]
    },
    {
      "cell_type": "markdown",
      "id": "5a2a5c4c",
      "metadata": {
        "id": "5a2a5c4c"
      },
      "source": [
        "[Задачи от Александра Дьяконова на понимание логики ROC-AUC](https://alexanderdyakonov.wordpress.com/2015/10/09/задачки-про-auc-roc/)"
      ]
    },
    {
      "cell_type": "code",
      "execution_count": null,
      "id": "e7fa92d9",
      "metadata": {
        "id": "e7fa92d9"
      },
      "outputs": [],
      "source": []
    }
  ],
  "metadata": {
    "kernelspec": {
      "display_name": "Python 3 (ipykernel)",
      "language": "python",
      "name": "python3"
    },
    "language_info": {
      "codemirror_mode": {
        "name": "ipython",
        "version": 3
      },
      "file_extension": ".py",
      "mimetype": "text/x-python",
      "name": "python",
      "nbconvert_exporter": "python",
      "pygments_lexer": "ipython3",
      "version": "3.11.4"
    },
    "colab": {
      "provenance": []
    }
  },
  "nbformat": 4,
  "nbformat_minor": 5
}