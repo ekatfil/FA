{
  "cells": [
    {
      "cell_type": "markdown",
      "metadata": {
        "id": "o0mOUchLPMAR"
      },
      "source": [
        "---"
      ]
    },
    {
      "cell_type": "markdown",
      "metadata": {
        "id": "xPszMQhYbSVb"
      },
      "source": [
        "<h2 style=\"text-align: center;\"><b>Word embeddings</b></h2>\n",
        "<br> Присутствуют обучающие материалы из DLS"
      ]
    },
    {
      "cell_type": "markdown",
      "metadata": {
        "id": "d8r43Kl9_r3t"
      },
      "source": [
        "Библиотеки, которые нам понадобятся сегодня (на самом деле 2 первые из них вам тоже понадобятся впоследствии)"
      ]
    },
    {
      "cell_type": "code",
      "execution_count": 3,
      "metadata": {
        "colab": {
          "base_uri": "https://localhost:8080/"
        },
        "id": "v16BL9Wuk9jm",
        "outputId": "767309d0-1b8f-4cfa-c3fa-e657ebab60eb"
      },
      "outputs": [
        {
          "output_type": "stream",
          "name": "stdout",
          "text": [
            "Requirement already satisfied: nltk in /usr/local/lib/python3.10/dist-packages (3.8.1)\n",
            "Requirement already satisfied: gensim in /usr/local/lib/python3.10/dist-packages (4.3.2)\n",
            "Requirement already satisfied: bokeh in /usr/local/lib/python3.10/dist-packages (3.2.2)\n",
            "Requirement already satisfied: click in /usr/local/lib/python3.10/dist-packages (from nltk) (8.1.7)\n",
            "Requirement already satisfied: joblib in /usr/local/lib/python3.10/dist-packages (from nltk) (1.3.2)\n",
            "Requirement already satisfied: regex>=2021.8.3 in /usr/local/lib/python3.10/dist-packages (from nltk) (2023.6.3)\n",
            "Requirement already satisfied: tqdm in /usr/local/lib/python3.10/dist-packages (from nltk) (4.66.1)\n",
            "Requirement already satisfied: numpy>=1.18.5 in /usr/local/lib/python3.10/dist-packages (from gensim) (1.23.5)\n",
            "Requirement already satisfied: scipy>=1.7.0 in /usr/local/lib/python3.10/dist-packages (from gensim) (1.10.1)\n",
            "Requirement already satisfied: smart-open>=1.8.1 in /usr/local/lib/python3.10/dist-packages (from gensim) (6.3.0)\n",
            "Requirement already satisfied: Jinja2>=2.9 in /usr/local/lib/python3.10/dist-packages (from bokeh) (3.1.2)\n",
            "Requirement already satisfied: contourpy>=1 in /usr/local/lib/python3.10/dist-packages (from bokeh) (1.1.0)\n",
            "Requirement already satisfied: packaging>=16.8 in /usr/local/lib/python3.10/dist-packages (from bokeh) (23.1)\n",
            "Requirement already satisfied: pandas>=1.2 in /usr/local/lib/python3.10/dist-packages (from bokeh) (1.5.3)\n",
            "Requirement already satisfied: pillow>=7.1.0 in /usr/local/lib/python3.10/dist-packages (from bokeh) (9.4.0)\n",
            "Requirement already satisfied: PyYAML>=3.10 in /usr/local/lib/python3.10/dist-packages (from bokeh) (6.0.1)\n",
            "Requirement already satisfied: tornado>=5.1 in /usr/local/lib/python3.10/dist-packages (from bokeh) (6.3.2)\n",
            "Requirement already satisfied: xyzservices>=2021.09.1 in /usr/local/lib/python3.10/dist-packages (from bokeh) (2023.7.0)\n",
            "Requirement already satisfied: MarkupSafe>=2.0 in /usr/local/lib/python3.10/dist-packages (from Jinja2>=2.9->bokeh) (2.1.3)\n",
            "Requirement already satisfied: python-dateutil>=2.8.1 in /usr/local/lib/python3.10/dist-packages (from pandas>=1.2->bokeh) (2.8.2)\n",
            "Requirement already satisfied: pytz>=2020.1 in /usr/local/lib/python3.10/dist-packages (from pandas>=1.2->bokeh) (2023.3.post1)\n",
            "Requirement already satisfied: six>=1.5 in /usr/local/lib/python3.10/dist-packages (from python-dateutil>=2.8.1->pandas>=1.2->bokeh) (1.16.0)\n"
          ]
        }
      ],
      "source": [
        "!pip install --upgrade nltk gensim bokeh"
      ]
    },
    {
      "cell_type": "markdown",
      "metadata": {
        "id": "kZTnWfoEbryt"
      },
      "source": [
        "**NLTK** (Natural Language Toolkit) -- библиотека с множеством функций для работы с естественным языком (например, лемматизация, токенизация и т.д.)\n",
        "\n",
        "https://www.nltk.org\n",
        "\n",
        "We wull use it for tokenization for now."
      ]
    },
    {
      "cell_type": "code",
      "execution_count": 4,
      "metadata": {
        "colab": {
          "base_uri": "https://localhost:8080/",
          "height": 245
        },
        "id": "U7vuP82fbdpx",
        "outputId": "27de7817-209e-4919-c40b-0a4062f3a019"
      },
      "outputs": [
        {
          "output_type": "error",
          "ename": "FileNotFoundError",
          "evalue": "ignored",
          "traceback": [
            "\u001b[0;31m---------------------------------------------------------------------------\u001b[0m",
            "\u001b[0;31mFileNotFoundError\u001b[0m                         Traceback (most recent call last)",
            "\u001b[0;32m<ipython-input-4-6d07e358dce4>\u001b[0m in \u001b[0;36m<cell line: 4>\u001b[0;34m()\u001b[0m\n\u001b[1;32m      2\u001b[0m \u001b[0mtokenizer\u001b[0m \u001b[0;34m=\u001b[0m \u001b[0mWordPunctTokenizer\u001b[0m\u001b[0;34m(\u001b[0m\u001b[0;34m)\u001b[0m\u001b[0;34m\u001b[0m\u001b[0;34m\u001b[0m\u001b[0m\n\u001b[1;32m      3\u001b[0m \u001b[0;34m\u001b[0m\u001b[0m\n\u001b[0;32m----> 4\u001b[0;31m \u001b[0mquora\u001b[0m \u001b[0;34m=\u001b[0m \u001b[0mlist\u001b[0m\u001b[0;34m(\u001b[0m\u001b[0mopen\u001b[0m\u001b[0;34m(\u001b[0m\u001b[0;34m\"/content/drive/MyDrive/NLP/Lec1/quora.txt\"\u001b[0m\u001b[0;34m)\u001b[0m\u001b[0;34m)\u001b[0m\u001b[0;34m\u001b[0m\u001b[0;34m\u001b[0m\u001b[0m\n\u001b[0m\u001b[1;32m      5\u001b[0m \u001b[0;31m# посмотрите на 10-й вопрос из набора данных\u001b[0m\u001b[0;34m\u001b[0m\u001b[0;34m\u001b[0m\u001b[0m\n\u001b[1;32m      6\u001b[0m \u001b[0mprint\u001b[0m\u001b[0;34m(\u001b[0m\u001b[0mtokenizer\u001b[0m\u001b[0;34m.\u001b[0m\u001b[0mtokenize\u001b[0m\u001b[0;34m(\u001b[0m\u001b[0mquora\u001b[0m\u001b[0;34m[\u001b[0m\u001b[0;36m10\u001b[0m\u001b[0;34m]\u001b[0m\u001b[0;34m)\u001b[0m\u001b[0;34m)\u001b[0m\u001b[0;34m\u001b[0m\u001b[0;34m\u001b[0m\u001b[0m\n",
            "\u001b[0;31mFileNotFoundError\u001b[0m: [Errno 2] No such file or directory: '/content/drive/MyDrive/NLP/Lec1/quora.txt'"
          ]
        }
      ],
      "source": [
        "from nltk.tokenize import WordPunctTokenizer\n",
        "tokenizer = WordPunctTokenizer()\n",
        "\n",
        "quora = list(open(\"/content/drive/MyDrive/NLP/Lec1/quora.txt\"))\n",
        "# посмотрите на 10-й вопрос из набора данных\n",
        "print(tokenizer.tokenize(quora[10]))"
      ]
    },
    {
      "cell_type": "code",
      "source": [
        "from google.colab import drive\n",
        "drive.mount('/content/drive')"
      ],
      "metadata": {
        "colab": {
          "base_uri": "https://localhost:8080/"
        },
        "id": "0FuSk0PM5Cr7",
        "outputId": "c9b562d8-5f7a-47ab-ede3-535cbaad8152"
      },
      "execution_count": 5,
      "outputs": [
        {
          "output_type": "stream",
          "name": "stdout",
          "text": [
            "Mounted at /content/drive\n"
          ]
        }
      ]
    },
    {
      "cell_type": "markdown",
      "metadata": {
        "id": "Q72RDmVkBCC3"
      },
      "source": [
        "Давайте выделим все тексты из quora.txt файл и получаем массив массивов токенов:"
      ]
    },
    {
      "cell_type": "code",
      "execution_count": 4,
      "metadata": {
        "id": "3Z6xzhsPc1jZ"
      },
      "outputs": [],
      "source": [
        "quora_tokenized = [tokenizer.tokenize(line.lower()) for line in quora]"
      ]
    },
    {
      "cell_type": "markdown",
      "metadata": {
        "id": "6aHSIIThdSIF"
      },
      "source": [
        "Существует множество различных моделей для обучения встраиванию слов (Word2Vec, GloVe, Fast Text и т.д.). А пока давайте попробуем обучить word2vec.\n",
        "\n",
        "Библиотека gensim поможет нам в этом - она предоставляет модели для обучения Word2Vec и дальнейшего исследования векторов"
      ]
    },
    {
      "cell_type": "code",
      "execution_count": 6,
      "metadata": {
        "id": "iwPQDCXWdBrW"
      },
      "outputs": [],
      "source": [
        "from gensim.models import Word2Vec\n",
        "# определите модель (точно так же, как модель torch) с параметрами\n",
        "# и обучим его на наших данных\n",
        "model = Word2Vec(quora_tokenized, # data for model to train on\n",
        "                # size=32,         # embedding vector size\n",
        "                 min_count=5,     # consider words that occured at least 5 times\n",
        "                 window=3).wv     # define context as a 3-word window around the target word"
      ]
    },
    {
      "cell_type": "markdown",
      "metadata": {
        "id": "YfzWThklBiJo"
      },
      "source": [
        "Now we have trained model and can play with it:"
      ]
    },
    {
      "cell_type": "code",
      "execution_count": 7,
      "metadata": {
        "colab": {
          "base_uri": "https://localhost:8080/"
        },
        "id": "7xirOxjPdKAd",
        "outputId": "7c13cec1-a0aa-4e9c-9809-bf2bd7c68090"
      },
      "outputs": [
        {
          "output_type": "execute_result",
          "data": {
            "text/plain": [
              "array([ 2.05028   ,  1.1732328 ,  1.8690771 ,  3.115047  , -0.52948475,\n",
              "       -0.37871805, -1.6909506 ,  0.95436454, -0.7006884 , -0.5957786 ,\n",
              "       -0.59806633,  1.9189829 ,  1.3974497 , -0.74520665,  0.8385884 ,\n",
              "        0.64575195,  0.35078266, -0.35600105,  0.13039918, -0.01832051,\n",
              "        2.3652403 , -0.20920892,  0.20708306,  0.35353777,  0.7634945 ,\n",
              "        0.58841604, -0.41782123,  0.45740426,  1.6559302 ,  1.2203902 ,\n",
              "       -1.0471364 ,  0.1293066 ,  0.2071299 ,  1.3013158 ,  0.2741603 ,\n",
              "       -0.32199878, -0.29142377, -0.19762284, -0.6343401 , -2.7536442 ,\n",
              "        0.54261476, -3.2708266 , -0.3316612 ,  0.7168067 , -0.15625274,\n",
              "       -0.64098346,  0.2939145 , -0.7505192 , -0.95889235,  0.00491759,\n",
              "        2.219831  , -0.56373864, -1.5212404 ,  0.7117865 , -0.143657  ,\n",
              "        0.5739159 ,  0.6202563 ,  0.72549   ,  1.1450355 ,  0.40056726,\n",
              "        0.9561764 ,  2.8547065 , -1.3626566 ,  1.0202392 , -0.3783986 ,\n",
              "       -0.6654603 ,  1.2546318 , -1.3208002 ,  1.3429047 ,  1.9968761 ,\n",
              "        1.2673509 , -1.5627558 , -1.4468147 ,  2.5799081 ,  0.7729359 ,\n",
              "       -0.9238203 ,  0.80407107, -0.25131947, -0.70086175, -0.31363904,\n",
              "        0.28902665,  0.15921369, -0.3295807 , -1.3292656 , -2.2823558 ,\n",
              "        1.999801  , -1.8678181 ,  1.342735  ,  1.894245  ,  1.0907732 ,\n",
              "       -1.296842  , -2.6382678 , -2.2297475 , -2.0958984 ,  0.7834889 ,\n",
              "       -0.38950366, -0.27803206, -1.0516577 ,  1.1664197 ,  0.23650944],\n",
              "      dtype=float32)"
            ]
          },
          "metadata": {},
          "execution_count": 7
        }
      ],
      "source": [
        "# мы можем получить вектор для любого слова в нашем словаре\n",
        "model.get_vector('tv')"
      ]
    },
    {
      "cell_type": "code",
      "execution_count": 8,
      "metadata": {
        "colab": {
          "base_uri": "https://localhost:8080/"
        },
        "id": "IFy6mJsXdhXE",
        "outputId": "28b47d34-20b6-464e-a161-480d0774cb63"
      },
      "outputs": [
        {
          "output_type": "execute_result",
          "data": {
            "text/plain": [
              "[('television', 0.8076784610748291),\n",
              " ('netflix', 0.6535308361053467),\n",
              " ('hbo', 0.6359075307846069),\n",
              " ('anime', 0.6158614754676819),\n",
              " ('film', 0.6150400638580322),\n",
              " ('dvd', 0.5907697677612305),\n",
              " ('movies', 0.5892204642295837),\n",
              " ('comedy', 0.5844661593437195),\n",
              " ('lcd', 0.5835879445075989),\n",
              " ('kapil', 0.5830109715461731)]"
            ]
          },
          "metadata": {},
          "execution_count": 8
        }
      ],
      "source": [
        "# и получите слова, векторы которых наиболее похожи на вектор данного слова\n",
        "model.most_similar('tv')"
      ]
    },
    {
      "cell_type": "markdown",
      "metadata": {
        "id": "k-CSminTez1z"
      },
      "source": [
        "Cуществуют предварительно обученные модели или даже предварительно вычисленные коллекции векторов слов!"
      ]
    },
    {
      "cell_type": "code",
      "execution_count": 9,
      "metadata": {
        "colab": {
          "base_uri": "https://localhost:8080/"
        },
        "id": "xoUBV_UMfRIu",
        "outputId": "9562b60f-611b-4eb0-e681-f42af4e3197b"
      },
      "outputs": [
        {
          "output_type": "stream",
          "name": "stdout",
          "text": [
            "[=================================================-] 99.7% 385.9/387.1MB downloaded\n"
          ]
        }
      ],
      "source": [
        "import gensim.downloader as api\n",
        "model = api.load('glove-twitter-100') # list of available models: https://github.com/RaRe-Technologies/gensim-data#models"
      ]
    },
    {
      "cell_type": "code",
      "execution_count": 12,
      "metadata": {
        "colab": {
          "base_uri": "https://localhost:8080/"
        },
        "id": "Z30sJahPf2Y2",
        "outputId": "cdbcc4b8-0fbd-451e-83bc-4e1da5335163"
      },
      "outputs": [
        {
          "output_type": "execute_result",
          "data": {
            "text/plain": [
              "[('broker', 0.5820155739784241),\n",
              " ('bonuses', 0.5424473285675049),\n",
              " ('banker', 0.5385112762451172),\n",
              " ('designer', 0.5197198390960693),\n",
              " ('merchandising', 0.4964233338832855),\n",
              " ('treet', 0.4922019839286804),\n",
              " ('shopper', 0.4920562207698822),\n",
              " ('part-time', 0.4912828207015991),\n",
              " ('freelance', 0.4843311905860901),\n",
              " ('aupair', 0.4796452522277832)]"
            ]
          },
          "metadata": {},
          "execution_count": 12
        }
      ],
      "source": [
        "# who is a person who has money and related to coding, but is really stupid?\n",
        "# (it's how a model trained on text corpus thinks, not me)\n",
        "model.most_similar(positive=[\"coder\", \"money\"], negative=[\"brain\"])"
      ]
    },
    {
      "cell_type": "markdown",
      "metadata": {
        "id": "2aJOipoChANV"
      },
      "source": [
        "Также, используя gensim, мы можем загрузить предварительно обученные векторы из файла vectors. Например, мы можем загрузить предварительно подготовленные векторы Google word2vec::\n",
        "\n",
        "http://mccormickml.com/2016/04/12/googles-pretrained-word2vec-model-in-python/"
      ]
    },
    {
      "cell_type": "code",
      "execution_count": null,
      "metadata": {
        "id": "PwH86KytheiP"
      },
      "outputs": [],
      "source": [
        "# from gensim.models import KeyedVectors\n",
        "# model = KeyedVectors.load_word2vec_format('./GoogleNews-vectors-negative300.bin', binary=True)"
      ]
    },
    {
      "cell_type": "markdown",
      "metadata": {
        "id": "ntBcysEnh-DP"
      },
      "source": [
        "## Visualization"
      ]
    },
    {
      "cell_type": "markdown",
      "metadata": {
        "id": "cvVwJWM2CGHW"
      },
      "source": [
        "Итак, давайте визуализируем наши вложения в двумерном пространстве.\n",
        "\n",
        "Что нам нужно, так это:\n",
        "1. получите вложения для пакета слов из модели gensim\n",
        "2. уменьшите размерность этих вложений со 100-мерных до 2-мерных векторов\n",
        "3. нормализуйте эти векторы\n",
        "4. нарисуйте это на плоскости!\n",
        "\n",
        "Так что давайте сделаем это:"
      ]
    },
    {
      "cell_type": "code",
      "execution_count": 27,
      "metadata": {
        "colab": {
          "base_uri": "https://localhost:8080/"
        },
        "id": "aMn9AdhxhrOn",
        "outputId": "3f73f221-9d05-4e76-d824-8e07af0837a3"
      },
      "outputs": [
        {
          "output_type": "stream",
          "name": "stdout",
          "text": [
            "['<user>', 'i', ')', 'no', 'la', 'o', '>', 'are', 'we', '♥', '_', 'now', '~', 'people', \"'re\", '>>', '[', 'q', 'je', 'never', 'please', 'c', 'hahaha', 'لا', 'then', 'itu', 'had', 'ah', 'esta', 'does', 'apa', 'les', 'work', 'god', 'ha', 'their', 'в', '\\\\', 'gue', '＾', 'justin', 'thing', 'hope', 'nigga', 'udah', 'same', 'voy', 'find', 'اللي', 'face', 'text', 'kau', 'very', 'may', 'pretty', 'already', 'qué', 'día', 'money', 'name', 'hari', 'wow', 'black', 'vamos', 'nao', 'head', 'trying', 'lot', 'ان', 'mad', 'playing', '✌', 'own', 'friday', 'estar', 'yet', 'une', 'mana', 'لي', 'car', 'once', 'nem', 'summer', 'fan', 'tudo', 'sexy', 'sea', 'excited', 'far', 'lost', 'sei', 'sabe', 'picture', 'dice', 'km', 'fast', 'moi', 'anda', 'noche', 'relationship']\n"
          ]
        }
      ],
      "source": [
        "n_words = 1000\n",
        "words = sorted(model.key_to_index.keys(),\n",
        "               key=lambda word: model.get_vecattr(word, \"count\"), # sort by number of word occurencies\n",
        "               reverse=True)[:n_words]\n",
        "\n",
        "print(words[::10])"
      ]
    },
    {
      "cell_type": "code",
      "execution_count": 28,
      "metadata": {
        "id": "FStm52npiL3d"
      },
      "outputs": [],
      "source": [
        "# get embeddings for those words\n",
        "word_vectors = [model.get_vector(word) for word in words]"
      ]
    },
    {
      "cell_type": "markdown",
      "metadata": {
        "id": "Z0M2b2Weim4k"
      },
      "source": [
        "For vectors visualization we need to reduce dimensionality of vectors to 2 (or 3). We'll use **PCA** for that\n",
        "\n",
        "https://scikit-learn.org/stable/modules/generated/sklearn.decomposition.PCA.html"
      ]
    },
    {
      "cell_type": "code",
      "execution_count": 29,
      "metadata": {
        "id": "p3F9_sQmiaPx"
      },
      "outputs": [],
      "source": [
        "from sklearn.decomposition import PCA\n",
        "pca = PCA(n_components=2)\n",
        "pca.fit(word_vectors)\n",
        "word_vectors_pca = pca.transform(word_vectors)"
      ]
    },
    {
      "cell_type": "markdown",
      "metadata": {
        "id": "UXC_Tzz9kkGL"
      },
      "source": [
        "Also let's normalize vectors we got from PCA for better visibility\n",
        "\n",
        "We already did normalization by hand in one of the first homeworks in our course, but for now let's use sklearn api:\n",
        "\n",
        "https://scikit-learn.org/stable/modules/generated/sklearn.preprocessing.StandardScaler.html"
      ]
    },
    {
      "cell_type": "code",
      "execution_count": 30,
      "metadata": {
        "id": "7AgGtiMQibR3"
      },
      "outputs": [],
      "source": [
        "from sklearn.preprocessing import StandardScaler\n",
        "ss = StandardScaler().fit(word_vectors_pca)\n",
        "word_vectors_pca = ss.transform(word_vectors_pca)"
      ]
    },
    {
      "cell_type": "markdown",
      "metadata": {
        "id": "dd1aScI_DNSP"
      },
      "source": [
        "Finally we are to draw an (interactive!) space of embeddings, using function below:"
      ]
    },
    {
      "cell_type": "code",
      "execution_count": 31,
      "metadata": {
        "colab": {
          "base_uri": "https://localhost:8080/",
          "height": 434
        },
        "id": "5YL3o6g2jsql",
        "outputId": "d47bda5f-97bb-4543-99d9-3731c23f5f77"
      },
      "outputs": [
        {
          "output_type": "display_data",
          "data": {
            "application/javascript": [
              "(function(root) {\n",
              "  function now() {\n",
              "    return new Date();\n",
              "  }\n",
              "\n",
              "  const force = true;\n",
              "\n",
              "  if (typeof root._bokeh_onload_callbacks === \"undefined\" || force === true) {\n",
              "    root._bokeh_onload_callbacks = [];\n",
              "    root._bokeh_is_loading = undefined;\n",
              "  }\n",
              "\n",
              "const JS_MIME_TYPE = 'application/javascript';\n",
              "  const HTML_MIME_TYPE = 'text/html';\n",
              "  const EXEC_MIME_TYPE = 'application/vnd.bokehjs_exec.v0+json';\n",
              "  const CLASS_NAME = 'output_bokeh rendered_html';\n",
              "\n",
              "  /**\n",
              "   * Render data to the DOM node\n",
              "   */\n",
              "  function render(props, node) {\n",
              "    const script = document.createElement(\"script\");\n",
              "    node.appendChild(script);\n",
              "  }\n",
              "\n",
              "  /**\n",
              "   * Handle when an output is cleared or removed\n",
              "   */\n",
              "  function handleClearOutput(event, handle) {\n",
              "    const cell = handle.cell;\n",
              "\n",
              "    const id = cell.output_area._bokeh_element_id;\n",
              "    const server_id = cell.output_area._bokeh_server_id;\n",
              "    // Clean up Bokeh references\n",
              "    if (id != null && id in Bokeh.index) {\n",
              "      Bokeh.index[id].model.document.clear();\n",
              "      delete Bokeh.index[id];\n",
              "    }\n",
              "\n",
              "    if (server_id !== undefined) {\n",
              "      // Clean up Bokeh references\n",
              "      const cmd_clean = \"from bokeh.io.state import curstate; print(curstate().uuid_to_server['\" + server_id + \"'].get_sessions()[0].document.roots[0]._id)\";\n",
              "      cell.notebook.kernel.execute(cmd_clean, {\n",
              "        iopub: {\n",
              "          output: function(msg) {\n",
              "            const id = msg.content.text.trim();\n",
              "            if (id in Bokeh.index) {\n",
              "              Bokeh.index[id].model.document.clear();\n",
              "              delete Bokeh.index[id];\n",
              "            }\n",
              "          }\n",
              "        }\n",
              "      });\n",
              "      // Destroy server and session\n",
              "      const cmd_destroy = \"import bokeh.io.notebook as ion; ion.destroy_server('\" + server_id + \"')\";\n",
              "      cell.notebook.kernel.execute(cmd_destroy);\n",
              "    }\n",
              "  }\n",
              "\n",
              "  /**\n",
              "   * Handle when a new output is added\n",
              "   */\n",
              "  function handleAddOutput(event, handle) {\n",
              "    const output_area = handle.output_area;\n",
              "    const output = handle.output;\n",
              "\n",
              "    // limit handleAddOutput to display_data with EXEC_MIME_TYPE content only\n",
              "    if ((output.output_type != \"display_data\") || (!Object.prototype.hasOwnProperty.call(output.data, EXEC_MIME_TYPE))) {\n",
              "      return\n",
              "    }\n",
              "\n",
              "    const toinsert = output_area.element.find(\".\" + CLASS_NAME.split(' ')[0]);\n",
              "\n",
              "    if (output.metadata[EXEC_MIME_TYPE][\"id\"] !== undefined) {\n",
              "      toinsert[toinsert.length - 1].firstChild.textContent = output.data[JS_MIME_TYPE];\n",
              "      // store reference to embed id on output_area\n",
              "      output_area._bokeh_element_id = output.metadata[EXEC_MIME_TYPE][\"id\"];\n",
              "    }\n",
              "    if (output.metadata[EXEC_MIME_TYPE][\"server_id\"] !== undefined) {\n",
              "      const bk_div = document.createElement(\"div\");\n",
              "      bk_div.innerHTML = output.data[HTML_MIME_TYPE];\n",
              "      const script_attrs = bk_div.children[0].attributes;\n",
              "      for (let i = 0; i < script_attrs.length; i++) {\n",
              "        toinsert[toinsert.length - 1].firstChild.setAttribute(script_attrs[i].name, script_attrs[i].value);\n",
              "        toinsert[toinsert.length - 1].firstChild.textContent = bk_div.children[0].textContent\n",
              "      }\n",
              "      // store reference to server id on output_area\n",
              "      output_area._bokeh_server_id = output.metadata[EXEC_MIME_TYPE][\"server_id\"];\n",
              "    }\n",
              "  }\n",
              "\n",
              "  function register_renderer(events, OutputArea) {\n",
              "\n",
              "    function append_mime(data, metadata, element) {\n",
              "      // create a DOM node to render to\n",
              "      const toinsert = this.create_output_subarea(\n",
              "        metadata,\n",
              "        CLASS_NAME,\n",
              "        EXEC_MIME_TYPE\n",
              "      );\n",
              "      this.keyboard_manager.register_events(toinsert);\n",
              "      // Render to node\n",
              "      const props = {data: data, metadata: metadata[EXEC_MIME_TYPE]};\n",
              "      render(props, toinsert[toinsert.length - 1]);\n",
              "      element.append(toinsert);\n",
              "      return toinsert\n",
              "    }\n",
              "\n",
              "    /* Handle when an output is cleared or removed */\n",
              "    events.on('clear_output.CodeCell', handleClearOutput);\n",
              "    events.on('delete.Cell', handleClearOutput);\n",
              "\n",
              "    /* Handle when a new output is added */\n",
              "    events.on('output_added.OutputArea', handleAddOutput);\n",
              "\n",
              "    /**\n",
              "     * Register the mime type and append_mime function with output_area\n",
              "     */\n",
              "    OutputArea.prototype.register_mime_type(EXEC_MIME_TYPE, append_mime, {\n",
              "      /* Is output safe? */\n",
              "      safe: true,\n",
              "      /* Index of renderer in `output_area.display_order` */\n",
              "      index: 0\n",
              "    });\n",
              "  }\n",
              "\n",
              "  // register the mime type if in Jupyter Notebook environment and previously unregistered\n",
              "  if (root.Jupyter !== undefined) {\n",
              "    const events = require('base/js/events');\n",
              "    const OutputArea = require('notebook/js/outputarea').OutputArea;\n",
              "\n",
              "    if (OutputArea.prototype.mime_types().indexOf(EXEC_MIME_TYPE) == -1) {\n",
              "      register_renderer(events, OutputArea);\n",
              "    }\n",
              "  }\n",
              "  if (typeof (root._bokeh_timeout) === \"undefined\" || force === true) {\n",
              "    root._bokeh_timeout = Date.now() + 5000;\n",
              "    root._bokeh_failed_load = false;\n",
              "  }\n",
              "\n",
              "  const NB_LOAD_WARNING = {'data': {'text/html':\n",
              "     \"<div style='background-color: #fdd'>\\n\"+\n",
              "     \"<p>\\n\"+\n",
              "     \"BokehJS does not appear to have successfully loaded. If loading BokehJS from CDN, this \\n\"+\n",
              "     \"may be due to a slow or bad network connection. Possible fixes:\\n\"+\n",
              "     \"</p>\\n\"+\n",
              "     \"<ul>\\n\"+\n",
              "     \"<li>re-rerun `output_notebook()` to attempt to load from CDN again, or</li>\\n\"+\n",
              "     \"<li>use INLINE resources instead, as so:</li>\\n\"+\n",
              "     \"</ul>\\n\"+\n",
              "     \"<code>\\n\"+\n",
              "     \"from bokeh.resources import INLINE\\n\"+\n",
              "     \"output_notebook(resources=INLINE)\\n\"+\n",
              "     \"</code>\\n\"+\n",
              "     \"</div>\"}};\n",
              "\n",
              "  function display_loaded() {\n",
              "    const el = document.getElementById(null);\n",
              "    if (el != null) {\n",
              "      el.textContent = \"BokehJS is loading...\";\n",
              "    }\n",
              "    if (root.Bokeh !== undefined) {\n",
              "      if (el != null) {\n",
              "        el.textContent = \"BokehJS \" + root.Bokeh.version + \" successfully loaded.\";\n",
              "      }\n",
              "    } else if (Date.now() < root._bokeh_timeout) {\n",
              "      setTimeout(display_loaded, 100)\n",
              "    }\n",
              "  }\n",
              "\n",
              "  function run_callbacks() {\n",
              "    try {\n",
              "      root._bokeh_onload_callbacks.forEach(function(callback) {\n",
              "        if (callback != null)\n",
              "          callback();\n",
              "      });\n",
              "    } finally {\n",
              "      delete root._bokeh_onload_callbacks\n",
              "    }\n",
              "    console.debug(\"Bokeh: all callbacks have finished\");\n",
              "  }\n",
              "\n",
              "  function load_libs(css_urls, js_urls, callback) {\n",
              "    if (css_urls == null) css_urls = [];\n",
              "    if (js_urls == null) js_urls = [];\n",
              "\n",
              "    root._bokeh_onload_callbacks.push(callback);\n",
              "    if (root._bokeh_is_loading > 0) {\n",
              "      console.debug(\"Bokeh: BokehJS is being loaded, scheduling callback at\", now());\n",
              "      return null;\n",
              "    }\n",
              "    if (js_urls == null || js_urls.length === 0) {\n",
              "      run_callbacks();\n",
              "      return null;\n",
              "    }\n",
              "    console.debug(\"Bokeh: BokehJS not loaded, scheduling load and callback at\", now());\n",
              "    root._bokeh_is_loading = css_urls.length + js_urls.length;\n",
              "\n",
              "    function on_load() {\n",
              "      root._bokeh_is_loading--;\n",
              "      if (root._bokeh_is_loading === 0) {\n",
              "        console.debug(\"Bokeh: all BokehJS libraries/stylesheets loaded\");\n",
              "        run_callbacks()\n",
              "      }\n",
              "    }\n",
              "\n",
              "    function on_error(url) {\n",
              "      console.error(\"failed to load \" + url);\n",
              "    }\n",
              "\n",
              "    for (let i = 0; i < css_urls.length; i++) {\n",
              "      const url = css_urls[i];\n",
              "      const element = document.createElement(\"link\");\n",
              "      element.onload = on_load;\n",
              "      element.onerror = on_error.bind(null, url);\n",
              "      element.rel = \"stylesheet\";\n",
              "      element.type = \"text/css\";\n",
              "      element.href = url;\n",
              "      console.debug(\"Bokeh: injecting link tag for BokehJS stylesheet: \", url);\n",
              "      document.body.appendChild(element);\n",
              "    }\n",
              "\n",
              "    for (let i = 0; i < js_urls.length; i++) {\n",
              "      const url = js_urls[i];\n",
              "      const element = document.createElement('script');\n",
              "      element.onload = on_load;\n",
              "      element.onerror = on_error.bind(null, url);\n",
              "      element.async = false;\n",
              "      element.src = url;\n",
              "      console.debug(\"Bokeh: injecting script tag for BokehJS library: \", url);\n",
              "      document.head.appendChild(element);\n",
              "    }\n",
              "  };\n",
              "\n",
              "  function inject_raw_css(css) {\n",
              "    const element = document.createElement(\"style\");\n",
              "    element.appendChild(document.createTextNode(css));\n",
              "    document.body.appendChild(element);\n",
              "  }\n",
              "\n",
              "  const js_urls = [\"https://cdn.bokeh.org/bokeh/release/bokeh-3.2.2.min.js\", \"https://cdn.bokeh.org/bokeh/release/bokeh-gl-3.2.2.min.js\", \"https://cdn.bokeh.org/bokeh/release/bokeh-widgets-3.2.2.min.js\", \"https://cdn.bokeh.org/bokeh/release/bokeh-tables-3.2.2.min.js\", \"https://cdn.bokeh.org/bokeh/release/bokeh-mathjax-3.2.2.min.js\"];\n",
              "  const css_urls = [];\n",
              "\n",
              "  const inline_js = [    function(Bokeh) {\n",
              "      Bokeh.set_log_level(\"info\");\n",
              "    },\n",
              "function(Bokeh) {\n",
              "    }\n",
              "  ];\n",
              "\n",
              "  function run_inline_js() {\n",
              "    if (root.Bokeh !== undefined || force === true) {\n",
              "          for (let i = 0; i < inline_js.length; i++) {\n",
              "      inline_js[i].call(root, root.Bokeh);\n",
              "    }\n",
              "} else if (Date.now() < root._bokeh_timeout) {\n",
              "      setTimeout(run_inline_js, 100);\n",
              "    } else if (!root._bokeh_failed_load) {\n",
              "      console.log(\"Bokeh: BokehJS failed to load within specified timeout.\");\n",
              "      root._bokeh_failed_load = true;\n",
              "    } else if (force !== true) {\n",
              "      const cell = $(document.getElementById(null)).parents('.cell').data().cell;\n",
              "      cell.output_area.append_execute_result(NB_LOAD_WARNING)\n",
              "    }\n",
              "  }\n",
              "\n",
              "  if (root._bokeh_is_loading === 0) {\n",
              "    console.debug(\"Bokeh: BokehJS loaded, going straight to plotting\");\n",
              "    run_inline_js();\n",
              "  } else {\n",
              "    load_libs(css_urls, js_urls, function() {\n",
              "      console.debug(\"Bokeh: BokehJS plotting callback run at\", now());\n",
              "      run_inline_js();\n",
              "    });\n",
              "  }\n",
              "}(window));"
            ],
            "application/vnd.bokehjs_load.v0+json": "(function(root) {\n  function now() {\n    return new Date();\n  }\n\n  const force = true;\n\n  if (typeof root._bokeh_onload_callbacks === \"undefined\" || force === true) {\n    root._bokeh_onload_callbacks = [];\n    root._bokeh_is_loading = undefined;\n  }\n\n\n  if (typeof (root._bokeh_timeout) === \"undefined\" || force === true) {\n    root._bokeh_timeout = Date.now() + 5000;\n    root._bokeh_failed_load = false;\n  }\n\n  const NB_LOAD_WARNING = {'data': {'text/html':\n     \"<div style='background-color: #fdd'>\\n\"+\n     \"<p>\\n\"+\n     \"BokehJS does not appear to have successfully loaded. If loading BokehJS from CDN, this \\n\"+\n     \"may be due to a slow or bad network connection. Possible fixes:\\n\"+\n     \"</p>\\n\"+\n     \"<ul>\\n\"+\n     \"<li>re-rerun `output_notebook()` to attempt to load from CDN again, or</li>\\n\"+\n     \"<li>use INLINE resources instead, as so:</li>\\n\"+\n     \"</ul>\\n\"+\n     \"<code>\\n\"+\n     \"from bokeh.resources import INLINE\\n\"+\n     \"output_notebook(resources=INLINE)\\n\"+\n     \"</code>\\n\"+\n     \"</div>\"}};\n\n  function display_loaded() {\n    const el = document.getElementById(null);\n    if (el != null) {\n      el.textContent = \"BokehJS is loading...\";\n    }\n    if (root.Bokeh !== undefined) {\n      if (el != null) {\n        el.textContent = \"BokehJS \" + root.Bokeh.version + \" successfully loaded.\";\n      }\n    } else if (Date.now() < root._bokeh_timeout) {\n      setTimeout(display_loaded, 100)\n    }\n  }\n\n  function run_callbacks() {\n    try {\n      root._bokeh_onload_callbacks.forEach(function(callback) {\n        if (callback != null)\n          callback();\n      });\n    } finally {\n      delete root._bokeh_onload_callbacks\n    }\n    console.debug(\"Bokeh: all callbacks have finished\");\n  }\n\n  function load_libs(css_urls, js_urls, callback) {\n    if (css_urls == null) css_urls = [];\n    if (js_urls == null) js_urls = [];\n\n    root._bokeh_onload_callbacks.push(callback);\n    if (root._bokeh_is_loading > 0) {\n      console.debug(\"Bokeh: BokehJS is being loaded, scheduling callback at\", now());\n      return null;\n    }\n    if (js_urls == null || js_urls.length === 0) {\n      run_callbacks();\n      return null;\n    }\n    console.debug(\"Bokeh: BokehJS not loaded, scheduling load and callback at\", now());\n    root._bokeh_is_loading = css_urls.length + js_urls.length;\n\n    function on_load() {\n      root._bokeh_is_loading--;\n      if (root._bokeh_is_loading === 0) {\n        console.debug(\"Bokeh: all BokehJS libraries/stylesheets loaded\");\n        run_callbacks()\n      }\n    }\n\n    function on_error(url) {\n      console.error(\"failed to load \" + url);\n    }\n\n    for (let i = 0; i < css_urls.length; i++) {\n      const url = css_urls[i];\n      const element = document.createElement(\"link\");\n      element.onload = on_load;\n      element.onerror = on_error.bind(null, url);\n      element.rel = \"stylesheet\";\n      element.type = \"text/css\";\n      element.href = url;\n      console.debug(\"Bokeh: injecting link tag for BokehJS stylesheet: \", url);\n      document.body.appendChild(element);\n    }\n\n    for (let i = 0; i < js_urls.length; i++) {\n      const url = js_urls[i];\n      const element = document.createElement('script');\n      element.onload = on_load;\n      element.onerror = on_error.bind(null, url);\n      element.async = false;\n      element.src = url;\n      console.debug(\"Bokeh: injecting script tag for BokehJS library: \", url);\n      document.head.appendChild(element);\n    }\n  };\n\n  function inject_raw_css(css) {\n    const element = document.createElement(\"style\");\n    element.appendChild(document.createTextNode(css));\n    document.body.appendChild(element);\n  }\n\n  const js_urls = [\"https://cdn.bokeh.org/bokeh/release/bokeh-3.2.2.min.js\", \"https://cdn.bokeh.org/bokeh/release/bokeh-gl-3.2.2.min.js\", \"https://cdn.bokeh.org/bokeh/release/bokeh-widgets-3.2.2.min.js\", \"https://cdn.bokeh.org/bokeh/release/bokeh-tables-3.2.2.min.js\", \"https://cdn.bokeh.org/bokeh/release/bokeh-mathjax-3.2.2.min.js\"];\n  const css_urls = [];\n\n  const inline_js = [    function(Bokeh) {\n      Bokeh.set_log_level(\"info\");\n    },\nfunction(Bokeh) {\n    }\n  ];\n\n  function run_inline_js() {\n    if (root.Bokeh !== undefined || force === true) {\n          for (let i = 0; i < inline_js.length; i++) {\n      inline_js[i].call(root, root.Bokeh);\n    }\n} else if (Date.now() < root._bokeh_timeout) {\n      setTimeout(run_inline_js, 100);\n    } else if (!root._bokeh_failed_load) {\n      console.log(\"Bokeh: BokehJS failed to load within specified timeout.\");\n      root._bokeh_failed_load = true;\n    } else if (force !== true) {\n      const cell = $(document.getElementById(null)).parents('.cell').data().cell;\n      cell.output_area.append_execute_result(NB_LOAD_WARNING)\n    }\n  }\n\n  if (root._bokeh_is_loading === 0) {\n    console.debug(\"Bokeh: BokehJS loaded, going straight to plotting\");\n    run_inline_js();\n  } else {\n    load_libs(css_urls, js_urls, function() {\n      console.debug(\"Bokeh: BokehJS plotting callback run at\", now());\n      run_inline_js();\n    });\n  }\n}(window));"
          },
          "metadata": {}
        },
        {
          "output_type": "display_data",
          "data": {
            "text/html": [
              "\n",
              "  <div id=\"d65ef94c-ec29-441c-8c22-e8d1083f3190\" data-root-id=\"p1004\" style=\"display: contents;\"></div>\n"
            ]
          },
          "metadata": {}
        },
        {
          "output_type": "display_data",
          "data": {
            "application/javascript": [
              "(function(root) {\n",
              "  function embed_document(root) {\n",
              "  const docs_json = {\"df039ad1-4a64-425c-9241-9db35f2ce53f\":{\"version\":\"3.2.2\",\"title\":\"Bokeh Application\",\"roots\":[{\"type\":\"object\",\"name\":\"Figure\",\"id\":\"p1004\",\"attributes\":{\"height\":400,\"x_range\":{\"type\":\"object\",\"name\":\"DataRange1d\",\"id\":\"p1005\"},\"y_range\":{\"type\":\"object\",\"name\":\"DataRange1d\",\"id\":\"p1006\"},\"x_scale\":{\"type\":\"object\",\"name\":\"LinearScale\",\"id\":\"p1013\"},\"y_scale\":{\"type\":\"object\",\"name\":\"LinearScale\",\"id\":\"p1014\"},\"title\":{\"type\":\"object\",\"name\":\"Title\",\"id\":\"p1011\"},\"renderers\":[{\"type\":\"object\",\"name\":\"GlyphRenderer\",\"id\":\"p1038\",\"attributes\":{\"data_source\":{\"type\":\"object\",\"name\":\"ColumnDataSource\",\"id\":\"p1001\",\"attributes\":{\"selected\":{\"type\":\"object\",\"name\":\"Selection\",\"id\":\"p1002\",\"attributes\":{\"indices\":[],\"line_indices\":[]}},\"selection_policy\":{\"type\":\"object\",\"name\":\"UnionRenderers\",\"id\":\"p1003\"},\"data\":{\"type\":\"map\",\"entries\":[[\"x\",{\"type\":\"ndarray\",\"array\":{\"type\":\"bytes\",\"data\":\"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\"},\"shape\":[1000],\"dtype\":\"float64\",\"order\":\"little\"}],[\"y\",{\"type\":\"ndarray\",\"array\":{\"type\":\"bytes\",\"data\":\"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\"},\"shape\":[1000],\"dtype\":\"float64\",\"order\":\"little\"}],[\"color\",[\"blue\",\"blue\",\"blue\",\"blue\",\"blue\",\"blue\",\"blue\",\"blue\",\"blue\",\"blue\",\"blue\",\"blue\",\"blue\",\"blue\",\"blue\",\"blue\",\"blue\",\"blue\",\"blue\",\"blue\",\"blue\",\"blue\",\"blue\",\"blue\",\"blue\",\"blue\",\"blue\",\"blue\",\"blue\",\"blue\",\"blue\",\"blue\",\"blue\",\"blue\",\"blue\",\"blue\",\"blue\",\"blue\",\"blue\",\"blue\",\"blue\",\"blue\",\"blue\",\"blue\",\"blue\",\"blue\",\"blue\",\"blue\",\"blue\",\"blue\",\"blue\",\"blue\",\"blue\",\"blue\",\"blue\",\"blue\",\"blue\",\"blue\",\"blue\",\"blue\",\"blue\",\"blue\",\"blue\",\"blue\",\"blue\",\"blue\",\"blue\",\"blue\",\"blue\",\"blue\",\"blue\",\"blue\",\"blue\",\"blue\",\"blue\",\"blue\",\"blue\",\"blue\",\"blue\",\"blue\",\"blue\",\"blue\",\"blue\",\"blue\",\"blue\",\"blue\",\"blue\",\"blue\",\"blue\",\"blue\",\"blue\",\"blue\",\"blue\",\"blue\",\"blue\",\"blue\",\"blue\",\"blue\",\"blue\",\"blue\",\"blue\",\"blue\",\"blue\",\"blue\",\"blue\",\"blue\",\"blue\",\"blue\",\"blue\",\"blue\",\"blue\",\"blue\",\"blue\",\"blue\",\"blue\",\"blue\",\"blue\",\"blue\",\"blue\",\"blue\",\"blue\",\"blue\",\"blue\",\"blue\",\"blue\",\"blue\",\"blue\",\"blue\",\"blue\",\"blue\",\"blue\",\"blue\",\"blue\",\"blue\",\"blue\",\"blue\",\"blue\",\"blue\",\"blue\",\"blue\",\"blue\",\"blue\",\"blue\",\"blue\",\"blue\",\"blue\",\"blue\",\"blue\",\"blue\",\"blue\",\"blue\",\"blue\",\"blue\",\"blue\",\"blue\",\"blue\",\"blue\",\"blue\",\"blue\",\"blue\",\"blue\",\"blue\",\"blue\",\"blue\",\"blue\",\"blue\",\"blue\",\"blue\",\"blue\",\"blue\",\"blue\",\"blue\",\"blue\",\"blue\",\"blue\",\"blue\",\"blue\",\"blue\",\"blue\",\"blue\",\"blue\",\"blue\",\"blue\",\"blue\",\"blue\",\"blue\",\"blue\",\"blue\",\"blue\",\"blue\",\"blue\",\"blue\",\"blue\",\"blue\",\"blue\",\"blue\",\"blue\",\"blue\",\"blue\",\"blue\",\"blue\",\"blue\",\"blue\",\"blue\",\"blue\",\"blue\",\"blue\",\"blue\",\"blue\",\"blue\",\"blue\",\"blue\",\"blue\",\"blue\",\"blue\",\"blue\",\"blue\",\"blue\",\"blue\",\"blue\",\"blue\",\"blue\",\"blue\",\"blue\",\"blue\",\"blue\",\"blue\",\"blue\",\"blue\",\"blue\",\"blue\",\"blue\",\"blue\",\"blue\",\"blue\",\"blue\",\"blue\",\"blue\",\"blue\",\"blue\",\"blue\",\"blue\",\"blue\",\"blue\",\"blue\",\"blue\",\"blue\",\"blue\",\"blue\",\"blue\",\"blue\",\"blue\",\"blue\",\"blue\",\"blue\",\"blue\",\"blue\",\"blue\",\"blue\",\"blue\",\"blue\",\"blue\",\"blue\",\"blue\",\"blue\",\"blue\",\"blue\",\"blue\",\"blue\",\"blue\",\"blue\",\"blue\",\"blue\",\"blue\",\"blue\",\"blue\",\"blue\",\"blue\",\"blue\",\"blue\",\"blue\",\"blue\",\"blue\",\"blue\",\"blue\",\"blue\",\"blue\",\"blue\",\"blue\",\"blue\",\"blue\",\"blue\",\"blue\",\"blue\",\"blue\",\"blue\",\"blue\",\"blue\",\"blue\",\"blue\",\"blue\",\"blue\",\"blue\",\"blue\",\"blue\",\"blue\",\"blue\",\"blue\",\"blue\",\"blue\",\"blue\",\"blue\",\"blue\",\"blue\",\"blue\",\"blue\",\"blue\",\"blue\",\"blue\",\"blue\",\"blue\",\"blue\",\"blue\",\"blue\",\"blue\",\"blue\",\"blue\",\"blue\",\"blue\",\"blue\",\"blue\",\"blue\",\"blue\",\"blue\",\"blue\",\"blue\",\"blue\",\"blue\",\"blue\",\"blue\",\"blue\",\"blue\",\"blue\",\"blue\",\"blue\",\"blue\",\"blue\",\"blue\",\"blue\",\"blue\",\"blue\",\"blue\",\"blue\",\"blue\",\"blue\",\"blue\",\"blue\",\"blue\",\"blue\",\"blue\",\"blue\",\"blue\",\"blue\",\"blue\",\"blue\",\"blue\",\"blue\",\"blue\",\"blue\",\"blue\",\"blue\",\"blue\",\"blue\",\"blue\",\"blue\",\"blue\",\"blue\",\"blue\",\"blue\",\"blue\",\"blue\",\"blue\",\"blue\",\"blue\",\"blue\",\"blue\",\"blue\",\"blue\",\"blue\",\"blue\",\"blue\",\"blue\",\"blue\",\"blue\",\"blue\",\"blue\",\"blue\",\"blue\",\"blue\",\"blue\",\"blue\",\"blue\",\"blue\",\"blue\",\"blue\",\"blue\",\"blue\",\"blue\",\"blue\",\"blue\",\"blue\",\"blue\",\"blue\",\"blue\",\"blue\",\"blue\",\"blue\",\"blue\",\"blue\",\"blue\",\"blue\",\"blue\",\"blue\",\"blue\",\"blue\",\"blue\",\"blue\",\"blue\",\"blue\",\"blue\",\"blue\",\"blue\",\"blue\",\"blue\",\"blue\",\"blue\",\"blue\",\"blue\",\"blue\",\"blue\",\"blue\",\"blue\",\"blue\",\"blue\",\"blue\",\"blue\",\"blue\",\"blue\",\"blue\",\"blue\",\"blue\",\"blue\",\"blue\",\"blue\",\"blue\",\"blue\",\"blue\",\"blue\",\"blue\",\"blue\",\"blue\",\"blue\",\"blue\",\"blue\",\"blue\",\"blue\",\"blue\",\"blue\",\"blue\",\"blue\",\"blue\",\"blue\",\"blue\",\"blue\",\"blue\",\"blue\",\"blue\",\"blue\",\"blue\",\"blue\",\"blue\",\"blue\",\"blue\",\"blue\",\"blue\",\"blue\",\"blue\",\"blue\",\"blue\",\"blue\",\"blue\",\"blue\",\"blue\",\"blue\",\"blue\",\"blue\",\"blue\",\"blue\",\"blue\",\"blue\",\"blue\",\"blue\",\"blue\",\"blue\",\"blue\",\"blue\",\"blue\",\"blue\",\"blue\",\"blue\",\"blue\",\"blue\",\"blue\",\"blue\",\"blue\",\"blue\",\"blue\",\"blue\",\"blue\",\"blue\",\"blue\",\"blue\",\"blue\",\"blue\",\"blue\",\"blue\",\"blue\",\"blue\",\"blue\",\"blue\",\"blue\",\"blue\",\"blue\",\"blue\",\"blue\",\"blue\",\"blue\",\"blue\",\"blue\",\"blue\",\"blue\",\"blue\",\"blue\",\"blue\",\"blue\",\"blue\",\"blue\",\"blue\",\"blue\",\"blue\",\"blue\",\"blue\",\"blue\",\"blue\",\"blue\",\"blue\",\"blue\",\"blue\",\"blue\",\"blue\",\"blue\",\"blue\",\"blue\",\"blue\",\"blue\",\"blue\",\"blue\",\"blue\",\"blue\",\"blue\",\"blue\",\"blue\",\"blue\",\"blue\",\"blue\",\"blue\",\"blue\",\"blue\",\"blue\",\"blue\",\"blue\",\"blue\",\"blue\",\"blue\",\"blue\",\"blue\",\"blue\",\"blue\",\"blue\",\"blue\",\"blue\",\"blue\",\"blue\",\"blue\",\"blue\",\"blue\",\"blue\",\"blue\",\"blue\",\"blue\",\"blue\",\"blue\",\"blue\",\"blue\",\"blue\",\"blue\",\"blue\",\"blue\",\"blue\",\"blue\",\"blue\",\"blue\",\"blue\",\"blue\",\"blue\",\"blue\",\"blue\",\"blue\",\"blue\",\"blue\",\"blue\",\"blue\",\"blue\",\"blue\",\"blue\",\"blue\",\"blue\",\"blue\",\"blue\",\"blue\",\"blue\",\"blue\",\"blue\",\"blue\",\"blue\",\"blue\",\"blue\",\"blue\",\"blue\",\"blue\",\"blue\",\"blue\",\"blue\",\"blue\",\"blue\",\"blue\",\"blue\",\"blue\",\"blue\",\"blue\",\"blue\",\"blue\",\"blue\",\"blue\",\"blue\",\"blue\",\"blue\",\"blue\",\"blue\",\"blue\",\"blue\",\"blue\",\"blue\",\"blue\",\"blue\",\"blue\",\"blue\",\"blue\",\"blue\",\"blue\",\"blue\",\"blue\",\"blue\",\"blue\",\"blue\",\"blue\",\"blue\",\"blue\",\"blue\",\"blue\",\"blue\",\"blue\",\"blue\",\"blue\",\"blue\",\"blue\",\"blue\",\"blue\",\"blue\",\"blue\",\"blue\",\"blue\",\"blue\",\"blue\",\"blue\",\"blue\",\"blue\",\"blue\",\"blue\",\"blue\",\"blue\",\"blue\",\"blue\",\"blue\",\"blue\",\"blue\",\"blue\",\"blue\",\"blue\",\"blue\",\"blue\",\"blue\",\"blue\",\"blue\",\"blue\",\"blue\",\"blue\",\"blue\",\"blue\",\"blue\",\"blue\",\"blue\",\"blue\",\"blue\",\"blue\",\"blue\",\"blue\",\"blue\",\"blue\",\"blue\",\"blue\",\"blue\",\"blue\",\"blue\",\"blue\",\"blue\",\"blue\",\"blue\",\"blue\",\"blue\",\"blue\",\"blue\",\"blue\",\"blue\",\"blue\",\"blue\",\"blue\",\"blue\",\"blue\",\"blue\",\"blue\",\"blue\",\"blue\",\"blue\",\"blue\",\"blue\",\"blue\",\"blue\",\"blue\",\"blue\",\"blue\",\"blue\",\"blue\",\"blue\",\"blue\",\"blue\",\"blue\",\"blue\",\"blue\",\"blue\",\"blue\",\"blue\",\"blue\",\"blue\",\"blue\",\"blue\",\"blue\",\"blue\",\"blue\",\"blue\",\"blue\",\"blue\",\"blue\",\"blue\",\"blue\",\"blue\",\"blue\",\"blue\",\"blue\",\"blue\",\"blue\",\"blue\",\"blue\",\"blue\",\"blue\",\"blue\",\"blue\",\"blue\",\"blue\",\"blue\",\"blue\",\"blue\",\"blue\",\"blue\",\"blue\",\"blue\",\"blue\",\"blue\",\"blue\",\"blue\",\"blue\",\"blue\",\"blue\",\"blue\",\"blue\",\"blue\",\"blue\",\"blue\",\"blue\",\"blue\",\"blue\",\"blue\",\"blue\",\"blue\",\"blue\",\"blue\",\"blue\",\"blue\",\"blue\",\"blue\",\"blue\",\"blue\",\"blue\",\"blue\",\"blue\",\"blue\",\"blue\",\"blue\",\"blue\",\"blue\",\"blue\",\"blue\",\"blue\",\"blue\",\"blue\",\"blue\",\"blue\",\"blue\",\"blue\",\"blue\",\"blue\",\"blue\",\"blue\",\"blue\",\"blue\",\"blue\",\"blue\",\"blue\",\"blue\",\"blue\",\"blue\",\"blue\",\"blue\",\"blue\",\"blue\",\"blue\",\"blue\",\"blue\",\"blue\",\"blue\",\"blue\",\"blue\",\"blue\",\"blue\",\"blue\",\"blue\",\"blue\",\"blue\",\"blue\",\"blue\",\"blue\",\"blue\",\"blue\",\"blue\",\"blue\",\"blue\",\"blue\",\"blue\",\"blue\",\"blue\",\"blue\",\"blue\",\"blue\",\"blue\",\"blue\",\"blue\",\"blue\",\"blue\",\"blue\",\"blue\",\"blue\",\"blue\",\"blue\",\"blue\",\"blue\",\"blue\",\"blue\",\"blue\",\"blue\",\"blue\",\"blue\",\"blue\",\"blue\",\"blue\",\"blue\",\"blue\",\"blue\",\"blue\",\"blue\",\"blue\",\"blue\",\"blue\",\"blue\",\"blue\",\"blue\",\"blue\",\"blue\",\"blue\",\"blue\",\"blue\",\"blue\",\"blue\",\"blue\",\"blue\",\"blue\",\"blue\",\"blue\",\"blue\",\"blue\",\"blue\",\"blue\",\"blue\",\"blue\",\"blue\",\"blue\",\"blue\",\"blue\",\"blue\",\"blue\",\"blue\",\"blue\",\"blue\",\"blue\",\"blue\",\"blue\",\"blue\",\"blue\",\"blue\",\"blue\",\"blue\",\"blue\",\"blue\",\"blue\",\"blue\",\"blue\",\"blue\",\"blue\",\"blue\",\"blue\",\"blue\",\"blue\",\"blue\",\"blue\",\"blue\",\"blue\",\"blue\",\"blue\",\"blue\",\"blue\",\"blue\",\"blue\",\"blue\",\"blue\",\"blue\",\"blue\",\"blue\",\"blue\",\"blue\",\"blue\",\"blue\",\"blue\",\"blue\",\"blue\",\"blue\",\"blue\",\"blue\",\"blue\",\"blue\",\"blue\",\"blue\"]],[\"token\",[\"<user>\",\".\",\":\",\"rt\",\",\",\"<repeat>\",\"<hashtag>\",\"<number>\",\"<url>\",\"!\",\"i\",\"a\",\"\\\"\",\"the\",\"?\",\"you\",\"to\",\"(\",\"<allcaps>\",\"<elong>\",\")\",\"me\",\"de\",\"<smile>\",\"\\uff01\",\"que\",\"and\",\"\\u3002\",\"-\",\"my\",\"no\",\"\\u3001\",\"is\",\"it\",\"\\u2026\",\"in\",\"n\",\"for\",\"/\",\"of\",\"la\",\"'s\",\"*\",\"do\",\"n't\",\"that\",\"on\",\"y\",\"'\",\"e\",\"o\",\"u\",\"en\",\"this\",\"el\",\"so\",\"be\",\"'m\",\"with\",\"just\",\">\",\"your\",\"^\",\"like\",\"have\",\"te\",\"at\",\"\\uff1f\",\"love\",\"se\",\"are\",\"<\",\"m\",\"r\",\"if\",\"all\",\"b\",\"\\u30fb\",\"not\",\"but\",\"we\",\"es\",\"ya\",\"&\",\"follow\",\"up\",\"what\",\"get\",\"lol\",\"un\",\"\\u2665\",\"lo\",\"when\",\"was\",\"\\u201c\",\"\\u201d\",\"one\",\"por\",\"si\",\"out\",\"_\",\"mi\",\"can\",\"<sadface>\",\"\\u0645\\u0646\",\"\\u2661\",\"\\u00b4\",\"he\",\"con\",\"they\",\"now\",\"go\",\"\\u060c\",\"para\",\"los\",\"know\",\"haha\",\"good\",\"tu\",\"back\",\"~\",\"about\",\"new\",\";\",\"as\",\"day\",\"how\",\"who\",\"will\",\"want\",\"people\",\"yo\",\"eu\",\"from\",\"di\",\"time\",\"<heart>\",\"s\",\"aku\",\"da\",\"'re\",\"<lolface>\",\"una\",\"got\",\"las\",\"more\",\"x\",\"she\",\"today\",\"\\uff08\",\">>\",\"k\",\"by\",\"or\",\"\\u0641\\u064a\",\"\\uff65\",\"too\",\"le\",\"\\u00e9\",\"|\",\"[\",\"\\uff09\",\"]\",\"see\",\"why\",\"yg\",\"ca\",\"como\",\"her\",\"\\u2014\",\"q\",\"need\",\"an\",\"na\",\"\\u7b11\",\"there\",\"\\u03c9\",\"happy\",\"im\",\"mas\",\"je\",\"life\",\"really\",\"make\",\"yang\",\"shit\",\"think\",\"t\",\"\\u2764\",\"n\\u00e3o\",\"never\",\"some\",\"\\uff5e\",\"oh\",\"\\u2605\",\"did\",\"would\",\"del\",\"`\",\"d\",\"please\",\"via\",\"much\",\"fuck\",\"al\",\"dia\",\"$\",\"\\u0648\",\"right\",\"best\",\"c\",\"going\",\"\\u0627\\u0644\\u0644\\u0647\",\"pero\",\"only\",\"has\",\"\\u266a\",\"'ll\",\"twitter\",\"=\",\"hahaha\",\"its\",\"nn\",\"\\uff40\",\"\\u00bf\",\"am\",\"say\",\"<neutralface>\",\"them\",\"here\",\"\\u0644\\u0627\",\"off\",\"still\",\"dan\",\"+\",\"night\",\"w\",\"ada\",\"someone\",\"even\",\"then\",\"\\u2606\",\"ni\",\"come\",\"com\",\"always\",\"man\",\"'ve\",\"been\",\"his\",\"itu\",\"\\u0639\\u0644\\u0649\",\"-_-\",\"\\u263a\",\"over\",\"um\",\"\\u0645\\u0627\",\"hate\",\"girl\",\"ai\",\"had\",\"pra\",\"todo\",\"mais\",\"feel\",\"let\",\"ini\",\"because\",\"\\uff9f\",\"thanks\",\"ah\",\"way\",\"ever\",\"look\",\"tweet\",\"followers\",\"should\",\"our\",\"xd\",\"aja\",\"esta\",\"school\",\"him\",\"ser\",\"take\",\"than\",\"video\",\"em\",\"last\",\"wanna\",\"does\",\"us\",\"miss\",\"l\",\"ga\",\"better\",\"well\",\"could\",\"\\u25bd\",\"%\",\"apa\",\"cuando\",\"team\",\"\\u2714\",\"@\",\"ok\",\"\\u061f\",\"\\u2022\",\"vida\",\"quiero\",\"les\",\"being\",\"real\",\"down\",\"kamu\",\"everyone\",\"gonna\",\"live\",\"tonight\",\"yes\",\"work\",\"ass\",\"retweet\",\"nada\",\"sama\",\"first\",\"<<\",\"photo\",\"tomorrow\",\"where\",\"god\",\"son\",\"ke\",\"ta\",\"f\",\"home\",\"lagi\",\"thank\",\"birthday\",\"\\u2588\",\"ha\",\"great\",\"lmao\",\"omg\",\"morning\",\"m\\u00e1s\",\"mau\",\"baby\",\"dont\",\"\\uff61\",\"their\",\"p\",\"things\",\"game\",\"pas\",\"bad\",\"year\",\"yeah\",\"su\",\"bitch\",\"\\u0432\",\"stop\",\"hoy\",\"something\",\"meu\",\"tak\",\"gak\",\"world\",\"amor\",\"h\",\"\\\\\",\"ver\",\"\\uff1b\",\"porque\",\"give\",\"these\",\"\\u0627\\u0644\\u0644\\u0647\\u0645\",\"were\",\"hay\",\"sleep\",\"gue\",\"every\",\"friends\",\"uma\",\"tell\",\"amo\",\"vou\",\"bien\",\"\\u00a1\",\"again\",\"\\uff3e\",\"\\uff0f\",\"done\",\"after\",\"todos\",\"girls\",\"guys\",\"getting\",\"big\",\"wait\",\"justin\",\"eh\",\"\\u2192\",\"kan\",\"kita\",\"jajaja\",\"wish\",\"said\",\"fucking\",\"show\",\"thing\",\"next\",\"voc\\u00ea\",\"nos\",\"little\",\"tengo\",\"keep\",\"person\",\"''\",\"\\u2200\",\"hope\",\"\\u0643\\u0644\",\"hey\",\"bisa\",\"free\",\"made\",\"foto\",\"va\",\"everything\",\"iya\",\"nigga\",\"eso\",\"et\",\"watch\",\"music\",\"week\",\"talk\",\"ne\",\"solo\",\"gente\",\"udah\",\"\\uff1a\",\"--\",\"\\uff3c\",\"mejor\",\"facebook\",\"ma\",\"v\",\"phone\",\"most\",\"same\",\"okay\",\"ik\",\"before\",\"minha\",\"days\",\"g\",\"ti\",\"damn\",\"nice\",\"voy\",\"vai\",\"call\",\"long\",\"tapi\",\"http\",\"sin\",\"nunca\",\"doing\",\"other\",\"find\",\"il\",\"sa\",\"sorry\",\"nya\",\"orang\",\"\\u00b0\",\"hard\",\"mean\",\"die\",\"\\u0627\\u0644\\u0644\\u064a\",\"tem\",\"soy\",\"este\",\"kalo\",\"s\\u00f3\",\"th\",\"win\",\"nothing\",\"into\",\"face\",\"cute\",\"'d\",\"gracias\",\"lah\",\"\\u0438\",\"any\",\"play\",\"\\u2190\",\"ko\",\"text\",\"\\u2323\",\"estoy\",\"tau\",\"ur\",\"buat\",\"#\",\"cause\",\"\\u044f\",\"put\",\"kau\",\"siempre\",\"juga\",\"casa\",\"\\u0623\\u0646\",\"help\",\"start\",\"feliz\",\"old\",\"ir\",\"very\",\"care\",\"bir\",\"makes\",\"song\",\"check\",\"watching\",\"ahora\",\"jadi\",\"os\",\"may\",\"friend\",\"beautiful\",\"heart\",\"ka\",\"vc\",\"mundo\",\"\\u043d\\u0430\",\"sure\",\"tan\",\"pretty\",\"aqui\",\"\\u043d\\u0435\",\"house\",\"\\u0631\\u062a\\u0648\\u064a\\u062a\",\"\\u064a\\u0627\",\"ja\",\"true\",\"muy\",\"away\",\"already\",\"actually\",\"believe\",\"try\",\"many\",\"ma\\u00f1ana\",\"mis\",\"lu\",\"those\",\"hot\",\"qu\\u00e9\",\"mal\",\"\\u0639\\u0646\",\"though\",\"ask\",\"amazing\",\"bed\",\"}\",\"two\",\"mom\",\"d\\u00eda\",\"ve\",\"dari\",\"gameinsight\",\"stay\",\"fun\",\"around\",\"van\",\"cont\",\"ready\",\"money\",\"bu\",\"funny\",\"cool\",\"hair\",\"\\u00e0\",\"tho\",\"{\",\"wo\",\"hi\",\"name\",\"tiene\",\"hahahaha\",\"pa\",\"algo\",\"gotta\",\"\\u0648\\u0644\\u0627\",\"boy\",\"another\",\"c'est\",\"hari\",\"jajajaja\",\"having\",\"cara\",\"jaja\",\"dm\",\"looking\",\"top\",\"android\",\"dah\",\"wow\",\"\\u2591\",\"eres\",\"ben\",\"must\",\"news\",\"met\",\"est\\u00e1\",\"nih\",\"family\",\"black\",\"thought\",\"nak\",\"super\",\"end\",\"hace\",\"remember\",\"ama\",\"party\",\"cant\",\"vamos\",\"anything\",\"anyone\",\"\\u0641\\u0648\\u0644\\u0648\",\"perfect\",\"guy\",\"vez\",\"christmas\",\"dos\",\"bueno\",\"nao\",\"years\",\"vote\",\"dormir\",\"bro\",\"else\",\"quien\",\"untuk\",\"jangan\",\"myself\",\"head\",\"mind\",\"gua\",\"talking\",\"while\",\"dat\",\"food\",\"\\u0434\",\"coming\",\"wkwk\",\"trying\",\"saya\",\"mucho\",\"without\",\"wrong\",\"\\u2019s\",\"baru\",\"__\",\"hehe\",\"hacer\",\"lot\",\"followed\",\"crazy\",\"hell\",\"feeling\",\"des\",\"kok\",\"j\",\"stats\",\"j'\",\"\\u0627\\u0646\",\"tweets\",\"non\",\"cosas\",\"era\",\"high\",\"niggas\",\"change\",\"movie\",\"xx\",\"mad\",\"sih\",\"sometimes\",\"deh\",\"allah\",\"through\",\"pour\",\"ela\",\"soon\",\"gone\",\"playing\",\"smile\",\"bukan\",\"tv\",\"fans\",\"hasta\",\"akan\",\"y'\",\"looks\",\"isso\",\"\\u270c\",\"tired\",\"boys\",\"might\",\"dong\",\"lg\",\"use\",\"maybe\",\"until\",\"menos\",\"own\",\"dengan\",\"eat\",\"ou\",\"weekend\",\"\\u02d8\",\"class\",\"ele\",\"harry\",\"iphone\",\"friday\",\"single\",\"ff\",\"awesome\",\"bout\",\"muito\",\"hoje\",\"\\u00ac\",\"dios\",\"such\",\"estar\",\"j\\u00e1\",\"quando\",\"esa\",\"making\",\"\\u2501\",\"times\",\"lmfao\",\"gw\",\"moment\",\"yet\",\"aw\",\"smh\",\"banget\",\"masih\",\"qui\",\"quem\",\"\\u2013\",\"leave\",\"du\",\"une\",\"guess\",\"hit\",\"\\u0441\",\"pm\",\"since\",\"pues\",\"est\",\"job\",\"\\uff89\",\"mana\",\"bom\",\"siapa\",\"suka\",\"bieber\",\"mention\",\"lebih\",\"favorite\",\"bitches\",\"forever\",\"\\u0644\\u064a\",\"final\",\"read\",\"alguien\",\"open\",\"yourself\",\"ese\",\"che\",\"sex\",\"yaa\",\"car\",\"direction\",\"tidak\",\"seu\",\"gets\",\"left\",\"re\",\"jam\",\"enough\",\"\\u0625\\u0644\\u0627\",\"once\",\"\\u2019\",\"part\",\"cada\",\"\\u5b9a\\u671f\",\"\\u0644\\u0643\",\"een\",\"seen\",\"kak\",\"as\\u00ed\",\"nem\",\"\\u0639\\u0645\\u0644\",\"white\",\"told\",\"says\",\"esto\",\"sad\",\"mo\",\"fue\",\"yah\",\"summer\",\"\\u0647\",\"\\u2b55\",\"\\u00bb\",\"thats\",\"\\u0645\\u0639\",\"posted\",\"wants\",\"agora\",\"together\",\"fan\",\"men\",\"hear\",\"full\",\"\\u2600\",\"sigo\",\"pq\",\"dulu\",\"plus\",\"foi\",\"tudo\",\"\\u0647\\u0648\",\"ill\",\"\\u3042\",\"thinking\",\"wtf\",\"pagi\",\"mama\",\"kalau\",\"hati\",\"sexy\",\"sayang\",\"baik\",\"semua\",\"hola\",\"went\",\"vos\",\"tanto\",\"finally\",\"fb\",\"sea\",\"stupid\",\"tus\",\"seriously\",\"hora\",\"min\",\"pic\",\"estas\",\"turn\",\"hours\",\"excited\",\"nah\",\"buy\",\"saying\",\"mah\",\"break\",\"needs\",\"ce\",\"room\",\"choice\",\"far\",\"dead\",\"quero\",\"saw\",\"kids\",\"lil\",\"whole\",\"puede\",\"fall\",\"sus\",\"lost\",\"asi\",\"word\",\"\\u2639\",\"also\",\"\\u0631\\u064a\\u062a\\u0648\\u064a\\u062a\",\"probably\",\"everybody\",\"tarde\",\"run\",\"sei\",\"follback\",\"forget\",\"sweet\",\"welcome\",\"selamat\",\"\\uff3f\",\"sur\",\"place\",\"gusta\",\"sabe\",\"androidgames\",\"tp\",\"tiempo\",\"\\u0628\\u0633\",\"sou\",\"tuh\",\"vs\",\"eyes\",\"\\u0627\\u0646\\u0627\",\"picture\",\"das\",\"meet\",\"anak\",\"persona\",\"essa\",\"bored\",\"following\",\"nadie\",\"nobody\",\"dice\",\"alone\",\"sick\",\"red\",\"city\",\"cinta\",\"\\u6708\",\"linda\",\"dream\",\"story\",\"km\",\"het\",\"waiting\",\"^_^\",\"mine\",\"\\u0447\\u0442\\u043e\",\"reason\",\"kk\",\"\\u0644\\u0648\",\"online\",\"fast\",\"udh\",\"wanted\",\"op\",\"others\",\"gay\",\"n\\u2019t\",\"used\",\"sem\",\"understand\",\"moi\",\"sm\",\"aint\",\"donde\",\"bem\",\"which\",\"ng\",\"followback\",\"punya\",\"late\",\"anda\",\"tidur\",\"puedo\",\"early\",\"nd\",\"personas\",\"banyak\",\"\\u2705\",\"\\u278a\",\"trust\",\"noche\",\"tl\",\"\\uff1e\",\"\\u00ab\",\"af\",\"move\",\"pro\",\"bring\",\"ku\",\"called\",\"relationship\",\"idk\",\"hurt\",\"st\",\"pernah\",\"pessoas\",\"hello\",\"uno\",\"unfollowers\",\"cry\"]]]}}},\"view\":{\"type\":\"object\",\"name\":\"CDSView\",\"id\":\"p1039\",\"attributes\":{\"filter\":{\"type\":\"object\",\"name\":\"AllIndices\",\"id\":\"p1040\"}}},\"glyph\":{\"type\":\"object\",\"name\":\"Scatter\",\"id\":\"p1035\",\"attributes\":{\"x\":{\"type\":\"field\",\"field\":\"x\"},\"y\":{\"type\":\"field\",\"field\":\"y\"},\"size\":{\"type\":\"value\",\"value\":10},\"line_color\":{\"type\":\"field\",\"field\":\"color\"},\"line_alpha\":{\"type\":\"value\",\"value\":0.25},\"fill_color\":{\"type\":\"field\",\"field\":\"color\"},\"fill_alpha\":{\"type\":\"value\",\"value\":0.25},\"hatch_color\":{\"type\":\"field\",\"field\":\"color\"},\"hatch_alpha\":{\"type\":\"value\",\"value\":0.25}}},\"nonselection_glyph\":{\"type\":\"object\",\"name\":\"Scatter\",\"id\":\"p1036\",\"attributes\":{\"x\":{\"type\":\"field\",\"field\":\"x\"},\"y\":{\"type\":\"field\",\"field\":\"y\"},\"size\":{\"type\":\"value\",\"value\":10},\"line_color\":{\"type\":\"field\",\"field\":\"color\"},\"line_alpha\":{\"type\":\"value\",\"value\":0.1},\"fill_color\":{\"type\":\"field\",\"field\":\"color\"},\"fill_alpha\":{\"type\":\"value\",\"value\":0.1},\"hatch_color\":{\"type\":\"field\",\"field\":\"color\"},\"hatch_alpha\":{\"type\":\"value\",\"value\":0.1}}},\"muted_glyph\":{\"type\":\"object\",\"name\":\"Scatter\",\"id\":\"p1037\",\"attributes\":{\"x\":{\"type\":\"field\",\"field\":\"x\"},\"y\":{\"type\":\"field\",\"field\":\"y\"},\"size\":{\"type\":\"value\",\"value\":10},\"line_color\":{\"type\":\"field\",\"field\":\"color\"},\"line_alpha\":{\"type\":\"value\",\"value\":0.2},\"fill_color\":{\"type\":\"field\",\"field\":\"color\"},\"fill_alpha\":{\"type\":\"value\",\"value\":0.2},\"hatch_color\":{\"type\":\"field\",\"field\":\"color\"},\"hatch_alpha\":{\"type\":\"value\",\"value\":0.2}}}}}],\"toolbar\":{\"type\":\"object\",\"name\":\"Toolbar\",\"id\":\"p1012\",\"attributes\":{\"tools\":[{\"type\":\"object\",\"name\":\"PanTool\",\"id\":\"p1025\"},{\"type\":\"object\",\"name\":\"WheelZoomTool\",\"id\":\"p1026\"},{\"type\":\"object\",\"name\":\"BoxZoomTool\",\"id\":\"p1027\",\"attributes\":{\"overlay\":{\"type\":\"object\",\"name\":\"BoxAnnotation\",\"id\":\"p1028\",\"attributes\":{\"syncable\":false,\"level\":\"overlay\",\"visible\":false,\"left_units\":\"canvas\",\"right_units\":\"canvas\",\"bottom_units\":\"canvas\",\"top_units\":\"canvas\",\"line_color\":\"black\",\"line_alpha\":1.0,\"line_width\":2,\"line_dash\":[4,4],\"fill_color\":\"lightgrey\",\"fill_alpha\":0.5}}}},{\"type\":\"object\",\"name\":\"SaveTool\",\"id\":\"p1029\"},{\"type\":\"object\",\"name\":\"ResetTool\",\"id\":\"p1030\"},{\"type\":\"object\",\"name\":\"HelpTool\",\"id\":\"p1031\"},{\"type\":\"object\",\"name\":\"HoverTool\",\"id\":\"p1041\",\"attributes\":{\"renderers\":\"auto\",\"tooltips\":[[\"token\",\"@token\"]]}}],\"active_scroll\":{\"id\":\"p1026\"}}},\"left\":[{\"type\":\"object\",\"name\":\"LinearAxis\",\"id\":\"p1020\",\"attributes\":{\"ticker\":{\"type\":\"object\",\"name\":\"BasicTicker\",\"id\":\"p1021\",\"attributes\":{\"mantissas\":[1,2,5]}},\"formatter\":{\"type\":\"object\",\"name\":\"BasicTickFormatter\",\"id\":\"p1022\"},\"major_label_policy\":{\"type\":\"object\",\"name\":\"AllLabels\",\"id\":\"p1023\"}}}],\"below\":[{\"type\":\"object\",\"name\":\"LinearAxis\",\"id\":\"p1015\",\"attributes\":{\"ticker\":{\"type\":\"object\",\"name\":\"BasicTicker\",\"id\":\"p1016\",\"attributes\":{\"mantissas\":[1,2,5]}},\"formatter\":{\"type\":\"object\",\"name\":\"BasicTickFormatter\",\"id\":\"p1017\"},\"major_label_policy\":{\"type\":\"object\",\"name\":\"AllLabels\",\"id\":\"p1018\"}}}],\"center\":[{\"type\":\"object\",\"name\":\"Grid\",\"id\":\"p1019\",\"attributes\":{\"axis\":{\"id\":\"p1015\"}}},{\"type\":\"object\",\"name\":\"Grid\",\"id\":\"p1024\",\"attributes\":{\"dimension\":1,\"axis\":{\"id\":\"p1020\"}}}]}}]}};\n",
              "  const render_items = [{\"docid\":\"df039ad1-4a64-425c-9241-9db35f2ce53f\",\"roots\":{\"p1004\":\"d65ef94c-ec29-441c-8c22-e8d1083f3190\"},\"root_ids\":[\"p1004\"]}];\n",
              "  root.Bokeh.embed.embed_items_notebook(docs_json, render_items);\n",
              "  }\n",
              "  if (root.Bokeh !== undefined) {\n",
              "    embed_document(root);\n",
              "  } else {\n",
              "    let attempts = 0;\n",
              "    const timer = setInterval(function(root) {\n",
              "      if (root.Bokeh !== undefined) {\n",
              "        clearInterval(timer);\n",
              "        embed_document(root);\n",
              "      } else {\n",
              "        attempts++;\n",
              "        if (attempts > 100) {\n",
              "          clearInterval(timer);\n",
              "          console.log(\"Bokeh: ERROR: Unable to run BokehJS code because BokehJS library is missing\");\n",
              "        }\n",
              "      }\n",
              "    }, 10, root)\n",
              "  }\n",
              "})(window);"
            ],
            "application/vnd.bokehjs_exec.v0+json": ""
          },
          "metadata": {
            "application/vnd.bokehjs_exec.v0+json": {
              "id": "p1004"
            }
          }
        },
        {
          "output_type": "execute_result",
          "data": {
            "text/plain": [
              "figure(id='p1004', ...)"
            ],
            "text/html": [
              "<div style=\"display: table;\"><div style=\"display: table-row;\"><div style=\"display: table-cell;\"><b title=\"bokeh.plotting._figure.figure\">figure</b>(</div><div style=\"display: table-cell;\">id&nbsp;=&nbsp;'p1004', <span id=\"p1045\" style=\"cursor: pointer;\">&hellip;)</span></div></div><div class=\"p1044\" style=\"display: none;\"><div style=\"display: table-cell;\"></div><div style=\"display: table-cell;\">above&nbsp;=&nbsp;[],</div></div><div class=\"p1044\" style=\"display: none;\"><div style=\"display: table-cell;\"></div><div style=\"display: table-cell;\">align&nbsp;=&nbsp;'auto',</div></div><div class=\"p1044\" style=\"display: none;\"><div style=\"display: table-cell;\"></div><div style=\"display: table-cell;\">aspect_ratio&nbsp;=&nbsp;None,</div></div><div class=\"p1044\" style=\"display: none;\"><div style=\"display: table-cell;\"></div><div style=\"display: table-cell;\">aspect_scale&nbsp;=&nbsp;1,</div></div><div class=\"p1044\" style=\"display: none;\"><div style=\"display: table-cell;\"></div><div style=\"display: table-cell;\">background_fill_alpha&nbsp;=&nbsp;1.0,</div></div><div class=\"p1044\" style=\"display: none;\"><div style=\"display: table-cell;\"></div><div style=\"display: table-cell;\">background_fill_color&nbsp;=&nbsp;'#ffffff',</div></div><div class=\"p1044\" style=\"display: none;\"><div style=\"display: table-cell;\"></div><div style=\"display: table-cell;\">below&nbsp;=&nbsp;[LinearAxis(id='p1015', ...)],</div></div><div class=\"p1044\" style=\"display: none;\"><div style=\"display: table-cell;\"></div><div style=\"display: table-cell;\">border_fill_alpha&nbsp;=&nbsp;1.0,</div></div><div class=\"p1044\" style=\"display: none;\"><div style=\"display: table-cell;\"></div><div style=\"display: table-cell;\">border_fill_color&nbsp;=&nbsp;'#ffffff',</div></div><div class=\"p1044\" style=\"display: none;\"><div style=\"display: table-cell;\"></div><div style=\"display: table-cell;\">center&nbsp;=&nbsp;[Grid(id='p1019', ...), Grid(id='p1024', ...)],</div></div><div class=\"p1044\" style=\"display: none;\"><div style=\"display: table-cell;\"></div><div style=\"display: table-cell;\">context_menu&nbsp;=&nbsp;None,</div></div><div class=\"p1044\" style=\"display: none;\"><div style=\"display: table-cell;\"></div><div style=\"display: table-cell;\">css_classes&nbsp;=&nbsp;[],</div></div><div class=\"p1044\" style=\"display: none;\"><div style=\"display: table-cell;\"></div><div style=\"display: table-cell;\">disabled&nbsp;=&nbsp;False,</div></div><div class=\"p1044\" style=\"display: none;\"><div style=\"display: table-cell;\"></div><div style=\"display: table-cell;\">extra_x_ranges&nbsp;=&nbsp;{},</div></div><div class=\"p1044\" style=\"display: none;\"><div style=\"display: table-cell;\"></div><div style=\"display: table-cell;\">extra_x_scales&nbsp;=&nbsp;{},</div></div><div class=\"p1044\" style=\"display: none;\"><div style=\"display: table-cell;\"></div><div style=\"display: table-cell;\">extra_y_ranges&nbsp;=&nbsp;{},</div></div><div class=\"p1044\" style=\"display: none;\"><div style=\"display: table-cell;\"></div><div style=\"display: table-cell;\">extra_y_scales&nbsp;=&nbsp;{},</div></div><div class=\"p1044\" style=\"display: none;\"><div style=\"display: table-cell;\"></div><div style=\"display: table-cell;\">flow_mode&nbsp;=&nbsp;'block',</div></div><div class=\"p1044\" style=\"display: none;\"><div style=\"display: table-cell;\"></div><div style=\"display: table-cell;\">frame_align&nbsp;=&nbsp;True,</div></div><div class=\"p1044\" style=\"display: none;\"><div style=\"display: table-cell;\"></div><div style=\"display: table-cell;\">frame_height&nbsp;=&nbsp;None,</div></div><div class=\"p1044\" style=\"display: none;\"><div style=\"display: table-cell;\"></div><div style=\"display: table-cell;\">frame_width&nbsp;=&nbsp;None,</div></div><div class=\"p1044\" style=\"display: none;\"><div style=\"display: table-cell;\"></div><div style=\"display: table-cell;\">height&nbsp;=&nbsp;400,</div></div><div class=\"p1044\" style=\"display: none;\"><div style=\"display: table-cell;\"></div><div style=\"display: table-cell;\">height_policy&nbsp;=&nbsp;'auto',</div></div><div class=\"p1044\" style=\"display: none;\"><div style=\"display: table-cell;\"></div><div style=\"display: table-cell;\">hidpi&nbsp;=&nbsp;True,</div></div><div class=\"p1044\" style=\"display: none;\"><div style=\"display: table-cell;\"></div><div style=\"display: table-cell;\">hold_render&nbsp;=&nbsp;False,</div></div><div class=\"p1044\" style=\"display: none;\"><div style=\"display: table-cell;\"></div><div style=\"display: table-cell;\">js_event_callbacks&nbsp;=&nbsp;{},</div></div><div class=\"p1044\" style=\"display: none;\"><div style=\"display: table-cell;\"></div><div style=\"display: table-cell;\">js_property_callbacks&nbsp;=&nbsp;{},</div></div><div class=\"p1044\" style=\"display: none;\"><div style=\"display: table-cell;\"></div><div style=\"display: table-cell;\">left&nbsp;=&nbsp;[LinearAxis(id='p1020', ...)],</div></div><div class=\"p1044\" style=\"display: none;\"><div style=\"display: table-cell;\"></div><div style=\"display: table-cell;\">lod_factor&nbsp;=&nbsp;10,</div></div><div class=\"p1044\" style=\"display: none;\"><div style=\"display: table-cell;\"></div><div style=\"display: table-cell;\">lod_interval&nbsp;=&nbsp;300,</div></div><div class=\"p1044\" style=\"display: none;\"><div style=\"display: table-cell;\"></div><div style=\"display: table-cell;\">lod_threshold&nbsp;=&nbsp;2000,</div></div><div class=\"p1044\" style=\"display: none;\"><div style=\"display: table-cell;\"></div><div style=\"display: table-cell;\">lod_timeout&nbsp;=&nbsp;500,</div></div><div class=\"p1044\" style=\"display: none;\"><div style=\"display: table-cell;\"></div><div style=\"display: table-cell;\">margin&nbsp;=&nbsp;None,</div></div><div class=\"p1044\" style=\"display: none;\"><div style=\"display: table-cell;\"></div><div style=\"display: table-cell;\">match_aspect&nbsp;=&nbsp;False,</div></div><div class=\"p1044\" style=\"display: none;\"><div style=\"display: table-cell;\"></div><div style=\"display: table-cell;\">max_height&nbsp;=&nbsp;None,</div></div><div class=\"p1044\" style=\"display: none;\"><div style=\"display: table-cell;\"></div><div style=\"display: table-cell;\">max_width&nbsp;=&nbsp;None,</div></div><div class=\"p1044\" style=\"display: none;\"><div style=\"display: table-cell;\"></div><div style=\"display: table-cell;\">min_border&nbsp;=&nbsp;5,</div></div><div class=\"p1044\" style=\"display: none;\"><div style=\"display: table-cell;\"></div><div style=\"display: table-cell;\">min_border_bottom&nbsp;=&nbsp;None,</div></div><div class=\"p1044\" style=\"display: none;\"><div style=\"display: table-cell;\"></div><div style=\"display: table-cell;\">min_border_left&nbsp;=&nbsp;None,</div></div><div class=\"p1044\" style=\"display: none;\"><div style=\"display: table-cell;\"></div><div style=\"display: table-cell;\">min_border_right&nbsp;=&nbsp;None,</div></div><div class=\"p1044\" style=\"display: none;\"><div style=\"display: table-cell;\"></div><div style=\"display: table-cell;\">min_border_top&nbsp;=&nbsp;None,</div></div><div class=\"p1044\" style=\"display: none;\"><div style=\"display: table-cell;\"></div><div style=\"display: table-cell;\">min_height&nbsp;=&nbsp;None,</div></div><div class=\"p1044\" style=\"display: none;\"><div style=\"display: table-cell;\"></div><div style=\"display: table-cell;\">min_width&nbsp;=&nbsp;None,</div></div><div class=\"p1044\" style=\"display: none;\"><div style=\"display: table-cell;\"></div><div style=\"display: table-cell;\">name&nbsp;=&nbsp;None,</div></div><div class=\"p1044\" style=\"display: none;\"><div style=\"display: table-cell;\"></div><div style=\"display: table-cell;\">outline_line_alpha&nbsp;=&nbsp;1.0,</div></div><div class=\"p1044\" style=\"display: none;\"><div style=\"display: table-cell;\"></div><div style=\"display: table-cell;\">outline_line_cap&nbsp;=&nbsp;'butt',</div></div><div class=\"p1044\" style=\"display: none;\"><div style=\"display: table-cell;\"></div><div style=\"display: table-cell;\">outline_line_color&nbsp;=&nbsp;'#e5e5e5',</div></div><div class=\"p1044\" style=\"display: none;\"><div style=\"display: table-cell;\"></div><div style=\"display: table-cell;\">outline_line_dash&nbsp;=&nbsp;[],</div></div><div class=\"p1044\" style=\"display: none;\"><div style=\"display: table-cell;\"></div><div style=\"display: table-cell;\">outline_line_dash_offset&nbsp;=&nbsp;0,</div></div><div class=\"p1044\" style=\"display: none;\"><div style=\"display: table-cell;\"></div><div style=\"display: table-cell;\">outline_line_join&nbsp;=&nbsp;'bevel',</div></div><div class=\"p1044\" style=\"display: none;\"><div style=\"display: table-cell;\"></div><div style=\"display: table-cell;\">outline_line_width&nbsp;=&nbsp;1,</div></div><div class=\"p1044\" style=\"display: none;\"><div style=\"display: table-cell;\"></div><div style=\"display: table-cell;\">output_backend&nbsp;=&nbsp;'canvas',</div></div><div class=\"p1044\" style=\"display: none;\"><div style=\"display: table-cell;\"></div><div style=\"display: table-cell;\">renderers&nbsp;=&nbsp;[GlyphRenderer(id='p1038', ...)],</div></div><div class=\"p1044\" style=\"display: none;\"><div style=\"display: table-cell;\"></div><div style=\"display: table-cell;\">reset_policy&nbsp;=&nbsp;'standard',</div></div><div class=\"p1044\" style=\"display: none;\"><div style=\"display: table-cell;\"></div><div style=\"display: table-cell;\">resizable&nbsp;=&nbsp;False,</div></div><div class=\"p1044\" style=\"display: none;\"><div style=\"display: table-cell;\"></div><div style=\"display: table-cell;\">right&nbsp;=&nbsp;[],</div></div><div class=\"p1044\" style=\"display: none;\"><div style=\"display: table-cell;\"></div><div style=\"display: table-cell;\">sizing_mode&nbsp;=&nbsp;None,</div></div><div class=\"p1044\" style=\"display: none;\"><div style=\"display: table-cell;\"></div><div style=\"display: table-cell;\">styles&nbsp;=&nbsp;{},</div></div><div class=\"p1044\" style=\"display: none;\"><div style=\"display: table-cell;\"></div><div style=\"display: table-cell;\">stylesheets&nbsp;=&nbsp;[],</div></div><div class=\"p1044\" style=\"display: none;\"><div style=\"display: table-cell;\"></div><div style=\"display: table-cell;\">subscribed_events&nbsp;=&nbsp;PropertyValueSet(),</div></div><div class=\"p1044\" style=\"display: none;\"><div style=\"display: table-cell;\"></div><div style=\"display: table-cell;\">syncable&nbsp;=&nbsp;True,</div></div><div class=\"p1044\" style=\"display: none;\"><div style=\"display: table-cell;\"></div><div style=\"display: table-cell;\">tags&nbsp;=&nbsp;[],</div></div><div class=\"p1044\" style=\"display: none;\"><div style=\"display: table-cell;\"></div><div style=\"display: table-cell;\">title&nbsp;=&nbsp;Title(id='p1011', ...),</div></div><div class=\"p1044\" style=\"display: none;\"><div style=\"display: table-cell;\"></div><div style=\"display: table-cell;\">title_location&nbsp;=&nbsp;'above',</div></div><div class=\"p1044\" style=\"display: none;\"><div style=\"display: table-cell;\"></div><div style=\"display: table-cell;\">toolbar&nbsp;=&nbsp;Toolbar(id='p1012', ...),</div></div><div class=\"p1044\" style=\"display: none;\"><div style=\"display: table-cell;\"></div><div style=\"display: table-cell;\">toolbar_inner&nbsp;=&nbsp;False,</div></div><div class=\"p1044\" style=\"display: none;\"><div style=\"display: table-cell;\"></div><div style=\"display: table-cell;\">toolbar_location&nbsp;=&nbsp;'right',</div></div><div class=\"p1044\" style=\"display: none;\"><div style=\"display: table-cell;\"></div><div style=\"display: table-cell;\">toolbar_sticky&nbsp;=&nbsp;True,</div></div><div class=\"p1044\" style=\"display: none;\"><div style=\"display: table-cell;\"></div><div style=\"display: table-cell;\">visible&nbsp;=&nbsp;True,</div></div><div class=\"p1044\" style=\"display: none;\"><div style=\"display: table-cell;\"></div><div style=\"display: table-cell;\">width&nbsp;=&nbsp;600,</div></div><div class=\"p1044\" style=\"display: none;\"><div style=\"display: table-cell;\"></div><div style=\"display: table-cell;\">width_policy&nbsp;=&nbsp;'auto',</div></div><div class=\"p1044\" style=\"display: none;\"><div style=\"display: table-cell;\"></div><div style=\"display: table-cell;\">x_range&nbsp;=&nbsp;DataRange1d(id='p1005', ...),</div></div><div class=\"p1044\" style=\"display: none;\"><div style=\"display: table-cell;\"></div><div style=\"display: table-cell;\">x_scale&nbsp;=&nbsp;LinearScale(id='p1013', ...),</div></div><div class=\"p1044\" style=\"display: none;\"><div style=\"display: table-cell;\"></div><div style=\"display: table-cell;\">y_range&nbsp;=&nbsp;DataRange1d(id='p1006', ...),</div></div><div class=\"p1044\" style=\"display: none;\"><div style=\"display: table-cell;\"></div><div style=\"display: table-cell;\">y_scale&nbsp;=&nbsp;LinearScale(id='p1014', ...))</div></div></div>\n",
              "<script>\n",
              "(function() {\n",
              "  let expanded = false;\n",
              "  const ellipsis = document.getElementById(\"p1045\");\n",
              "  ellipsis.addEventListener(\"click\", function() {\n",
              "    const rows = document.getElementsByClassName(\"p1044\");\n",
              "    for (let i = 0; i < rows.length; i++) {\n",
              "      const el = rows[i];\n",
              "      el.style.display = expanded ? \"none\" : \"table-row\";\n",
              "    }\n",
              "    ellipsis.innerHTML = expanded ? \"&hellip;)\" : \"&lsaquo;&lsaquo;&lsaquo;\";\n",
              "    expanded = !expanded;\n",
              "  });\n",
              "})();\n",
              "</script>\n"
            ]
          },
          "metadata": {},
          "execution_count": 31
        }
      ],
      "source": [
        "import bokeh.models as bm, bokeh.plotting as pl\n",
        "from bokeh.io import output_notebook\n",
        "output_notebook()\n",
        "\n",
        "def draw_vectors(x, y, radius=10, alpha=0.25, color='blue',\n",
        "                 width=600, height=400, show=True, **kwargs):\n",
        "    if isinstance(color, str): color = [color] * len(x)\n",
        "    data_source = bm.ColumnDataSource({ 'x' : x, 'y' : y, 'color': color, **kwargs })\n",
        "\n",
        "    fig = pl.figure(active_scroll='wheel_zoom', width=width, height=height)\n",
        "    fig.scatter('x', 'y', size=radius, color='color', alpha=alpha, source=data_source)\n",
        "\n",
        "    fig.add_tools(bm.HoverTool(tooltips=[(key, \"@\" + key) for key in kwargs.keys()]))\n",
        "    if show: pl.show(fig)\n",
        "    return fig\n",
        "\n",
        "\n",
        "draw_vectors(word_vectors_pca[:, 0], word_vectors_pca[:, 1], token=words)"
      ]
    },
    {
      "cell_type": "markdown",
      "metadata": {
        "id": "Qv1hIhRoFcHC"
      },
      "source": [
        "Well, as we can see, this space does not look perfect, sometimes we see (it seems) different words grouped together.\n",
        "\n",
        "That happend mostly because our way to reduce dimensionality of vectors (PCA)  is not perfect. Let's try to use different algorithm for doing this: TSNE.\n",
        "\n",
        "TSNE is in some way creates embeddings itself, so we may hope that it will work better)"
      ]
    },
    {
      "cell_type": "markdown",
      "metadata": {
        "id": "gHwUk0TBomVz"
      },
      "source": [
        "https://scikit-learn.org/stable/modules/generated/sklearn.manifold.TSNE.html\n",
        "\n",
        "https://distill.pub/2016/misread-tsne/"
      ]
    },
    {
      "cell_type": "code",
      "execution_count": 1,
      "metadata": {
        "colab": {
          "base_uri": "https://localhost:8080/",
          "height": 245
        },
        "id": "qpSg31n_nlHO",
        "outputId": "26a6ea47-2ddd-4d98-ac8d-072c5f410efe"
      },
      "outputs": [
        {
          "output_type": "error",
          "ename": "NameError",
          "evalue": "ignored",
          "traceback": [
            "\u001b[0;31m---------------------------------------------------------------------------\u001b[0m",
            "\u001b[0;31mNameError\u001b[0m                                 Traceback (most recent call last)",
            "\u001b[0;32m<ipython-input-1-df164ebd7053>\u001b[0m in \u001b[0;36m<cell line: 4>\u001b[0;34m()\u001b[0m\n\u001b[1;32m      2\u001b[0m \u001b[0;32mimport\u001b[0m \u001b[0mnumpy\u001b[0m \u001b[0;32mas\u001b[0m \u001b[0mnp\u001b[0m\u001b[0;34m\u001b[0m\u001b[0;34m\u001b[0m\u001b[0m\n\u001b[1;32m      3\u001b[0m \u001b[0;34m\u001b[0m\u001b[0m\n\u001b[0;32m----> 4\u001b[0;31m \u001b[0mword_vectors\u001b[0m \u001b[0;34m=\u001b[0m \u001b[0;34m[\u001b[0m\u001b[0mmodel\u001b[0m\u001b[0;34m[\u001b[0m\u001b[0mword\u001b[0m\u001b[0;34m]\u001b[0m \u001b[0;32mfor\u001b[0m \u001b[0mword\u001b[0m \u001b[0;32min\u001b[0m \u001b[0mwords\u001b[0m\u001b[0;34m]\u001b[0m\u001b[0;34m\u001b[0m\u001b[0;34m\u001b[0m\u001b[0m\n\u001b[0m\u001b[1;32m      5\u001b[0m \u001b[0mword_vectors\u001b[0m \u001b[0;34m=\u001b[0m \u001b[0mnp\u001b[0m\u001b[0;34m.\u001b[0m\u001b[0marray\u001b[0m\u001b[0;34m(\u001b[0m\u001b[0mword_vectors\u001b[0m\u001b[0;34m)\u001b[0m\u001b[0;34m\u001b[0m\u001b[0;34m\u001b[0m\u001b[0m\n\u001b[1;32m      6\u001b[0m \u001b[0;34m\u001b[0m\u001b[0m\n",
            "\u001b[0;31mNameError\u001b[0m: name 'words' is not defined"
          ]
        }
      ],
      "source": [
        "from sklearn.manifold import TSNE\n",
        "import numpy as np\n",
        "\n",
        "word_vectors = [model[word] for word in words]\n",
        "word_vectors = np.array(word_vectors)\n",
        "\n",
        "tsne = TSNE(n_components=2, verbose=50)\n",
        "word_vectors_tsne = tsne.fit_transform(word_vectors)\n",
        "\n",
        "ss = StandardScaler().fit(word_vectors_tsne)\n",
        "word_vectors_tsne = ss.transform(word_vectors_tsne)\n",
        "\n",
        "print(words[::10])"
      ]
    },
    {
      "cell_type": "code",
      "execution_count": null,
      "metadata": {
        "id": "TzBpTdLFnosK"
      },
      "outputs": [],
      "source": [
        "output_notebook()\n",
        "draw_vectors(word_vectors_tsne[:, 0], word_vectors_tsne[:, 1], token=words)"
      ]
    }
  ],
  "metadata": {
    "colab": {
      "provenance": []
    },
    "kernelspec": {
      "display_name": "Python 3",
      "language": "python",
      "name": "python3"
    },
    "language_info": {
      "codemirror_mode": {
        "name": "ipython",
        "version": 3
      },
      "file_extension": ".py",
      "mimetype": "text/x-python",
      "name": "python",
      "nbconvert_exporter": "python",
      "pygments_lexer": "ipython3",
      "version": "3.7.0"
    }
  },
  "nbformat": 4,
  "nbformat_minor": 0
}