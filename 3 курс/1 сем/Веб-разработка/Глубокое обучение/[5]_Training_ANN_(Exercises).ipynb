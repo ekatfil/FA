{
  "cells": [
    {
      "cell_type": "markdown",
      "id": "a47a5e2b",
      "metadata": {
        "id": "a47a5e2b"
      },
      "source": [
        "## Задание. Создать нейронную сеть со следующей структурой\n",
        "\n",
        "\n",
        "Network( <br/>\n",
        "    (hidden): Linear(in_features=784, out_features=256, bias=True) <br/>\n",
        "    (output): Linear(in_features=256, out_features=10, bias=True) <br/>\n",
        "    (sigmoid): Sigmoid() <br/>\n",
        "    (softmax): Softmax(dim=1) <br/>\n",
        ")\n"
      ]
    },
    {
      "cell_type": "markdown",
      "id": "cfb13e52",
      "metadata": {
        "id": "cfb13e52"
      },
      "source": [
        "Подключить необходимые библиотеки: torch, numpy и matplotlib.pyplot:"
      ]
    },
    {
      "cell_type": "code",
      "execution_count": 1,
      "id": "1fe880cb",
      "metadata": {
        "id": "1fe880cb"
      },
      "outputs": [],
      "source": [
        "import torch\n",
        "import numpy as np\n",
        "import matplotlib.pyplot as plt"
      ]
    },
    {
      "cell_type": "markdown",
      "id": "3f54332d",
      "metadata": {
        "id": "3f54332d"
      },
      "source": [
        "Создать класс и описать в нём необходимую нам структуру:"
      ]
    },
    {
      "cell_type": "code",
      "execution_count": 2,
      "id": "21ce9274",
      "metadata": {
        "id": "21ce9274"
      },
      "outputs": [],
      "source": [
        "import torch.nn as nn\n",
        "import torch.nn.functional as F\n",
        "\n",
        "class Net(nn.Module):\n",
        "    def __init__(self):\n",
        "        super().__init__()\n",
        "        self.hidden = nn.Linear(in_features=784, out_features=256, bias=True)\n",
        "        self.output = nn.Linear(in_features=256, out_features=10, bias=True)\n",
        "        self.sigmoid = nn.Sigmoid()\n",
        "        self.softmax = nn.Softmax(dim=1)\n",
        "\n",
        "\n",
        "\n",
        "    def forward(self, x):\n",
        "        x = self.hidden(x)\n",
        "        x = self.sigmoid(x)\n",
        "        x = self.output(x)\n",
        "        x = self.softmax(x)\n",
        "\n",
        "        return x\n"
      ]
    },
    {
      "cell_type": "markdown",
      "id": "08071e94",
      "metadata": {
        "id": "08071e94"
      },
      "source": [
        "Создадим экземпляр класса и выведем его на печать, чтобы проверить, что наша архитектура совпадает с заданной:"
      ]
    },
    {
      "cell_type": "code",
      "execution_count": 3,
      "id": "cb72407a",
      "metadata": {
        "colab": {
          "base_uri": "https://localhost:8080/"
        },
        "id": "cb72407a",
        "outputId": "79872efa-afe7-404d-f4cf-1b53cf711bba"
      },
      "outputs": [
        {
          "output_type": "stream",
          "name": "stdout",
          "text": [
            "Net(\n",
            "  (hidden): Linear(in_features=784, out_features=256, bias=True)\n",
            "  (output): Linear(in_features=256, out_features=10, bias=True)\n",
            "  (sigmoid): Sigmoid()\n",
            "  (softmax): Softmax(dim=1)\n",
            ")\n"
          ]
        }
      ],
      "source": [
        "model = Net()\n",
        "print(model)"
      ]
    },
    {
      "cell_type": "markdown",
      "id": "1257b2ec",
      "metadata": {
        "id": "1257b2ec"
      },
      "source": [
        "Будем использовать набор данных MNIST. Применим трансформации перевода в тензор и нормализации с параметрами (0.5):"
      ]
    },
    {
      "cell_type": "code",
      "execution_count": 4,
      "id": "45e51e57",
      "metadata": {
        "colab": {
          "base_uri": "https://localhost:8080/"
        },
        "id": "45e51e57",
        "outputId": "bf3ed3bb-2e26-49e8-f521-0a7a4d51dfcb"
      },
      "outputs": [
        {
          "output_type": "stream",
          "name": "stdout",
          "text": [
            "Downloading http://yann.lecun.com/exdb/mnist/train-images-idx3-ubyte.gz\n",
            "Downloading http://yann.lecun.com/exdb/mnist/train-images-idx3-ubyte.gz to /root/.pytorch/MNIST_data/MNIST/raw/train-images-idx3-ubyte.gz\n"
          ]
        },
        {
          "output_type": "stream",
          "name": "stderr",
          "text": [
            "100%|██████████| 9912422/9912422 [00:00<00:00, 78894137.06it/s]\n"
          ]
        },
        {
          "output_type": "stream",
          "name": "stdout",
          "text": [
            "Extracting /root/.pytorch/MNIST_data/MNIST/raw/train-images-idx3-ubyte.gz to /root/.pytorch/MNIST_data/MNIST/raw\n",
            "\n",
            "Downloading http://yann.lecun.com/exdb/mnist/train-labels-idx1-ubyte.gz\n",
            "Downloading http://yann.lecun.com/exdb/mnist/train-labels-idx1-ubyte.gz to /root/.pytorch/MNIST_data/MNIST/raw/train-labels-idx1-ubyte.gz\n"
          ]
        },
        {
          "output_type": "stream",
          "name": "stderr",
          "text": [
            "100%|██████████| 28881/28881 [00:00<00:00, 7072791.14it/s]\n"
          ]
        },
        {
          "output_type": "stream",
          "name": "stdout",
          "text": [
            "Extracting /root/.pytorch/MNIST_data/MNIST/raw/train-labels-idx1-ubyte.gz to /root/.pytorch/MNIST_data/MNIST/raw\n",
            "\n",
            "Downloading http://yann.lecun.com/exdb/mnist/t10k-images-idx3-ubyte.gz\n",
            "Downloading http://yann.lecun.com/exdb/mnist/t10k-images-idx3-ubyte.gz to /root/.pytorch/MNIST_data/MNIST/raw/t10k-images-idx3-ubyte.gz\n"
          ]
        },
        {
          "output_type": "stream",
          "name": "stderr",
          "text": [
            "100%|██████████| 1648877/1648877 [00:00<00:00, 39043274.56it/s]"
          ]
        },
        {
          "output_type": "stream",
          "name": "stdout",
          "text": [
            "Extracting /root/.pytorch/MNIST_data/MNIST/raw/t10k-images-idx3-ubyte.gz to /root/.pytorch/MNIST_data/MNIST/raw\n"
          ]
        },
        {
          "output_type": "stream",
          "name": "stderr",
          "text": [
            "\n"
          ]
        },
        {
          "output_type": "stream",
          "name": "stdout",
          "text": [
            "\n",
            "Downloading http://yann.lecun.com/exdb/mnist/t10k-labels-idx1-ubyte.gz\n",
            "Downloading http://yann.lecun.com/exdb/mnist/t10k-labels-idx1-ubyte.gz to /root/.pytorch/MNIST_data/MNIST/raw/t10k-labels-idx1-ubyte.gz\n"
          ]
        },
        {
          "output_type": "stream",
          "name": "stderr",
          "text": [
            "100%|██████████| 4542/4542 [00:00<00:00, 15119467.28it/s]\n"
          ]
        },
        {
          "output_type": "stream",
          "name": "stdout",
          "text": [
            "Extracting /root/.pytorch/MNIST_data/MNIST/raw/t10k-labels-idx1-ubyte.gz to /root/.pytorch/MNIST_data/MNIST/raw\n",
            "\n"
          ]
        }
      ],
      "source": [
        "from torchvision import datasets, transforms\n",
        "\n",
        "# Define a transform to normalize the data\n",
        "transform = transforms.Compose( [\n",
        "    transforms.ToTensor(),\n",
        "    transforms.Normalize(0.5, 0.5)\n",
        "])\n",
        "\n",
        "# Download and load the training data\n",
        "trainset = datasets.MNIST('~/.pytorch/MNIST_data/', download=True, train=True, transform=transform)\n",
        "trainloader = torch.utils.data.DataLoader(trainset, batch_size=64, shuffle=True)"
      ]
    },
    {
      "cell_type": "markdown",
      "id": "b872779d",
      "metadata": {
        "id": "b872779d"
      },
      "source": [
        "Зададим функцию view_classify для более удобного вывода результатов на экран:"
      ]
    },
    {
      "cell_type": "code",
      "execution_count": 5,
      "id": "1deb1275",
      "metadata": {
        "id": "1deb1275"
      },
      "outputs": [],
      "source": [
        "def view_classify(img, ps, version=\"MNIST\"):\n",
        "    '''\n",
        "    Function for viewing an image and it's predicted classes.\n",
        "    '''\n",
        "    ps = ps.data.numpy().squeeze()\n",
        "\n",
        "    fig, (ax1, ax2) = plt.subplots(figsize=(6,9), ncols=2)\n",
        "    ax1.imshow(img.resize_(1, 28, 28).numpy().squeeze())\n",
        "    ax1.axis('off')\n",
        "    ax2.barh(np.arange(10), ps)\n",
        "    ax2.set_aspect(0.1)\n",
        "    ax2.set_yticks(np.arange(10))\n",
        "    ax2.set_yticklabels(np.arange(10))\n",
        "    ax2.set_title('Class Probability')\n",
        "    ax2.set_xlim(0, 1.1)\n",
        "\n",
        "    plt.tight_layout()"
      ]
    },
    {
      "cell_type": "markdown",
      "id": "077160df",
      "metadata": {
        "id": "077160df"
      },
      "source": [
        "Будем итерироваться по тренировочному множеству и выведем результат работы нейронной сети на экран:"
      ]
    },
    {
      "cell_type": "code",
      "execution_count": 6,
      "id": "58c4ab17",
      "metadata": {
        "colab": {
          "base_uri": "https://localhost:8080/",
          "height": 345
        },
        "id": "58c4ab17",
        "outputId": "0c724397-2a3e-41ec-e223-6fc32242e74b"
      },
      "outputs": [
        {
          "output_type": "display_data",
          "data": {
            "text/plain": [
              "<Figure size 600x900 with 2 Axes>"
            ],
            "image/png": "[encoded data removed]"
          },
          "metadata": {}
        }
      ],
      "source": [
        "# Grab some data\n",
        "for batch_idx, (test_data, test_targets) in enumerate(trainloader):\n",
        "  images = test_data\n",
        "  break\n",
        "\n",
        "# Resize images into a 1D vector, new shape is (batch size, color channels, image pixels)\n",
        "images.resize_(64, 1, 784)\n",
        "# or images.resize_(images.shape[0], 1, 784) to automatically get batch size\n",
        "\n",
        "# Forward pass through the network\n",
        "model = Net()\n",
        "img_idx = 0\n",
        "ps = model.forward(images[img_idx,:])\n",
        "\n",
        "img = images[img_idx]\n",
        "view_classify(img.view(1, 28, 28), ps)"
      ]
    },
    {
      "cell_type": "markdown",
      "id": "d1e3bed5",
      "metadata": {
        "id": "d1e3bed5"
      },
      "source": [
        "Вопрос: почему получилось такое распределение вероятностей предсказаний классов?\n",
        "\n",
        "Ответ: веса в этой нейронной сети задавались случайным образом, то есть сеть никак не обучалась."
      ]
    },
    {
      "cell_type": "markdown",
      "id": "77c8b9d1",
      "metadata": {
        "id": "77c8b9d1"
      },
      "source": [
        "## Обучение нейронной сети"
      ]
    },
    {
      "cell_type": "markdown",
      "id": "f793060f",
      "metadata": {
        "id": "f793060f"
      },
      "source": [
        "Суть обучения нейронной сети заключается в подборе (посредством постепенного изменения) весов и bias-векторов (параметров сети) таким образом, чтобы разница между выходом нейронной сети и целевым значением была минимальна.\n",
        "\n",
        "Для этого строится **функция потерь (Loss function)** - функция, которая оценивает <<расстояние>> между значением, которое получилось на выходе нейронной сети (Prediction), и заранее заданным значением (Labels).\n",
        "\n",
        "Чтобы минимизировать функцию потерь, используется метод обратного распространения ошибки (Backpropagation), суть которого заключается в нахождении минимума функции потерь через вычисление её градиента, который в свою очередь зависит только от входных данных (поэтому обратное распространение).\n",
        "\n",
        "Метод обратного распространения ошибки включает в себя следующие шаги:\n",
        "* Forward Pass (FP) — прямое распространение сигнала от входа к выходам (без которого не получить вычисленные значения в графе);\n",
        "* Backward Pass (BP) — расчёт величины градиента от выхода ко входам;\n",
        "* обновление весов в зависимости от величины градиента (скорость обучения или learning rate).\n",
        "\n",
        "<img src=\"assets/forward_backward_pass.png\" width='800'>\n",
        "\n",
        "Существует несколько реализаций метода обратного распространения ошибки:\n",
        "- стохастического градиентного спуска (Stochastic Gradient Descent, SGD);\n",
        "- пакетного градиентного спуска (Mini-Bath Gradient Descent, MBGD)."
      ]
    },
    {
      "cell_type": "markdown",
      "id": "5ca4d40c",
      "metadata": {
        "id": "5ca4d40c"
      },
      "source": [
        "Итого, один цикл обучения включает:\n",
        "- загрузку данных (Features);\n",
        "- один проход данных сквозь нейронную сеть (Neural Network);\n",
        "- получение предсказаний нейронной сети (Prediction);\n",
        "- выгрузка значений, которые соответствуют данным (Labels);\n",
        "- построение функции потерь (Loss) от двух параметров Prediction и Loss;\n",
        "- применение метода обратного распространения ошибки (Backpropagation).\n",
        "\n",
        "<img src=\"assets/Training_cycle.png\" width= \"800\">"
      ]
    },
    {
      "cell_type": "markdown",
      "id": "29e83149",
      "metadata": {
        "id": "29e83149"
      },
      "source": [
        "Например, внутри одной эпохи обучения двухслойной неронной сети необходимо выполнять следующие действия:\n",
        "- предобработать данные;\n",
        "- умножить их на веса;\n",
        "- применить функцию активации;\n",
        "- снова умножить на веса;\n",
        "- вычислить значение функции потерь;\n",
        "- вычислить градиент функции потерь по весам;\n",
        "- обновить веса;\n",
        "- оценить точность."
      ]
    },
    {
      "cell_type": "markdown",
      "id": "a174b2ab",
      "metadata": {
        "id": "a174b2ab"
      },
      "source": [
        "Нейронная сеть в процессе **обучения** последовательно обрабатывает все объекты из обучающей выборки.\n",
        "Предъявление нейронной сети всех объектов обучающей выборки по одному разу называется **эпохой обучения**.\n",
        "\n",
        "Обучающую выборку разделяют на две части: непосредственно использующуюся для обучения (train data) и тестовую (test data) или валидационную (validation data). На тестовых данных каждую эпоху происходит оценка качества обучения. Стратегия разделения на train и test/validation подвыборки может быть произвольной, но при разделении следует заботиться о том, чтобы эти подвыборки были \"похожи\"."
      ]
    },
    {
      "cell_type": "markdown",
      "id": "8af3a29c",
      "metadata": {
        "id": "8af3a29c"
      },
      "source": [
        "Обучение модели — итеративный процесс. На каждой итерции модель получает входные данные, дает предсказание на выходе, вычисляет значение функции потерь (loss), вычисляет производные функции потерь по параметрам и подстраивает параметры, используя градиентный спуск. Для более детального рассмотрения этого процесса рекомендуем посмотреть [видео об обратном распространении ошибки от 3Blue1Brown](https://www.youtube.com/watch?v=tIeHLnjs5U8).\n",
        "\n",
        "[Плейлист с видео о нейронных сетях от 3Blue1Brown с озвучкой на русском](https://www.youtube.com/playlist?list=PLfdZ2TeaMzfzlpZ60rbaYU_epH5XPNbWU)."
      ]
    },
    {
      "cell_type": "markdown",
      "id": "6ff49c86",
      "metadata": {
        "id": "6ff49c86"
      },
      "source": [
        "## Гиперпараметры\n",
        "\n",
        "Гиперпараметры — это задаваемые разработчиком параметры, которые позволяют управлять процессом обучения. Различные значения гиперпараметров могут влиять на обучение модели и скорость сходимости ([здесь](https://pytorch.org/tutorials/beginner/hyperparameter_tuning_tutorial.html) можно почитать подробнее про подбор гиперпараметров).\n",
        "\n",
        "Определим следующие гиперпараметры процедуры обучения:\n",
        "* **количество эпох** (`num_epochs`) — количество итераций обучения по всему набору данных;\n",
        "* **размер батча** (`batch_size`) — количество образцов, передаваемых в сеть для обновления параметров;\n",
        "* **скорость обучения** (`learning_rate`) — коэффициент, определяющий, насколько сильно нужно обновлять параметры модели на каждом батче. Малые значения приводят к долгому обучению, в то время как большие значения могут приводить к непредсказуемому поведению во время обучения."
      ]
    },
    {
      "cell_type": "code",
      "execution_count": 7,
      "id": "9b556161",
      "metadata": {
        "id": "9b556161"
      },
      "outputs": [],
      "source": [
        "num_epochs = 10\n",
        "batch_size = 64\n",
        "learning_rate = 1e-3"
      ]
    },
    {
      "cell_type": "markdown",
      "id": "5f660b8f",
      "metadata": {
        "id": "5f660b8f"
      },
      "source": [
        "## Функция потерь (Loss function)\n",
        "\n",
        "При получении некоторых обучающих данных наша необученная сеть, скорее всего, не даст правильного ответа. Функция потерь измеряет степень различия между значениями на выходе сети и целевыми значениями. Именно функцию потерь мы и хотим минимизировать во время обучения. Для вычисления функции потерь нужно получить предсказание модели, передав ей на вход пример из данных, и сравнить его с истинным значением целевой переменной.\n",
        "\n",
        "Наиболее часто применяемыми функциями потерь являются [`nn.MSELoss`](https://pytorch.org/docs/stable/generated/torch.nn.MSELoss.html#torch.nn.MSELoss) (Mean Square Error) для задач регрессии и [`nn.CrossEntropyLoss`](https://pytorch.org/docs/stable/generated/torch.nn.CrossEntropyLoss.html#torch.nn.CrossEntropyLoss) для задач класиификации.\n",
        "\n",
        "\n",
        "Мы будем передавать выходы модели (логиты) в `nn.CrossEntropyLoss`, которая будет их нормализовывать и вычислять ошибку предсказания."
      ]
    },
    {
      "cell_type": "code",
      "execution_count": 8,
      "id": "503bde7f",
      "metadata": {
        "id": "503bde7f"
      },
      "outputs": [],
      "source": [
        "criterion = nn.CrossEntropyLoss()"
      ]
    },
    {
      "cell_type": "markdown",
      "id": "b9b54dd6",
      "metadata": {
        "id": "b9b54dd6"
      },
      "source": [
        "## Оптимизатор (Optimizer)\n",
        "\n",
        "Оптимизация — это процесс подстройки параметров модели для уменьшения ошибки на каждом шаге обучения. От **алгоритма оптимизации** зависит то, как этот процесс будет выполняться. Здесь мы будем использовать стохастический градиентный спуск (Stochastic Gradient Descent, SGD). Однако в PyTorch реализовано еще [множество других алгоритмов оптимизации](https://pytorch.org/docs/stable/optim.html#algorithms), таких как Adam и RMSProp, и они могут работать лучше или хуже для разных видов моделей и данных.\n",
        "\n",
        "Вся логика оптимизации заключена в объекте `optimizer`. Мы инициализируем оптимизатор, передавая ему параметры модели, которые требуется обучать (`model.parameters()`), а также гиперпараметр скорости обучения (`learning_rate`)."
      ]
    },
    {
      "cell_type": "code",
      "execution_count": 9,
      "id": "edaf2599",
      "metadata": {
        "id": "edaf2599"
      },
      "outputs": [],
      "source": [
        "optimizer = torch.optim.SGD(model.parameters(), lr=learning_rate)"
      ]
    },
    {
      "cell_type": "markdown",
      "id": "e863843a",
      "metadata": {
        "id": "e863843a"
      },
      "source": [
        "## Цикл обучения\n",
        "\n",
        "Внутри цикла обучения, оптимизация производится за три шага:\n",
        "1. Вызов `optimizer.zero_grad()`, чтобы сбросить градиенты параметров модели. По умолчанию градиенты суммируются, и во избежание повторного вычисления их необходимо явно обнулять на каждой итерации;\n",
        "2. Обратное распространение ошибки предсказания с помощью вызова `loss.backward()`. PyTorch вычислит градиенты функции потерь относительно каждого обучаемого параметра;\n",
        "3. Когда у нас есть градиенты, мы вызываем `optimizer.step()`, чтобы подстроить обучаемые параметры с учетом градиентов, посчитанных при обратном распространении, согласно алгоритму оптимизации.\n",
        "\n",
        "Итого, в цикле обучения в следующем порядке должны идти строчки:  <br>\n",
        "optimizer.zero_grad() <br>\n",
        "loss.backward()  <br>\n",
        "optimizer.step()  <br>"
      ]
    },
    {
      "cell_type": "markdown",
      "id": "1496ad93",
      "metadata": {
        "id": "1496ad93"
      },
      "source": [
        "Наиболее просто полный процесс обучения нейронной сети может быть представлен следующим кодом:"
      ]
    },
    {
      "cell_type": "code",
      "execution_count": 10,
      "id": "62544b17",
      "metadata": {
        "id": "62544b17",
        "outputId": "03da0a38-8f61-4ba9-b091-3c0522165b8d",
        "colab": {
          "base_uri": "https://localhost:8080/"
        }
      },
      "outputs": [
        {
          "output_type": "stream",
          "name": "stdout",
          "text": [
            "Training loss: 1.8605882799955828\n",
            "Training loss: 0.7988455540526396\n",
            "Training loss: 0.5089772067535152\n",
            "Training loss: 0.42398820633191797\n",
            "Training loss: 0.38239946965374416\n"
          ]
        }
      ],
      "source": [
        "from torch import optim\n",
        "\n",
        "model = nn.Sequential(nn.Linear(784, 128),\n",
        "                      nn.ReLU(),\n",
        "                      nn.Linear(128, 64),\n",
        "                      nn.ReLU(),\n",
        "                      nn.Linear(64, 10),\n",
        "                      nn.LogSoftmax(dim=1))\n",
        "\n",
        "\n",
        "num_epochs = 5\n",
        "learning_rate = 0.003\n",
        "\n",
        "criterion = nn.NLLLoss()\n",
        "\n",
        "optimizer = optim.SGD(model.parameters(), lr=learning_rate)\n",
        "\n",
        "for e in range(num_epochs):\n",
        "    running_loss = 0\n",
        "    for images, labels in trainloader:\n",
        "        # Flatten MNIST images into a 784 long vector\n",
        "        images = images.view(images.shape[0], -1)\n",
        "\n",
        "        # Training pass\n",
        "        output = model(images)\n",
        "        loss = criterion(output, labels)\n",
        "\n",
        "        optimizer.zero_grad()\n",
        "        loss.backward()\n",
        "        optimizer.step()\n",
        "\n",
        "        running_loss += loss.item()\n",
        "    else:\n",
        "        print(f\"Training loss: {running_loss/len(trainloader)}\")"
      ]
    },
    {
      "cell_type": "markdown",
      "id": "4cfd2ba2",
      "metadata": {
        "id": "4cfd2ba2"
      },
      "source": [
        "Посмотрим на вероятности предсказанных классов после обучения нейронной сети:"
      ]
    },
    {
      "cell_type": "code",
      "execution_count": 11,
      "id": "f2b0aca3",
      "metadata": {
        "id": "f2b0aca3",
        "outputId": "77fa6e83-3123-4514-b1d4-160c1680d616",
        "colab": {
          "base_uri": "https://localhost:8080/",
          "height": 345
        }
      },
      "outputs": [
        {
          "output_type": "display_data",
          "data": {
            "text/plain": [
              "<Figure size 600x900 with 2 Axes>"
            ],
            "image/png": "[encoded data removed]"
          },
          "metadata": {}
        }
      ],
      "source": [
        "%matplotlib inline\n",
        "\n",
        "images, labels = next(iter(trainloader))\n",
        "\n",
        "img = images[0].view(1, 784)\n",
        "# Turn off gradients to speed up this part\n",
        "with torch.no_grad():\n",
        "    logps = model(img)\n",
        "\n",
        "# Output of the network are log-probabilities, need to take exponential for probabilities\n",
        "ps = torch.exp(logps)\n",
        "view_classify(img.view(1, 28, 28), ps)"
      ]
    },
    {
      "cell_type": "markdown",
      "id": "357a91c1",
      "metadata": {
        "id": "357a91c1"
      },
      "source": [
        "Видим, что нейронная сеть уже научилась распознавать цифры с достаточно большой вероятностью."
      ]
    },
    {
      "cell_type": "markdown",
      "id": "779193bf",
      "metadata": {
        "id": "779193bf"
      },
      "source": [
        "# Пример нейронной сети для решения задачи классификации на наборе данных MNIST"
      ]
    },
    {
      "cell_type": "markdown",
      "id": "1de36f01",
      "metadata": {
        "id": "1de36f01"
      },
      "source": [
        "Задание: собрать нейронную сеть из ноутбука L05_Neural_networks.ipynb"
      ]
    },
    {
      "cell_type": "code",
      "execution_count": 12,
      "id": "83718c9e",
      "metadata": {
        "id": "83718c9e",
        "colab": {
          "base_uri": "https://localhost:8080/"
        },
        "outputId": "acead582-7c04-46b6-8b2b-f61343e9037b"
      },
      "outputs": [
        {
          "output_type": "execute_result",
          "data": {
            "text/plain": [
              "NeuralNetwork(\n",
              "  (flatten): Flatten(start_dim=1, end_dim=-1)\n",
              "  (layers_stack): Sequential(\n",
              "    (0): Linear(in_features=784, out_features=512, bias=True)\n",
              "    (1): ReLU()\n",
              "    (2): Linear(in_features=512, out_features=128, bias=True)\n",
              "    (3): ReLU()\n",
              "    (4): Linear(in_features=128, out_features=10, bias=True)\n",
              "  )\n",
              ")"
            ]
          },
          "metadata": {},
          "execution_count": 12
        }
      ],
      "source": [
        "class NeuralNetwork(nn.Module):\n",
        "    def __init__(self):\n",
        "        super().__init__()\n",
        "        self.flatten = nn.Flatten()\n",
        "        self.layers_stack = nn.Sequential(\n",
        "            nn.Linear(28 * 28, 512),\n",
        "            nn.ReLU(),\n",
        "            nn.Linear(512, 128),\n",
        "            nn.ReLU(),\n",
        "            nn.Linear(128, 10),\n",
        "        )\n",
        "\n",
        "    def forward(self, x):\n",
        "        x = self.flatten(x)\n",
        "        logits = self.layers_stack(x)\n",
        "        return logits\n",
        "\n",
        "\n",
        "model = NeuralNetwork()\n",
        "model"
      ]
    },
    {
      "cell_type": "markdown",
      "id": "0c8b1e22",
      "metadata": {
        "id": "0c8b1e22"
      },
      "source": [
        "## Обработка результатов:"
      ]
    },
    {
      "cell_type": "markdown",
      "id": "c965d914",
      "metadata": {
        "id": "c965d914"
      },
      "source": [
        "Поэтапно пропустим тестовые изображения через модель и посмотрим на размерности:"
      ]
    },
    {
      "cell_type": "code",
      "source": [
        "testset = datasets.MNIST('~/.pytorch/MNIST_data/', download=True, train=False, transform=transform)\n",
        "test_dataloader = torch.utils.data.DataLoader(trainset, batch_size=64, shuffle=True)"
      ],
      "metadata": {
        "id": "3txycCjhlWf_"
      },
      "id": "3txycCjhlWf_",
      "execution_count": 13,
      "outputs": []
    },
    {
      "cell_type": "code",
      "execution_count": 14,
      "id": "b7312af1",
      "metadata": {
        "scrolled": true,
        "id": "b7312af1",
        "outputId": "d7777015-ddd5-453d-9a92-c5daa0a22f62",
        "colab": {
          "base_uri": "https://localhost:8080/"
        }
      },
      "outputs": [
        {
          "output_type": "stream",
          "name": "stdout",
          "text": [
            "imgs shape:  torch.Size([64, 1, 28, 28])\n"
          ]
        }
      ],
      "source": [
        "# get batch\n",
        "imgs, labels = next(iter(test_dataloader))\n",
        "print(\"imgs shape: \", imgs.shape)"
      ]
    },
    {
      "cell_type": "code",
      "execution_count": 16,
      "id": "818fcd33",
      "metadata": {
        "id": "818fcd33",
        "outputId": "f25bbca0-87c8-4404-f32b-ab7e9b0d7b19",
        "colab": {
          "base_uri": "https://localhost:8080/"
        }
      },
      "outputs": [
        {
          "output_type": "stream",
          "name": "stdout",
          "text": [
            "Using cpu device\n"
          ]
        }
      ],
      "source": [
        "# get output\n",
        "device = \"cuda\" if torch.cuda.is_available() else \"cpu\"\n",
        "print(f\"Using {device} device\")"
      ]
    },
    {
      "cell_type": "markdown",
      "id": "ebe82db3",
      "metadata": {
        "id": "ebe82db3"
      },
      "source": [
        "Посмотрим на результаты обработки нейронной сети для выбранного батча:"
      ]
    },
    {
      "cell_type": "code",
      "execution_count": 18,
      "id": "cefd2d29",
      "metadata": {
        "id": "cefd2d29",
        "outputId": "5a769dbd-a157-436a-d795-0752cabc3d53",
        "colab": {
          "base_uri": "https://localhost:8080/"
        }
      },
      "outputs": [
        {
          "output_type": "execute_result",
          "data": {
            "text/plain": [
              "tensor([-0.0793,  0.0513, -0.0911,  0.2170, -0.1051, -0.0754,  0.1358, -0.0731,\n",
              "         0.0429, -0.0593], grad_fn=<SelectBackward0>)"
            ]
          },
          "metadata": {},
          "execution_count": 18
        }
      ],
      "source": [
        "# First sample in prediction batch\n",
        "pred = model(imgs.to(device))\n",
        "pred[0]"
      ]
    },
    {
      "cell_type": "markdown",
      "id": "2e9fe30d",
      "metadata": {
        "id": "2e9fe30d"
      },
      "source": [
        "Чтобы посчитать вероятность, применим функццию softmax:"
      ]
    },
    {
      "cell_type": "code",
      "execution_count": 19,
      "id": "4858be52",
      "metadata": {
        "id": "4858be52",
        "outputId": "2b8cbcca-95dc-412d-f1f8-8eb1389d0fb4",
        "colab": {
          "base_uri": "https://localhost:8080/"
        }
      },
      "outputs": [
        {
          "output_type": "execute_result",
          "data": {
            "text/plain": [
              "tensor([0.0922, 0.1050, 0.0911, 0.1240, 0.0898, 0.0926, 0.1143, 0.0928, 0.1042,\n",
              "        0.0941])"
            ]
          },
          "metadata": {},
          "execution_count": 19
        }
      ],
      "source": [
        "# Calculate probabilities\n",
        "nn.Softmax(dim=0)(pred[0].detach())"
      ]
    },
    {
      "cell_type": "markdown",
      "id": "13f90cb8",
      "metadata": {
        "id": "13f90cb8"
      },
      "source": [
        "Изменим размерности данных для вывода картинок на экран:"
      ]
    },
    {
      "cell_type": "code",
      "execution_count": 20,
      "id": "cace1765",
      "metadata": {
        "id": "cace1765",
        "outputId": "304396f6-3cce-438a-e41b-2102a86a285c",
        "colab": {
          "base_uri": "https://localhost:8080/"
        }
      },
      "outputs": [
        {
          "output_type": "stream",
          "name": "stdout",
          "text": [
            "imgs shape(after reshape):  torch.Size([64, 28, 28])\n"
          ]
        }
      ],
      "source": [
        "# remove axis\n",
        "imgs = torch.reshape(imgs, (64, 28, 28))\n",
        "print(\"imgs shape(after reshape): \", imgs.shape)"
      ]
    },
    {
      "cell_type": "code",
      "execution_count": 21,
      "id": "2e176f7a",
      "metadata": {
        "id": "2e176f7a",
        "outputId": "113ae184-a995-4917-a23a-1128472229da",
        "colab": {
          "base_uri": "https://localhost:8080/"
        }
      },
      "outputs": [
        {
          "output_type": "stream",
          "name": "stdout",
          "text": [
            "imgs shape:  torch.Size([10, 28, 28])\n"
          ]
        }
      ],
      "source": [
        "# take 10 first images\n",
        "imgs = imgs[:10]\n",
        "print(\"imgs shape: \", imgs.shape)"
      ]
    },
    {
      "cell_type": "markdown",
      "id": "ed60c3e5",
      "metadata": {
        "id": "ed60c3e5"
      },
      "source": [
        "Посмотрим на предсказанные вероятности и выведем позицию максимального значения:"
      ]
    },
    {
      "cell_type": "code",
      "execution_count": 22,
      "id": "9d96b210",
      "metadata": {
        "id": "9d96b210",
        "outputId": "5cf2b60b-d0ec-4937-a971-928577173d02",
        "colab": {
          "base_uri": "https://localhost:8080/"
        }
      },
      "outputs": [
        {
          "output_type": "stream",
          "name": "stdout",
          "text": [
            "Prediction(1 sample):\n",
            " tensor([-0.0793,  0.0513, -0.0911,  0.2170, -0.1051, -0.0754,  0.1358, -0.0731,\n",
            "         0.0429, -0.0593])\n",
            "Predicted class:  3\n"
          ]
        }
      ],
      "source": [
        "import numpy as np\n",
        "\n",
        "pred = pred[:10].detach()\n",
        "print(\"Prediction(1 sample):\\n\", pred[0])\n",
        "digits = np.argmax(pred.cpu().numpy(), axis=1)\n",
        "print(\"Predicted class: \", digits[0])"
      ]
    },
    {
      "cell_type": "markdown",
      "id": "657336bb",
      "metadata": {
        "id": "657336bb"
      },
      "source": [
        "Визуализируем изображения, подпишем предсказанное и истинное значение:"
      ]
    },
    {
      "cell_type": "code",
      "execution_count": 23,
      "id": "8544161e",
      "metadata": {
        "id": "8544161e",
        "outputId": "64e7f9aa-b49e-4fd7-84db-a423ea22957c",
        "colab": {
          "base_uri": "https://localhost:8080/",
          "height": 125
        }
      },
      "outputs": [
        {
          "output_type": "display_data",
          "data": {
            "text/plain": [
              "<Figure size 2500x2500 with 10 Axes>"
            ],
            "image/png": "[encoded data removed]"
          },
          "metadata": {}
        }
      ],
      "source": [
        "plt.figure(figsize=(25.0, 25.0))\n",
        "for i in range(10):\n",
        "    img = imgs[i]\n",
        "\n",
        "    plt.subplot(1, 10, i + 1)\n",
        "    plt.title(\n",
        "        \"pred: \" + str(digits[i]) + \" real: \" + str(labels[i].numpy())\n",
        "    )  # predicted and real values\n",
        "    plt.axis(\"off\")\n",
        "    plt.imshow(img.numpy(), cmap=\"gray\")"
      ]
    },
    {
      "cell_type": "markdown",
      "id": "c441fe9a",
      "metadata": {
        "id": "c441fe9a"
      },
      "source": [
        "## Сохранение и загрузка весов модели\n",
        "\n",
        "Обычно обучение модели является достаточно затратным процессом с точки зрения вычислительных ресурсов. Поэтому, однажды обучив сеть, разумно будет сохранить ее для последующего использования. Рассмотрим варианты, как это можно сделать в PyTorch.\n",
        "\n",
        "Модели PyTorch хранят обучаемые параметры во внутреннем словаре состояния, который называется `state_dict`. Их можно сохранить с помощью метода `torch.save`.\n"
      ]
    },
    {
      "cell_type": "code",
      "execution_count": 24,
      "id": "ed416697",
      "metadata": {
        "id": "ed416697"
      },
      "outputs": [],
      "source": [
        "torch.save(model.state_dict(), \"model_weights.pth\")"
      ]
    },
    {
      "cell_type": "markdown",
      "id": "0f3048e7",
      "metadata": {
        "id": "0f3048e7"
      },
      "source": [
        "Для того, чтобы загрузить веса модели, сперва необходимо создать экземпляр такой модели, а затем загрузить параметры с помощью метода `load_state_dict()`."
      ]
    },
    {
      "cell_type": "code",
      "execution_count": 25,
      "id": "87c7b4c0",
      "metadata": {
        "id": "87c7b4c0",
        "outputId": "c293ea97-a6be-40f1-9b2e-6aaeadb66d58",
        "colab": {
          "base_uri": "https://localhost:8080/"
        }
      },
      "outputs": [
        {
          "output_type": "stream",
          "name": "stdout",
          "text": [
            "NeuralNetwork(\n",
            "  (flatten): Flatten(start_dim=1, end_dim=-1)\n",
            "  (layers_stack): Sequential(\n",
            "    (0): Linear(in_features=784, out_features=512, bias=True)\n",
            "    (1): ReLU()\n",
            "    (2): Linear(in_features=512, out_features=128, bias=True)\n",
            "    (3): ReLU()\n",
            "    (4): Linear(in_features=128, out_features=10, bias=True)\n",
            "  )\n",
            ")\n"
          ]
        }
      ],
      "source": [
        "model = NeuralNetwork()\n",
        "model.load_state_dict(torch.load(\"model_weights.pth\"))\n",
        "print(model)"
      ]
    },
    {
      "cell_type": "code",
      "execution_count": 26,
      "id": "dacb93e6",
      "metadata": {
        "id": "dacb93e6"
      },
      "outputs": [],
      "source": [
        "imgs, labels = next(iter(test_dataloader))\n",
        "pred = model(torch.reshape(imgs, (64, 28, 28)).to(device))"
      ]
    },
    {
      "cell_type": "code",
      "execution_count": 27,
      "id": "6577fd8d",
      "metadata": {
        "id": "6577fd8d",
        "outputId": "947ca1cf-40b8-4c2c-defd-f310a531b98e",
        "colab": {
          "base_uri": "https://localhost:8080/"
        }
      },
      "outputs": [
        {
          "output_type": "stream",
          "name": "stdout",
          "text": [
            "Prediction(1 sample):\n",
            " tensor([[-6.2385e-02, -7.1276e-02, -7.3745e-02,  2.3560e-01, -8.2673e-02,\n",
            "         -8.9156e-03,  5.1591e-02, -7.1590e-02, -4.0679e-02,  4.3940e-02],\n",
            "        [-9.8546e-02,  2.3212e-02, -1.0355e-01,  1.2057e-01, -4.9833e-02,\n",
            "         -6.2324e-02,  9.5826e-02, -4.0621e-02, -4.0019e-02, -3.4661e-02],\n",
            "        [-1.1217e-01, -1.1919e-02, -1.0002e-01,  1.1553e-01, -4.3048e-02,\n",
            "         -1.8298e-01,  1.7638e-03, -7.8524e-02, -4.8294e-02,  2.7658e-02],\n",
            "        [-8.8765e-02,  2.3205e-02, -1.4378e-01,  1.6056e-01, -7.1143e-02,\n",
            "         -1.0180e-01,  6.9788e-02, -5.9556e-02, -1.3945e-02, -2.6192e-02],\n",
            "        [-1.1851e-03,  2.4201e-03, -1.5858e-01,  3.1898e-01,  3.0140e-02,\n",
            "         -6.1950e-02,  8.8167e-02, -2.2494e-02, -4.8429e-03, -2.0760e-02],\n",
            "        [-9.0171e-02,  4.5572e-02, -1.5796e-01,  1.8933e-01, -9.3532e-02,\n",
            "         -9.0317e-02,  3.0980e-02, -5.8259e-02, -3.8510e-02, -2.2956e-02],\n",
            "        [-5.5803e-02,  1.0648e-01, -7.8162e-02,  2.1271e-01, -3.9608e-03,\n",
            "         -8.1054e-02,  8.2553e-02, -6.0768e-02, -4.7103e-02,  6.1359e-02],\n",
            "        [-6.9309e-02,  2.1602e-02, -6.0210e-02,  2.3373e-01, -4.6708e-02,\n",
            "         -5.5754e-02,  8.3015e-02, -5.0741e-02,  1.0997e-03,  8.3032e-03],\n",
            "        [-6.7331e-02,  3.0415e-02, -8.1855e-02,  2.3712e-01, -4.4172e-02,\n",
            "         -9.1151e-02,  1.3045e-01,  9.9389e-03,  1.3659e-02, -9.9202e-02],\n",
            "        [-8.0483e-02,  2.0719e-02, -1.4858e-01,  1.8673e-01,  2.6182e-02,\n",
            "         -2.3127e-02,  4.5403e-03, -3.4853e-02, -2.2995e-02,  4.8217e-02],\n",
            "        [-1.1112e-01,  1.6687e-02, -3.1399e-02,  1.5845e-01,  5.4756e-02,\n",
            "         -5.4220e-02,  4.2115e-03, -6.8886e-02, -1.4135e-01, -1.6973e-02],\n",
            "        [-1.5997e-01,  4.6974e-02, -1.3604e-01,  1.6734e-01, -4.9852e-02,\n",
            "         -5.3130e-02,  6.1172e-02, -6.5160e-02, -5.3736e-02, -6.7500e-02],\n",
            "        [-9.2331e-02, -2.1481e-02, -3.9565e-02,  1.3687e-01, -1.3551e-03,\n",
            "         -4.6537e-02,  6.8978e-02, -3.2984e-02, -9.8809e-02,  7.3597e-02],\n",
            "        [-9.4023e-02,  1.5280e-02, -1.9043e-01,  1.6710e-01, -7.0503e-02,\n",
            "         -4.7829e-02,  4.0570e-02, -1.4985e-01, -1.0696e-01, -8.6927e-02],\n",
            "        [-2.6549e-02, -2.1003e-02, -7.1497e-02,  2.4664e-01, -8.8877e-02,\n",
            "         -1.1177e-01,  4.1816e-02, -1.0390e-02, -8.3954e-02, -5.9569e-02],\n",
            "        [-7.2502e-02,  8.2936e-02, -1.4588e-01,  2.1897e-01, -4.7982e-02,\n",
            "         -5.4073e-02,  3.1874e-02, -1.1234e-01, -9.2297e-02, -3.6769e-02],\n",
            "        [-5.1128e-02, -4.1188e-02, -8.2439e-02,  1.3768e-01, -1.0427e-01,\n",
            "         -1.3917e-01,  1.0608e-01, -6.7340e-02, -9.0653e-02, -2.3565e-02],\n",
            "        [-7.2897e-02,  8.7838e-02, -1.5933e-01,  2.2085e-01, -9.8663e-02,\n",
            "         -1.6373e-01, -1.0484e-02, -1.0410e-01, -1.1682e-01, -4.2128e-02],\n",
            "        [-6.2975e-02, -4.2011e-02, -7.2838e-02,  2.1640e-01, -3.4953e-02,\n",
            "         -1.0849e-01,  6.3911e-02, -5.3430e-02,  2.5221e-03, -2.4810e-02],\n",
            "        [-4.8863e-02,  2.9079e-02, -1.0306e-01,  2.1886e-01, -4.2565e-02,\n",
            "         -1.0041e-01,  8.8479e-02,  7.0005e-03, -1.2435e-02, -4.1677e-02],\n",
            "        [-7.6367e-02, -9.2878e-04, -1.3799e-01,  1.6195e-01, -9.3487e-02,\n",
            "         -1.0942e-01,  8.1379e-02, -4.8434e-02, -2.2585e-02, -3.8234e-02],\n",
            "        [-9.0920e-02,  2.1542e-02, -1.6803e-01,  2.1404e-01, -8.1328e-02,\n",
            "         -8.0166e-02,  4.0997e-02, -1.2185e-02, -3.2710e-02, -5.9997e-02],\n",
            "        [-6.3996e-02, -5.1437e-02, -6.5907e-02,  1.3786e-01, -5.6849e-02,\n",
            "         -9.3786e-02,  2.9988e-02,  3.4595e-03, -1.4885e-01,  9.1469e-03],\n",
            "        [-7.0023e-02, -1.1999e-02, -7.2694e-02,  2.5932e-01, -4.0750e-02,\n",
            "         -7.6198e-02,  5.9965e-02, -8.7864e-02, -5.5959e-02, -8.8677e-02],\n",
            "        [-3.9918e-02, -6.3873e-02, -7.6528e-02,  1.9962e-01, -9.1126e-02,\n",
            "         -3.3938e-02, -1.8169e-02, -8.2500e-02, -1.1724e-01, -1.2128e-02],\n",
            "        [-7.3671e-02,  3.2518e-02, -1.4438e-01,  1.9728e-01, -1.1675e-01,\n",
            "         -1.1337e-01,  5.2859e-02, -1.1629e-02,  7.3567e-03, -3.1934e-02],\n",
            "        [-8.6800e-02, -1.2320e-02, -5.1950e-02,  1.6988e-01, -1.1110e-01,\n",
            "         -8.8217e-02,  1.4211e-01, -1.0036e-02,  1.3257e-02, -5.1880e-02],\n",
            "        [-6.7162e-02,  1.5026e-02, -1.0431e-01,  1.9434e-01, -3.5012e-02,\n",
            "         -7.9050e-03,  6.3506e-02, -6.6851e-02,  3.4822e-02, -5.9156e-02],\n",
            "        [-7.2996e-02, -1.2561e-02, -1.0828e-01,  2.2622e-01, -9.2627e-02,\n",
            "         -9.2129e-02,  4.8313e-02, -8.8889e-02, -1.1820e-01, -1.9237e-02],\n",
            "        [-1.1243e-01, -3.8625e-02, -6.2981e-02,  1.8081e-01, -4.8390e-02,\n",
            "         -1.2488e-03,  6.4576e-02, -5.9419e-02, -1.3774e-02, -4.6470e-02],\n",
            "        [-9.3577e-02,  5.8639e-02, -1.0616e-01,  2.1783e-01, -8.6681e-02,\n",
            "         -1.2856e-01,  6.6819e-02, -2.5250e-02, -6.1747e-02, -5.1777e-02],\n",
            "        [-5.4900e-02, -6.8217e-03, -8.8485e-02,  1.7056e-01, -4.5666e-02,\n",
            "         -1.1382e-01,  8.8222e-02, -9.1596e-02, -2.6934e-02,  3.0066e-02],\n",
            "        [-5.8377e-02, -3.8170e-03, -7.5412e-02,  1.7377e-01, -1.1991e-01,\n",
            "         -8.4424e-02,  7.0084e-02, -4.2058e-02, -5.4083e-02, -1.0024e-01],\n",
            "        [-6.6426e-02,  1.2261e-03, -6.5993e-02,  1.9037e-01, -9.6558e-02,\n",
            "         -1.0515e-01,  4.4821e-02, -2.2387e-02, -5.7225e-02,  4.4069e-02],\n",
            "        [-1.3690e-01, -1.4812e-02, -6.6047e-02,  2.4720e-01, -8.9710e-02,\n",
            "         -5.1829e-02, -2.1278e-02, -8.8422e-02, -5.5283e-02, -9.0038e-02],\n",
            "        [-9.7990e-02,  7.8349e-02, -1.7408e-01,  3.2045e-01, -1.0065e-01,\n",
            "         -7.9798e-02,  7.9199e-02,  4.9922e-03, -2.5820e-02, -1.9738e-02],\n",
            "        [-7.1993e-02, -2.2220e-02, -7.0369e-02,  2.4621e-01, -1.3716e-01,\n",
            "         -7.3597e-02,  6.4741e-02, -2.5884e-02, -3.7326e-02,  1.8191e-02],\n",
            "        [-3.0573e-02, -3.7957e-02, -6.5774e-02,  2.2334e-01, -8.7421e-02,\n",
            "         -9.1277e-02,  3.4052e-02, -1.8867e-02, -9.7134e-02, -6.3604e-02],\n",
            "        [-9.5325e-02, -1.2029e-02, -1.5638e-01,  2.5849e-01, -1.0027e-01,\n",
            "         -1.1067e-01,  6.5699e-02, -6.6096e-02, -6.5585e-02, -3.4780e-02],\n",
            "        [-9.9566e-02,  3.7398e-02, -6.8420e-02,  1.9384e-01, -5.2865e-02,\n",
            "         -9.3536e-02,  9.3327e-02,  5.7175e-03, -5.3345e-02, -6.6115e-02],\n",
            "        [-1.3783e-01, -4.6464e-02, -9.3017e-02,  1.6069e-01, -6.5747e-02,\n",
            "          2.5087e-02,  4.1513e-03, -8.4657e-02, -2.0449e-02, -3.3207e-02],\n",
            "        [-1.1216e-01, -3.9459e-02, -1.4951e-01,  2.1758e-01,  1.9259e-02,\n",
            "         -1.0520e-01,  1.2453e-02,  2.4553e-02, -3.5144e-02, -1.0214e-01],\n",
            "        [-5.9286e-02,  1.6724e-02, -8.1782e-02,  2.4321e-01, -3.9549e-02,\n",
            "          1.1557e-02,  4.7296e-02, -1.2140e-01, -3.3445e-02, -6.0756e-02],\n",
            "        [-8.4752e-02,  2.8258e-02, -1.9089e-01,  2.4910e-01, -1.2364e-02,\n",
            "         -4.0802e-03,  1.4257e-02, -9.0109e-02, -5.9109e-02, -3.6323e-02],\n",
            "        [-5.3637e-02,  1.0159e-01, -1.4009e-01,  2.7522e-01, -3.6204e-02,\n",
            "         -3.2357e-02,  5.4326e-02, -3.4780e-02, -6.1981e-02, -1.9376e-02],\n",
            "        [-5.3557e-02,  6.8546e-02, -1.0477e-01,  2.1695e-01, -4.1242e-02,\n",
            "         -9.6274e-02,  1.0825e-01,  3.9686e-02, -1.0569e-02, -3.3751e-03],\n",
            "        [-6.7030e-02,  3.3449e-02, -1.0684e-01,  2.3708e-01, -3.2634e-02,\n",
            "         -3.8735e-02,  6.0048e-02,  1.5040e-03, -3.4054e-02, -4.1146e-02],\n",
            "        [-1.0639e-01,  9.3295e-02, -8.6843e-02,  2.4099e-01, -4.6654e-02,\n",
            "         -4.8760e-02,  8.1741e-02,  2.5637e-02, -5.6852e-02,  2.7473e-02],\n",
            "        [-7.2324e-02, -9.4556e-03, -4.0745e-02,  2.2294e-01, -1.3152e-01,\n",
            "         -6.5284e-02,  7.5004e-02, -1.1869e-01, -4.5686e-02,  2.1445e-02],\n",
            "        [-1.6852e-02,  1.1542e-02, -1.1529e-01,  1.5491e-01, -5.0962e-02,\n",
            "         -5.7114e-03, -3.2148e-02, -1.1953e-01, -9.5747e-02, -2.0904e-02],\n",
            "        [-1.1138e-01,  3.4150e-02, -1.5300e-01,  2.3871e-01, -8.1632e-02,\n",
            "         -8.4181e-02,  4.0129e-02, -6.9064e-02, -6.3748e-02, -8.4882e-02],\n",
            "        [-1.6216e-01, -3.4688e-02, -1.4536e-01,  1.7254e-01, -1.8540e-03,\n",
            "          3.5299e-02,  6.2720e-02, -1.0349e-01, -5.9550e-02, -4.4047e-02],\n",
            "        [-6.9313e-02, -1.5311e-02, -5.4634e-02,  2.6204e-01, -1.1865e-01,\n",
            "         -1.0025e-01,  7.2511e-02, -6.2146e-02, -2.5714e-02, -1.0722e-02],\n",
            "        [-6.0754e-02, -7.1568e-03, -9.2315e-02,  1.5586e-01, -1.2990e-01,\n",
            "         -1.0987e-01,  7.1893e-02, -8.3702e-03, -7.5287e-02, -1.1238e-01],\n",
            "        [-9.1075e-02,  6.7676e-02, -3.5813e-02,  1.3176e-01,  3.3420e-02,\n",
            "         -3.7281e-02,  7.8242e-02, -5.0457e-02, -5.3980e-02,  1.4025e-02],\n",
            "        [-5.2402e-02, -4.1198e-02, -1.7567e-01,  2.8480e-01, -4.7943e-02,\n",
            "         -3.5073e-02,  9.0758e-02, -1.2439e-01, -6.2268e-02, -6.8476e-02],\n",
            "        [-1.3455e-01,  2.2926e-02, -1.0636e-01,  1.9793e-01, -1.0111e-02,\n",
            "         -1.0320e-01,  1.2944e-01, -7.2295e-02,  6.5093e-02, -5.2171e-02],\n",
            "        [-6.1550e-02, -4.3279e-02, -7.4683e-02,  2.6235e-01, -3.9736e-02,\n",
            "         -1.1857e-01,  5.0032e-02, -1.2891e-02, -5.2502e-02, -1.4105e-02],\n",
            "        [-4.4897e-02,  4.6528e-02, -2.7419e-02,  1.9056e-01, -6.8753e-02,\n",
            "         -7.7864e-02,  2.9305e-04, -6.3479e-02, -5.9375e-02, -5.0248e-02],\n",
            "        [-8.5573e-02, -1.8907e-03, -1.5080e-01,  2.2547e-01, -2.5653e-02,\n",
            "         -2.6044e-02,  7.0017e-03,  2.0620e-02, -7.1063e-02,  4.5195e-02],\n",
            "        [-1.0716e-01,  5.6800e-02, -7.5079e-02,  2.8052e-01, -1.6016e-01,\n",
            "         -1.7265e-02,  4.6649e-02, -1.3814e-01, -8.5640e-02, -1.0709e-01],\n",
            "        [-7.4215e-02,  1.7722e-02, -1.2266e-01,  1.6433e-01, -7.9965e-02,\n",
            "         -1.1233e-01,  1.0757e-01, -5.1680e-02, -8.3172e-03, -2.8322e-02],\n",
            "        [-4.2556e-02,  5.5037e-02, -9.4746e-02,  2.3379e-01,  3.4470e-04,\n",
            "         -7.2678e-02,  1.2958e-01, -3.9656e-02,  8.8680e-03,  7.2908e-02],\n",
            "        [-6.1467e-02, -1.2755e-02, -1.6175e-01,  2.0130e-01, -6.5820e-02,\n",
            "         -1.1508e-01,  7.4433e-02, -1.2580e-01, -5.6571e-02,  6.0249e-03]])\n",
            "[3 3 3 3 3 3 3 3 3 3 3 3 3 3 3 3 3 3 3 3 3 3 3 3 3 3 3 3 3 3 3 3 3 3 3 3 3\n",
            " 3 3 3 3 3 3 3 3 3 3 3 3 3 3 3 3 3 3 3 3 3 3 3 3 3 3 3]\n"
          ]
        }
      ],
      "source": [
        "pred = pred.detach()\n",
        "print(\"Prediction(1 sample):\\n\", pred)\n",
        "digits = np.argmax(pred.cpu().numpy(), axis=1)\n",
        "print(digits)"
      ]
    }
  ],
  "metadata": {
    "kernelspec": {
      "display_name": "Python 3 (ipykernel)",
      "language": "python",
      "name": "python3"
    },
    "language_info": {
      "codemirror_mode": {
        "name": "ipython",
        "version": 3
      },
      "file_extension": ".py",
      "mimetype": "text/x-python",
      "name": "python",
      "nbconvert_exporter": "python",
      "pygments_lexer": "ipython3",
      "version": "3.11.4"
    },
    "colab": {
      "provenance": []
    }
  },
  "nbformat": 4,
  "nbformat_minor": 5
}